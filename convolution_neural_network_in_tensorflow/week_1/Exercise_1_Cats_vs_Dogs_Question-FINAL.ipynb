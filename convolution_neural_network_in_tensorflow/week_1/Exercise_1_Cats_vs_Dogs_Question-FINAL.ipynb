{
 "cells": [
  {
   "cell_type": "code",
   "execution_count": 1,
   "metadata": {},
   "outputs": [],
   "source": [
    "# ATTENTION: Please do not alter any of the provided code in the exercise. Only add your own code where indicated\n",
    "# ATTENTION: Please do not add or remove any cells in the exercise. The grader will check specific cells based on the cell position.\n",
    "# ATTENTION: Please use the provided epoch values when training.\n",
    "\n",
    "# In this exercise you will train a CNN on the FULL Cats-v-dogs dataset\n",
    "# This will require you doing a lot of data preprocessing because\n",
    "# the dataset isn't split into training and validation for you\n",
    "# This code block has all the required inputs\n",
    "import os\n",
    "import zipfile\n",
    "import random\n",
    "import tensorflow as tf\n",
    "import shutil\n",
    "from tensorflow.keras.optimizers import RMSprop\n",
    "from tensorflow.keras.preprocessing.image import ImageDataGenerator\n",
    "from shutil import copyfile\n",
    "from os import getcwd"
   ]
  },
  {
   "cell_type": "code",
   "execution_count": 2,
   "metadata": {},
   "outputs": [],
   "source": [
    "#path_cats_and_dogs = \"../tmp2/cats-and-dogs.zip\"\n",
    "#shutil.rmtree('/tmp')\n",
    "path_cats_and_dogs = f\"{getcwd()}/../tmp2/cats-and-dogs.zip\"\n",
    "shutil.rmtree('/tmp')\n",
    "local_zip = path_cats_and_dogs\n",
    "zip_ref = zipfile.ZipFile(local_zip, 'r')\n",
    "zip_ref.extractall('/tmp')\n",
    "zip_ref.close()\n"
   ]
  },
  {
   "cell_type": "code",
   "execution_count": 3,
   "metadata": {},
   "outputs": [
    {
     "name": "stdout",
     "output_type": "stream",
     "text": [
      "1500\n",
      "1500\n"
     ]
    }
   ],
   "source": [
    "print(len(os.listdir('/tmp/PetImages/Cat/')))\n",
    "print(len(os.listdir('/tmp/PetImages/Dog/')))\n",
    "\n",
    "# Expected Output:\n",
    "# 1500\n",
    "# 1500"
   ]
  },
  {
   "cell_type": "code",
   "execution_count": 7,
   "metadata": {},
   "outputs": [],
   "source": [
    "create_directories = [\n",
    "    \"../tmp2/dipesh\",\n",
    "    \"../tmp2/dipesh/cats-and-dogs\",\n",
    "    \"../tmp2/dipesh/cats-and-dogs/training\",\n",
    "    \"../tmp2/dipesh/cats-and-dogs/testing\",\n",
    "    \"../tmp2/dipesh/cats-and-dogs/training/cats\",\n",
    "    \"../tmp2/dipesh/cats-and-dogs/training/dogs\",\n",
    "    \"../tmp2/dipesh/cats-and-dogs/testing/cats\",\n",
    "    \"../tmp2/dipesh/cats-and-dogs/testing/dogs\"\n",
    "]"
   ]
  },
  {
   "cell_type": "code",
   "execution_count": 8,
   "metadata": {},
   "outputs": [
    {
     "name": "stdout",
     "output_type": "stream",
     "text": [
      "../tmp2/dipesh Directory created\n",
      "../tmp2/dipesh/cats-and-dogs Directory created\n",
      "../tmp2/dipesh/cats-and-dogs/training Directory created\n",
      "../tmp2/dipesh/cats-and-dogs/testing Directory created\n",
      "../tmp2/dipesh/cats-and-dogs/training/cats Directory created\n",
      "../tmp2/dipesh/cats-and-dogs/training/dogs Directory created\n",
      "../tmp2/dipesh/cats-and-dogs/testing/cats Directory created\n",
      "../tmp2/dipesh/cats-and-dogs/testing/dogs Directory created\n"
     ]
    }
   ],
   "source": [
    "# Use os.mkdir to create your directories\n",
    "# You will need a directory for cats-v-dogs, and subdirectories for training\n",
    "# and testing. These in turn will need subdirectories for 'cats' and 'dogs'\n",
    "for directory in create_directories:\n",
    "    try:\n",
    "        os.mkdir(directory)\n",
    "        print(directory, \"Directory created\")\n",
    "        #YOUR CODE GOES HERE\n",
    "    except OSError:\n",
    "        print(directory, \"Directory Failed\")\n",
    "        pass"
   ]
  },
  {
   "cell_type": "code",
   "execution_count": 9,
   "metadata": {},
   "outputs": [],
   "source": [
    "# Write a python function called split_data which takes\n",
    "# a SOURCE directory containing the files\n",
    "# a TRAINING directory that a portion of the files will be copied to\n",
    "# a TESTING directory that a portion of the files will be copie to\n",
    "# a SPLIT SIZE to determine the portion\n",
    "# The files should also be randomized, so that the training set is a random\n",
    "# X% of the files, and the test set is the remaining files\n",
    "# SO, for example, if SOURCE is PetImages/Cat, and SPLIT SIZE is .9\n",
    "# Then 90% of the images in PetImages/Cat will be copied to the TRAINING dir\n",
    "# and 10% of the images will be copied to the TESTING dir\n",
    "# Also -- All images should be checked, and if they have a zero file length,\n",
    "# they will not be copied over\n",
    "#\n",
    "# os.listdir(DIRECTORY) gives you a listing of the contents of that directory\n",
    "# os.path.getsize(PATH) gives you the size of the file\n",
    "# copyfile(source, destination) copies a file from source to destination\n",
    "# random.sample(list, len(list)) shuffles a list\n",
    "def split_data(SOURCE, TRAINING, TESTING, SPLIT_SIZE):\n",
    "    all_files = []\n",
    "    \n",
    "    for file_name in os.listdir(SOURCE):\n",
    "        file_path = SOURCE + file_name\n",
    "\n",
    "        if os.path.getsize(file_path):\n",
    "            all_files.append(file_name)\n",
    "        else:\n",
    "            print('{} is zero length, so ignoring'.format(file_name))\n",
    "    \n",
    "    n_files = len(all_files)\n",
    "    split_point = int(n_files * SPLIT_SIZE)\n",
    "    \n",
    "    shuffled = random.sample(all_files, n_files)\n",
    "    \n",
    "    train_set = shuffled[:split_point]\n",
    "    test_set = shuffled[split_point:]\n",
    "    \n",
    "    for file_name in train_set:\n",
    "        copyfile(SOURCE + file_name, TRAINING + file_name)\n",
    "        \n",
    "    for file_name in test_set:\n",
    "        copyfile(SOURCE + file_name, TESTING + file_name)\n",
    "# YOUR CODE STARTS HERE\n",
    "# YOUR CODE ENDS HERE\n",
    "\n",
    "\n",
    "CAT_SOURCE_DIR = \"/tmp/PetImages/Cat/\"\n",
    "TRAINING_CATS_DIR = \"../tmp2/dipesh/cats-and-dogs/training/cats/\"\n",
    "TESTING_CATS_DIR = \"../tmp2/dipesh/cats-and-dogs/testing/cats/\"\n",
    "DOG_SOURCE_DIR = \"/tmp/PetImages/Dog/\"\n",
    "TRAINING_DOGS_DIR = \"../tmp2/dipesh/cats-and-dogs/training/dogs/\"\n",
    "TESTING_DOGS_DIR = \"../tmp2/dipesh/cats-and-dogs/testing/dogs/\"\n",
    "\n",
    "split_size = .9\n",
    "split_data(CAT_SOURCE_DIR, TRAINING_CATS_DIR, TESTING_CATS_DIR, split_size)\n",
    "split_data(DOG_SOURCE_DIR, TRAINING_DOGS_DIR, TESTING_DOGS_DIR, split_size)"
   ]
  },
  {
   "cell_type": "code",
   "execution_count": 11,
   "metadata": {},
   "outputs": [
    {
     "name": "stdout",
     "output_type": "stream",
     "text": [
      "1350\n",
      "1350\n",
      "150\n",
      "150\n"
     ]
    }
   ],
   "source": [
    "print(len(os.listdir('../tmp2/dipesh/cats-and-dogs/training/cats')))\n",
    "print(len(os.listdir('../tmp2/dipesh/cats-and-dogs/training/dogs')))\n",
    "print(len(os.listdir('../tmp2/dipesh/cats-and-dogs/testing/cats')))\n",
    "print(len(os.listdir('../tmp2/dipesh/cats-and-dogs/testing/dogs')))\n",
    "\n",
    "# Expected output:\n",
    "# 1350\n",
    "# 1350\n",
    "# 150\n",
    "# 150"
   ]
  },
  {
   "cell_type": "code",
   "execution_count": 12,
   "metadata": {},
   "outputs": [],
   "source": [
    "# DEFINE A KERAS MODEL TO CLASSIFY CATS V DOGS\n",
    "# USE AT LEAST 3 CONVOLUTION LAYERS\n",
    "model = tf.keras.models.Sequential([\n",
    "        # Note the input shape is the desired size of the image 150x150 with 3 bytes color\n",
    "    tf.keras.layers.Conv2D(16, (3,3), activation='relu', input_shape=(150, 150, 3)),\n",
    "    tf.keras.layers.MaxPooling2D(2,2),\n",
    "    tf.keras.layers.Conv2D(32, (3,3), activation='relu'),\n",
    "    tf.keras.layers.MaxPooling2D(2,2), \n",
    "    tf.keras.layers.Conv2D(64, (3,3), activation='relu'), \n",
    "    tf.keras.layers.MaxPooling2D(2,2),\n",
    "    # Flatten the results to feed into a DNN\n",
    "    tf.keras.layers.Flatten(), \n",
    "    # 512 neuron hidden layer\n",
    "    tf.keras.layers.Dense(512, activation='relu'), \n",
    "    # Only 1 output neuron. It will contain a value from 0-1 where 0 for 1 class ('cats') and 1 for the other ('dogs')\n",
    "    tf.keras.layers.Dense(1, activation='sigmoid') \n",
    "# YOUR CODE HERE\n",
    "])\n",
    "\n",
    "model.compile(optimizer=RMSprop(lr=0.001), loss='binary_crossentropy', metrics=['acc'])"
   ]
  },
  {
   "cell_type": "markdown",
   "metadata": {},
   "source": [
    "# NOTE:\n",
    "\n",
    "In the cell below you **MUST** use a batch size of 10 (`batch_size=10`) for the `train_generator` and the `validation_generator`. Using a batch size greater than 10 will exceed memory limits on the Coursera platform."
   ]
  },
  {
   "cell_type": "code",
   "execution_count": 13,
   "metadata": {},
   "outputs": [
    {
     "name": "stdout",
     "output_type": "stream",
     "text": [
      "Found 2700 images belonging to 2 classes.\n",
      "Found 300 images belonging to 2 classes.\n"
     ]
    }
   ],
   "source": [
    "TRAINING_DIR = '../tmp2/dipesh/cats-and-dogs/training'#YOUR CODE HERE\n",
    "train_datagen = ImageDataGenerator(rescale=1 / 255)#YOUR CODE HERE\n",
    "\n",
    "# NOTE: YOU MUST USE A BATCH SIZE OF 10 (batch_size=10) FOR THE \n",
    "# TRAIN GENERATOR.\n",
    "train_generator = train_datagen.flow_from_directory(\n",
    "    TRAINING_DIR,\n",
    "    batch_size=10,\n",
    "    class_mode='binary',\n",
    "    target_size=(150, 150)\n",
    ")#YOUR CODE HERE\n",
    "\n",
    "VALIDATION_DIR = '../tmp2/dipesh/cats-and-dogs/testing'#YOUR CODE HERE\n",
    "validation_datagen = ImageDataGenerator(rescale= 1/255)#YOUR CODE HERE\n",
    "\n",
    "# NOTE: YOU MUST USE A BACTH SIZE OF 10 (batch_size=10) FOR THE \n",
    "# VALIDATION GENERATOR.\n",
    "validation_generator = validation_datagen.flow_from_directory(\n",
    "    VALIDATION_DIR,\n",
    "    batch_size=10,\n",
    "    class_mode='binary',\n",
    "    target_size=(150, 150)\n",
    ")#YOUR CODE HERE\n",
    "\n",
    "\n",
    "\n",
    "# Expected Output:\n",
    "# Found 2700 images belonging to 2 classes.\n",
    "# Found 300 images belonging to 2 classes."
   ]
  },
  {
   "cell_type": "code",
   "execution_count": 16,
   "metadata": {},
   "outputs": [
    {
     "name": "stdout",
     "output_type": "stream",
     "text": [
      "Epoch 1/20\n",
      "270/270 [==============================] - 74s 274ms/step - loss: 0.5073 - acc: 0.7570 - val_loss: 0.6169 - val_acc: 0.7167\n",
      "Epoch 2/20\n",
      "270/270 [==============================] - 73s 269ms/step - loss: 0.4414 - acc: 0.8063 - val_loss: 0.6057 - val_acc: 0.7233\n",
      "Epoch 3/20\n",
      "270/270 [==============================] - 74s 272ms/step - loss: 0.3651 - acc: 0.8459 - val_loss: 0.8779 - val_acc: 0.6933\n",
      "Epoch 4/20\n",
      "270/270 [==============================] - 74s 273ms/step - loss: 0.2885 - acc: 0.8815 - val_loss: 0.7716 - val_acc: 0.7133\n",
      "Epoch 5/20\n",
      "270/270 [==============================] - 75s 278ms/step - loss: 0.2330 - acc: 0.9107 - val_loss: 0.9779 - val_acc: 0.7100\n",
      "Epoch 6/20\n",
      "270/270 [==============================] - 73s 269ms/step - loss: 0.1648 - acc: 0.9341 - val_loss: 1.3431 - val_acc: 0.7400\n",
      "Epoch 7/20\n",
      "270/270 [==============================] - 72s 266ms/step - loss: 0.1108 - acc: 0.9585 - val_loss: 1.6820 - val_acc: 0.7033\n",
      "Epoch 8/20\n",
      "270/270 [==============================] - 79s 293ms/step - loss: 0.0926 - acc: 0.9678 - val_loss: 1.7443 - val_acc: 0.7100\n",
      "Epoch 9/20\n",
      "270/270 [==============================] - 72s 268ms/step - loss: 0.0803 - acc: 0.9756 - val_loss: 2.4710 - val_acc: 0.7067\n",
      "Epoch 10/20\n",
      "270/270 [==============================] - 70s 258ms/step - loss: 0.0728 - acc: 0.9796 - val_loss: 2.1680 - val_acc: 0.7200\n",
      "Epoch 11/20\n",
      "270/270 [==============================] - 69s 254ms/step - loss: 0.0701 - acc: 0.9789 - val_loss: 2.3705 - val_acc: 0.7033\n",
      "Epoch 12/20\n",
      "270/270 [==============================] - 69s 254ms/step - loss: 0.1051 - acc: 0.9804 - val_loss: 2.5667 - val_acc: 0.6900\n",
      "Epoch 13/20\n",
      "270/270 [==============================] - 69s 255ms/step - loss: 0.0686 - acc: 0.9837 - val_loss: 2.9919 - val_acc: 0.7200\n",
      "Epoch 14/20\n",
      "270/270 [==============================] - 70s 261ms/step - loss: 0.0491 - acc: 0.9881 - val_loss: 3.5320 - val_acc: 0.6967\n",
      "Epoch 15/20\n",
      "270/270 [==============================] - 69s 254ms/step - loss: 0.0398 - acc: 0.9878 - val_loss: 2.4303 - val_acc: 0.6833\n",
      "Epoch 16/20\n",
      "270/270 [==============================] - 69s 254ms/step - loss: 0.0802 - acc: 0.9852 - val_loss: 4.2670 - val_acc: 0.7133\n",
      "Epoch 17/20\n",
      "270/270 [==============================] - 68s 253ms/step - loss: 0.0363 - acc: 0.9896 - val_loss: 4.5338 - val_acc: 0.7100\n",
      "Epoch 18/20\n",
      "270/270 [==============================] - 69s 255ms/step - loss: 0.0286 - acc: 0.9930 - val_loss: 4.8164 - val_acc: 0.7233\n",
      "Epoch 19/20\n",
      "270/270 [==============================] - 68s 253ms/step - loss: 0.0390 - acc: 0.9922 - val_loss: 5.9006 - val_acc: 0.7067\n",
      "Epoch 20/20\n",
      "270/270 [==============================] - 69s 254ms/step - loss: 0.0536 - acc: 0.9907 - val_loss: 7.8340 - val_acc: 0.5867\n"
     ]
    }
   ],
   "source": [
    "history = model.fit_generator(train_generator,\n",
    "                              epochs=20,\n",
    "                              verbose=1,\n",
    "                              validation_data=validation_generator)\n"
   ]
  },
  {
   "cell_type": "code",
   "execution_count": 17,
   "metadata": {},
   "outputs": [
    {
     "data": {
      "text/plain": [
       "Text(0.5, 1.0, 'Training and validation loss')"
      ]
     },
     "execution_count": 17,
     "metadata": {},
     "output_type": "execute_result"
    },
    {
     "data": {
      "image/png": "[encoded data removed]",
      "text/plain": [
       "<Figure size 432x288 with 1 Axes>"
      ]
     },
     "metadata": {
      "needs_background": "light"
     },
     "output_type": "display_data"
    },
    {
     "data": {
      "image/png": "[encoded data removed]",
      "text/plain": [
       "<Figure size 432x288 with 1 Axes>"
      ]
     },
     "metadata": {
      "needs_background": "light"
     },
     "output_type": "display_data"
    }
   ],
   "source": [
    "# PLOT LOSS AND ACCURACY\n",
    "%matplotlib inline\n",
    "\n",
    "import matplotlib.image  as mpimg\n",
    "import matplotlib.pyplot as plt\n",
    "\n",
    "#-----------------------------------------------------------\n",
    "# Retrieve a list of list results on training and test data\n",
    "# sets for each training epoch\n",
    "#-----------------------------------------------------------\n",
    "acc=history.history['acc']\n",
    "val_acc=history.history['val_acc']\n",
    "loss=history.history['loss']\n",
    "val_loss=history.history['val_loss']\n",
    "\n",
    "epochs=range(len(acc)) # Get number of epochs\n",
    "\n",
    "#------------------------------------------------\n",
    "# Plot training and validation accuracy per epoch\n",
    "#------------------------------------------------\n",
    "plt.plot(epochs, acc, 'r', \"Training Accuracy\")\n",
    "plt.plot(epochs, val_acc, 'b', \"Validation Accuracy\")\n",
    "plt.title('Training and validation accuracy')\n",
    "plt.figure()\n",
    "\n",
    "#------------------------------------------------\n",
    "# Plot training and validation loss per epoch\n",
    "#------------------------------------------------\n",
    "plt.plot(epochs, loss, 'r', \"Training Loss\")\n",
    "plt.plot(epochs, val_loss, 'b', \"Validation Loss\")\n",
    "\n",
    "\n",
    "plt.title('Training and validation loss')\n",
    "\n",
    "# Desired output. Charts with training and validation metrics. No crash :)"
   ]
  },
  {
   "cell_type": "code",
   "execution_count": null,
   "metadata": {},
   "outputs": [],
   "source": []
  }
 ],
 "metadata": {
  "kernelspec": {
   "display_name": "Python 3",
   "language": "python",
   "name": "python3"
  },
  "language_info": {
   "codemirror_mode": {
    "name": "ipython",
    "version": 3
   },
   "file_extension": ".py",
   "mimetype": "text/x-python",
   "name": "python",
   "nbconvert_exporter": "python",
   "pygments_lexer": "ipython3",
   "version": "3.7.3"
  }
 },
 "nbformat": 4,
 "nbformat_minor": 2
}
