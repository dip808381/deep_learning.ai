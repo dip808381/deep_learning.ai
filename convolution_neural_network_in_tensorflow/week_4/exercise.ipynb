{
 "cells": [
  {
   "cell_type": "code",
   "execution_count": 43,
   "metadata": {},
   "outputs": [],
   "source": [
    "# ATTENTION: Please do not alter any of the provided code in the exercise. Only add your own code where indicated\n",
    "# ATTENTION: Please do not add or remove any cells in the exercise. The grader will check specific cells based on the cell position.\n",
    "# ATTENTION: Please use the provided epoch values when training.\n",
    "\n",
    "import csv\n",
    "import numpy as np\n",
    "import tensorflow as tf\n",
    "from tensorflow.keras.preprocessing.image import ImageDataGenerator\n",
    "from os import getcwd\n",
    "import pandas as pd"
   ]
  },
  {
   "cell_type": "code",
   "execution_count": 44,
   "metadata": {},
   "outputs": [
    {
     "name": "stdout",
     "output_type": "stream",
     "text": [
      "(27455, 28, 28)\n",
      "(27455,)\n",
      "(7172, 28, 28)\n",
      "(7172,)\n"
     ]
    }
   ],
   "source": [
    "def get_data(filename):\n",
    "  # You will need to write code that will read the file passed\n",
    "  # into this function. The first line contains the column headers\n",
    "  # so you should ignore it\n",
    "  # Each successive line contians 785 comma separated values between 0 and 255\n",
    "  # The first value is the label\n",
    "  # The rest are the pixel values for that picture\n",
    "  # The function will return 2 np.array types. One with all the labels\n",
    "  # One with all the images\n",
    "  #\n",
    "  # Tips: \n",
    "  # If you read a full line (as 'row') then row[0] has the label\n",
    "  # and row[1:785] has the 784 pixel values\n",
    "  # Take a look at np.array_split to turn the 784 pixels into 28x28\n",
    "  # You are reading in strings, but need the values to be floats\n",
    "  # Check out np.array().astype for a conversion\n",
    "    with open(filename) as training_file:\n",
    "      # Your code starts here\n",
    "      # Your code ends here \n",
    "        reader = csv.reader(training_file, delimiter=',')\n",
    "        imgs = []\n",
    "        labels = []\n",
    "\n",
    "        next(reader, None)\n",
    "\n",
    "        for row in reader:\n",
    "            label = row[0]\n",
    "            pixel = row[1:]\n",
    "            img = np.array(pixel).reshape((28, 28))\n",
    "\n",
    "            imgs.append(img)\n",
    "            labels.append(label)\n",
    "\n",
    "        images = np.array(imgs).astype(float)\n",
    "        labels = np.array(labels).astype(float)\n",
    "    return images, labels\n",
    "\n",
    "path_sign_mnist_train = f\"{getcwd()}/../tmp2/sign_mnist_train.csv\"\n",
    "path_sign_mnist_test = f\"{getcwd()}/../tmp2/sign_mnist_test.csv\"\n",
    "training_images, training_labels = get_data(path_sign_mnist_train)\n",
    "testing_images, testing_labels = get_data(path_sign_mnist_test)\n",
    "\n",
    "# Keep these\n",
    "print(training_images.shape)\n",
    "print(training_labels.shape)\n",
    "print(testing_images.shape)\n",
    "print(testing_labels.shape)\n",
    "\n",
    "# Their output should be:\n",
    "# (27455, 28, 28)\n",
    "# (27455,)\n",
    "# (7172, 28, 28)\n",
    "# (7172,)"
   ]
  },
  {
   "cell_type": "code",
   "execution_count": 45,
   "metadata": {},
   "outputs": [
    {
     "name": "stdout",
     "output_type": "stream",
     "text": [
      "(27455, 28, 28, 1)\n",
      "(7172, 28, 28, 1)\n"
     ]
    }
   ],
   "source": [
    "# In this section you will have to add another dimension to the data\n",
    "# So, for example, if your array is (10000, 28, 28)\n",
    "# You will need to make it (10000, 28, 28, 1)\n",
    "# Hint: np.expand_dims\n",
    "\n",
    "training_images = np.expand_dims(training_images, axis = 3)# Your Code Here\n",
    "testing_images = np.expand_dims(testing_images, axis = 3)# Your Code Here\n",
    "\n",
    "# Create an ImageDataGenerator and do Image Augmentation\n",
    "train_datagen = ImageDataGenerator(\n",
    "      rescale = 1./255,\n",
    "      rotation_range=40,\n",
    "      width_shift_range=0.2,\n",
    "      height_shift_range=0.2,\n",
    "      shear_range=0.2,\n",
    "      zoom_range=0.2,\n",
    "      horizontal_flip=True,\n",
    "      fill_mode='nearest')\n",
    "\n",
    "validation_datagen = ImageDataGenerator(rescale = 1./255)\n",
    "    # Your Code Here)\n",
    "    \n",
    "# Keep These\n",
    "print(training_images.shape)\n",
    "print(testing_images.shape)\n",
    "    \n",
    "# Their output should be:\n",
    "# (27455, 28, 28, 1)\n",
    "# (7172, 28, 28, 1)"
   ]
  },
  {
   "cell_type": "code",
   "execution_count": 46,
   "metadata": {},
   "outputs": [],
   "source": [
    "train_generator = train_datagen.flow(\n",
    "    training_images,\n",
    "    training_labels,\n",
    "  batch_size=64\n",
    ")\n",
    "\n",
    "validation_generator = validation_datagen.flow(\n",
    "    testing_images,\n",
    "    testing_labels,\n",
    "  batch_size=64\n",
    ")"
   ]
  },
  {
   "cell_type": "code",
   "execution_count": 52,
   "metadata": {},
   "outputs": [
    {
     "name": "stdout",
     "output_type": "stream",
     "text": [
      "Epoch 1/25\n",
      "429/429 [==============================] - 22s 50ms/step - loss: 3.0175 - accuracy: 0.1005 - val_loss: 1.9608 - val_accuracy: 0.4031\n",
      "Epoch 2/25\n",
      "429/429 [==============================] - 22s 51ms/step - loss: 2.2677 - accuracy: 0.2916 - val_loss: 1.4933 - val_accuracy: 0.4919\n",
      "Epoch 3/25\n",
      "429/429 [==============================] - 22s 51ms/step - loss: 1.8036 - accuracy: 0.4248 - val_loss: 1.4419 - val_accuracy: 0.5038\n",
      "Epoch 4/25\n",
      "429/429 [==============================] - 23s 53ms/step - loss: 1.5318 - accuracy: 0.5034 - val_loss: 1.0123 - val_accuracy: 0.6272\n",
      "Epoch 5/25\n",
      "429/429 [==============================] - 21s 49ms/step - loss: 1.3254 - accuracy: 0.5649 - val_loss: 0.8422 - val_accuracy: 0.6963\n",
      "Epoch 6/25\n",
      "429/429 [==============================] - 22s 52ms/step - loss: 1.1687 - accuracy: 0.6165 - val_loss: 0.7094 - val_accuracy: 0.7627\n",
      "Epoch 7/25\n",
      "429/429 [==============================] - 21s 48ms/step - loss: 1.0564 - accuracy: 0.6555 - val_loss: 0.7253 - val_accuracy: 0.7575\n",
      "Epoch 8/25\n",
      "429/429 [==============================] - 22s 51ms/step - loss: 0.9635 - accuracy: 0.6809 - val_loss: 0.5266 - val_accuracy: 0.8210\n",
      "Epoch 9/25\n",
      "429/429 [==============================] - 22s 52ms/step - loss: 0.8803 - accuracy: 0.7072 - val_loss: 0.6430 - val_accuracy: 0.7754\n",
      "Epoch 10/25\n",
      "429/429 [==============================] - 23s 53ms/step - loss: 0.8097 - accuracy: 0.7260 - val_loss: 0.3828 - val_accuracy: 0.8745\n",
      "Epoch 11/25\n",
      "429/429 [==============================] - 21s 48ms/step - loss: 0.7599 - accuracy: 0.7456 - val_loss: 0.3471 - val_accuracy: 0.8820\n",
      "Epoch 12/25\n",
      "429/429 [==============================] - 20s 47ms/step - loss: 0.6887 - accuracy: 0.7699 - val_loss: 0.3649 - val_accuracy: 0.8696\n",
      "Epoch 13/25\n",
      "429/429 [==============================] - 20s 47ms/step - loss: 0.6537 - accuracy: 0.7824 - val_loss: 0.3601 - val_accuracy: 0.8774\n",
      "Epoch 14/25\n",
      "429/429 [==============================] - 21s 48ms/step - loss: 0.6194 - accuracy: 0.7924 - val_loss: 0.3423 - val_accuracy: 0.8737\n",
      "Epoch 15/25\n",
      "429/429 [==============================] - 23s 54ms/step - loss: 0.5894 - accuracy: 0.8038 - val_loss: 0.3035 - val_accuracy: 0.8915\n",
      "Epoch 16/25\n",
      "429/429 [==============================] - 22s 50ms/step - loss: 0.5467 - accuracy: 0.8207 - val_loss: 0.2385 - val_accuracy: 0.9176\n",
      "Epoch 17/25\n",
      "429/429 [==============================] - 21s 49ms/step - loss: 0.5056 - accuracy: 0.8313 - val_loss: 0.2736 - val_accuracy: 0.9030\n",
      "Epoch 18/25\n",
      "429/429 [==============================] - 21s 48ms/step - loss: 0.5116 - accuracy: 0.8292 - val_loss: 0.2841 - val_accuracy: 0.9010\n",
      "Epoch 19/25\n",
      "429/429 [==============================] - 22s 52ms/step - loss: 0.4839 - accuracy: 0.8400 - val_loss: 0.2360 - val_accuracy: 0.9152\n",
      "Epoch 20/25\n",
      "429/429 [==============================] - 23s 53ms/step - loss: 0.4507 - accuracy: 0.8550 - val_loss: 0.2520 - val_accuracy: 0.9063\n",
      "Epoch 21/25\n",
      "429/429 [==============================] - 21s 49ms/step - loss: 0.4325 - accuracy: 0.8559 - val_loss: 0.3212 - val_accuracy: 0.8890\n",
      "Epoch 22/25\n",
      "429/429 [==============================] - 23s 53ms/step - loss: 0.4250 - accuracy: 0.8602 - val_loss: 0.1479 - val_accuracy: 0.9516\n",
      "Epoch 23/25\n",
      "429/429 [==============================] - 24s 57ms/step - loss: 0.4163 - accuracy: 0.8606 - val_loss: 0.2056 - val_accuracy: 0.9356\n",
      "Epoch 24/25\n",
      "429/429 [==============================] - 22s 52ms/step - loss: 0.3986 - accuracy: 0.8685 - val_loss: 0.1798 - val_accuracy: 0.9435 - loss: 0.3\n",
      "Epoch 25/25\n",
      "429/429 [==============================] - 24s 55ms/step - loss: 0.3891 - accuracy: 0.8710 - val_loss: 0.1679 - val_accuracy: 0.9434\n"
     ]
    },
    {
     "data": {
      "text/plain": [
       "[357.9136657714844, 0.5352760553359985]"
      ]
     },
     "execution_count": 52,
     "metadata": {},
     "output_type": "execute_result"
    }
   ],
   "source": [
    "# Define the model\n",
    "# Use no more than 2 Conv2D and 2 MaxPooling2D\n",
    "model = tf.keras.models.Sequential([\n",
    "    tf.keras.layers.Conv2D(32, (3,3), activation='relu', input_shape=(28, 28, 1)),\n",
    "    tf.keras.layers.MaxPooling2D(2,2),\n",
    "    tf.keras.layers.Conv2D(32, (3,3), activation='relu'),\n",
    "    tf.keras.layers.MaxPooling2D(2,2),\n",
    "    tf.keras.layers.Flatten(),\n",
    "    tf.keras.layers.Dense(512, activation='relu'),\n",
    "    tf.keras.layers.Dense(26, activation='softmax')\n",
    "])\n",
    "\n",
    "# Compile Model. \n",
    "model.compile(loss = 'sparse_categorical_crossentropy', optimizer='adam', metrics=['accuracy'])\n",
    "\n",
    "# Train the Model\n",
    "history = model.fit_generator(train_generator, epochs=25, validation_data = validation_generator)\n",
    "\n",
    "model.evaluate(testing_images, testing_labels, verbose=0)"
   ]
  },
  {
   "cell_type": "code",
   "execution_count": 50,
   "metadata": {},
   "outputs": [
    {
     "data": {
      "image/png": "[encoded data removed]",
      "text/plain": [
       "<Figure size 432x288 with 1 Axes>"
      ]
     },
     "metadata": {
      "needs_background": "light"
     },
     "output_type": "display_data"
    },
    {
     "data": {
      "image/png": "[encoded data removed]",
      "text/plain": [
       "<Figure size 432x288 with 1 Axes>"
      ]
     },
     "metadata": {
      "needs_background": "light"
     },
     "output_type": "display_data"
    }
   ],
   "source": [
    "# Plot the chart for accuracy and loss on both training and validation\n",
    "%matplotlib inline\n",
    "import matplotlib.pyplot as plt\n",
    "acc = history.history['accuracy']\n",
    "val_acc = history.history['val_accuracy']\n",
    "loss = history.history['loss']\n",
    "val_loss = history.history['val_loss']\n",
    "\n",
    "epochs = range(len(acc))\n",
    "\n",
    "plt.plot(epochs, acc, 'r', label='Training accuracy')\n",
    "plt.plot(epochs, val_acc, 'b', label='Validation accuracy')\n",
    "plt.title('Training and validation accuracy')\n",
    "plt.legend()\n",
    "plt.figure()\n",
    "\n",
    "plt.plot(epochs, loss, 'r', label='Training Loss')\n",
    "plt.plot(epochs, val_loss, 'b', label='Validation Loss')\n",
    "plt.title('Training and validation loss')\n",
    "plt.legend()\n",
    "\n",
    "plt.show()"
   ]
  },
  {
   "cell_type": "code",
   "execution_count": null,
   "metadata": {},
   "outputs": [],
   "source": []
  }
 ],
 "metadata": {
  "kernelspec": {
   "display_name": "Python 3",
   "language": "python",
   "name": "python3"
  },
  "language_info": {
   "codemirror_mode": {
    "name": "ipython",
    "version": 3
   },
   "file_extension": ".py",
   "mimetype": "text/x-python",
   "name": "python",
   "nbconvert_exporter": "python",
   "pygments_lexer": "ipython3",
   "version": "3.7.3"
  }
 },
 "nbformat": 4,
 "nbformat_minor": 2
}
