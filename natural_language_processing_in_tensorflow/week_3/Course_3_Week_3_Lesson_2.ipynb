{
  "nbformat": 4,
  "nbformat_minor": 0,
  "metadata": {
    "accelerator": "GPU",
    "colab": {
      "name": "Course 3 - Week 3 - Lesson 2.ipynb",
      "provenance": [],
      "collapsed_sections": [],
      "toc_visible": true
    },
    "kernelspec": {
      "display_name": "Python 3",
      "language": "python",
      "name": "python3"
    },
    "language_info": {
      "codemirror_mode": {
        "name": "ipython",
        "version": 3
      },
      "file_extension": ".py",
      "mimetype": "text/x-python",
      "name": "python",
      "nbconvert_exporter": "python",
      "pygments_lexer": "ipython3",
      "version": "3.7.6"
    }
  },
  "cells": [
    {
      "cell_type": "code",
      "metadata": {
        "id": "zX4Kg8DUTKWO"
      },
      "source": [
        "#@title Licensed under the Apache License, Version 2.0 (the \"License\");\n",
        "# you may not use this file except in compliance with the License.\n",
        "# You may obtain a copy of the License at\n",
        "#\n",
        "# https://www.apache.org/licenses/LICENSE-2.0\n",
        "#\n",
        "# Unless required by applicable law or agreed to in writing, software\n",
        "# distributed under the License is distributed on an \"AS IS\" BASIS,\n",
        "# WITHOUT WARRANTIES OR CONDITIONS OF ANY KIND, either express or implied.\n",
        "# See the License for the specific language governing permissions and\n",
        "# limitations under the License."
      ],
      "execution_count": null,
      "outputs": []
    },
    {
      "cell_type": "markdown",
      "metadata": {
        "id": "1KbzzJguGA7W"
      },
      "source": [
        "<a href=\"https://colab.research.google.com/github/lmoroney/dlaicourse/blob/master/TensorFlow%20In%20Practice/Course%203%20-%20NLP/Course%203%20-%20Week%203%20-%20Lesson%202.ipynb\" target=\"_parent\"><img src=\"https://colab.research.google.com/assets/colab-badge.svg\" alt=\"Open In Colab\"/></a>"
      ]
    },
    {
      "cell_type": "code",
      "metadata": {
        "colab": {
          "base_uri": "https://localhost:8080/"
        },
        "id": "jGwXGIXvFhXW",
        "outputId": "b4199115-6ba6-4e53-8b70-3b284a693ce8"
      },
      "source": [
        "import numpy as np\n",
        "\n",
        "import json\n",
        "import tensorflow as tf\n",
        "\n",
        "from tensorflow.keras.preprocessing.text import Tokenizer\n",
        "from tensorflow.keras.preprocessing.sequence import pad_sequences\n",
        "\n",
        "!wget --no-check-certificate \\\n",
        "    https://storage.googleapis.com/laurencemoroney-blog.appspot.com/sarcasm.json \\\n",
        "    -O /tmp/sarcasm.json\n",
        "\n",
        "vocab_size = 1000\n",
        "embedding_dim = 16\n",
        "max_length = 120\n",
        "trunc_type='post'\n",
        "padding_type='post'\n",
        "oov_tok = \"<OOV>\"\n",
        "training_size = 20000\n",
        "\n",
        "\n",
        "with open(\"/tmp/sarcasm.json\", 'r') as f:\n",
        "    datastore = json.load(f)\n",
        "\n",
        "\n",
        "sentences = []\n",
        "labels = []\n",
        "urls = []\n",
        "for item in datastore:\n",
        "    sentences.append(item['headline'])\n",
        "    labels.append(item['is_sarcastic'])\n",
        "\n",
        "training_sentences = sentences[0:training_size]\n",
        "testing_sentences = sentences[training_size:]\n",
        "training_labels = labels[0:training_size]\n",
        "testing_labels = labels[training_size:]\n",
        "\n",
        "tokenizer = Tokenizer(num_words=vocab_size, oov_token=oov_tok)\n",
        "tokenizer.fit_on_texts(training_sentences)\n",
        "\n",
        "word_index = tokenizer.word_index\n",
        "\n",
        "training_sequences = tokenizer.texts_to_sequences(training_sentences)\n",
        "training_padded = pad_sequences(training_sequences, maxlen=max_length, padding=padding_type, truncating=trunc_type)\n",
        "\n",
        "testing_sequences = tokenizer.texts_to_sequences(testing_sentences)\n",
        "testing_padded = pad_sequences(testing_sequences, maxlen=max_length, padding=padding_type, truncating=trunc_type)\n",
        "\n",
        "model = tf.keras.Sequential([\n",
        "    tf.keras.layers.Embedding(vocab_size, embedding_dim, input_length=max_length),\n",
        "    tf.keras.layers.Bidirectional(tf.keras.layers.LSTM(32)),\n",
        "    tf.keras.layers.Dense(24, activation='relu'),\n",
        "    tf.keras.layers.Dense(1, activation='sigmoid')\n",
        "])\n",
        "model.compile(loss='binary_crossentropy',optimizer='adam',metrics=['accuracy'])\n",
        "model.summary()\n",
        "\n",
        "num_epochs = 50\n",
        "training_padded = np.array(training_padded)\n",
        "training_labels = np.array(training_labels)\n",
        "testing_padded = np.array(testing_padded)\n",
        "testing_labels = np.array(testing_labels)\n",
        "history = model.fit(training_padded, training_labels, epochs=num_epochs, validation_data=(testing_padded, testing_labels), verbose=1)\n"
      ],
      "execution_count": 1,
      "outputs": [
        {
          "output_type": "stream",
          "text": [
            "--2021-01-04 11:11:25--  https://storage.googleapis.com/laurencemoroney-blog.appspot.com/sarcasm.json\n",
            "Resolving storage.googleapis.com (storage.googleapis.com)... 173.194.69.128, 173.194.79.128, 108.177.119.128, ...\n",
            "Connecting to storage.googleapis.com (storage.googleapis.com)|173.194.69.128|:443... connected.\n",
            "HTTP request sent, awaiting response... 200 OK\n",
            "Length: 5643545 (5.4M) [application/json]\n",
            "Saving to: ‘/tmp/sarcasm.json’\n",
            "\n",
            "\r/tmp/sarcasm.json     0%[                    ]       0  --.-KB/s               \r/tmp/sarcasm.json   100%[===================>]   5.38M  --.-KB/s    in 0.05s   \n",
            "\n",
            "2021-01-04 11:11:25 (104 MB/s) - ‘/tmp/sarcasm.json’ saved [5643545/5643545]\n",
            "\n",
            "Model: \"sequential\"\n",
            "_________________________________________________________________\n",
            "Layer (type)                 Output Shape              Param #   \n",
            "=================================================================\n",
            "embedding (Embedding)        (None, 120, 16)           16000     \n",
            "_________________________________________________________________\n",
            "bidirectional (Bidirectional (None, 64)                12544     \n",
            "_________________________________________________________________\n",
            "dense (Dense)                (None, 24)                1560      \n",
            "_________________________________________________________________\n",
            "dense_1 (Dense)              (None, 1)                 25        \n",
            "=================================================================\n",
            "Total params: 30,129\n",
            "Trainable params: 30,129\n",
            "Non-trainable params: 0\n",
            "_________________________________________________________________\n",
            "Epoch 1/50\n",
            "625/625 [==============================] - 41s 61ms/step - loss: 0.5421 - accuracy: 0.6868 - val_loss: 0.3848 - val_accuracy: 0.8225\n",
            "Epoch 2/50\n",
            "625/625 [==============================] - 37s 59ms/step - loss: 0.3450 - accuracy: 0.8392 - val_loss: 0.3951 - val_accuracy: 0.8183\n",
            "Epoch 3/50\n",
            "625/625 [==============================] - 38s 61ms/step - loss: 0.3324 - accuracy: 0.8508 - val_loss: 0.3712 - val_accuracy: 0.8344\n",
            "Epoch 4/50\n",
            "625/625 [==============================] - 37s 59ms/step - loss: 0.3025 - accuracy: 0.8652 - val_loss: 0.3705 - val_accuracy: 0.8343\n",
            "Epoch 5/50\n",
            "625/625 [==============================] - 37s 60ms/step - loss: 0.2993 - accuracy: 0.8637 - val_loss: 0.3735 - val_accuracy: 0.8356\n",
            "Epoch 6/50\n",
            "625/625 [==============================] - 37s 59ms/step - loss: 0.2844 - accuracy: 0.8772 - val_loss: 0.3792 - val_accuracy: 0.8323\n",
            "Epoch 7/50\n",
            "625/625 [==============================] - 37s 60ms/step - loss: 0.2817 - accuracy: 0.8783 - val_loss: 0.3870 - val_accuracy: 0.8298\n",
            "Epoch 8/50\n",
            "625/625 [==============================] - 37s 59ms/step - loss: 0.2666 - accuracy: 0.8859 - val_loss: 0.3838 - val_accuracy: 0.8305\n",
            "Epoch 9/50\n",
            "625/625 [==============================] - 37s 60ms/step - loss: 0.2666 - accuracy: 0.8811 - val_loss: 0.3881 - val_accuracy: 0.8308\n",
            "Epoch 10/50\n",
            "625/625 [==============================] - 37s 59ms/step - loss: 0.2655 - accuracy: 0.8852 - val_loss: 0.4030 - val_accuracy: 0.8301\n",
            "Epoch 11/50\n",
            "625/625 [==============================] - 38s 60ms/step - loss: 0.2493 - accuracy: 0.8931 - val_loss: 0.4201 - val_accuracy: 0.8280\n",
            "Epoch 12/50\n",
            "625/625 [==============================] - 37s 59ms/step - loss: 0.2385 - accuracy: 0.8984 - val_loss: 0.4066 - val_accuracy: 0.8262\n",
            "Epoch 13/50\n",
            "625/625 [==============================] - 37s 60ms/step - loss: 0.2362 - accuracy: 0.9000 - val_loss: 0.4241 - val_accuracy: 0.8240\n",
            "Epoch 14/50\n",
            "625/625 [==============================] - 37s 59ms/step - loss: 0.2252 - accuracy: 0.9047 - val_loss: 0.4257 - val_accuracy: 0.8243\n",
            "Epoch 15/50\n",
            "625/625 [==============================] - 42s 68ms/step - loss: 0.2244 - accuracy: 0.9062 - val_loss: 0.4537 - val_accuracy: 0.8208\n",
            "Epoch 16/50\n",
            "625/625 [==============================] - 37s 59ms/step - loss: 0.2143 - accuracy: 0.9115 - val_loss: 0.4535 - val_accuracy: 0.8195\n",
            "Epoch 17/50\n",
            "625/625 [==============================] - 37s 59ms/step - loss: 0.2085 - accuracy: 0.9140 - val_loss: 0.4717 - val_accuracy: 0.8173\n",
            "Epoch 18/50\n",
            "625/625 [==============================] - 37s 59ms/step - loss: 0.1969 - accuracy: 0.9165 - val_loss: 0.4894 - val_accuracy: 0.8211\n",
            "Epoch 19/50\n",
            "625/625 [==============================] - 37s 59ms/step - loss: 0.1910 - accuracy: 0.9201 - val_loss: 0.5134 - val_accuracy: 0.8149\n",
            "Epoch 20/50\n",
            "625/625 [==============================] - 37s 60ms/step - loss: 0.1932 - accuracy: 0.9196 - val_loss: 0.5340 - val_accuracy: 0.8195\n",
            "Epoch 21/50\n",
            "625/625 [==============================] - 37s 59ms/step - loss: 0.1781 - accuracy: 0.9280 - val_loss: 0.5760 - val_accuracy: 0.8131\n",
            "Epoch 22/50\n",
            "625/625 [==============================] - 37s 58ms/step - loss: 0.1763 - accuracy: 0.9279 - val_loss: 0.5455 - val_accuracy: 0.8150\n",
            "Epoch 23/50\n",
            "625/625 [==============================] - 37s 60ms/step - loss: 0.1663 - accuracy: 0.9323 - val_loss: 0.5763 - val_accuracy: 0.8114\n",
            "Epoch 24/50\n",
            "625/625 [==============================] - 37s 59ms/step - loss: 0.1603 - accuracy: 0.9380 - val_loss: 0.6178 - val_accuracy: 0.8076\n",
            "Epoch 25/50\n",
            "625/625 [==============================] - 37s 58ms/step - loss: 0.1473 - accuracy: 0.9405 - val_loss: 0.6164 - val_accuracy: 0.8095\n",
            "Epoch 26/50\n",
            "625/625 [==============================] - 36s 58ms/step - loss: 0.1488 - accuracy: 0.9402 - val_loss: 0.7098 - val_accuracy: 0.8073\n",
            "Epoch 27/50\n",
            "625/625 [==============================] - 36s 57ms/step - loss: 0.1430 - accuracy: 0.9432 - val_loss: 0.6681 - val_accuracy: 0.8088\n",
            "Epoch 28/50\n",
            "625/625 [==============================] - 37s 59ms/step - loss: 0.1368 - accuracy: 0.9477 - val_loss: 0.7308 - val_accuracy: 0.8027\n",
            "Epoch 29/50\n",
            "625/625 [==============================] - 37s 59ms/step - loss: 0.1239 - accuracy: 0.9514 - val_loss: 0.6937 - val_accuracy: 0.8073\n",
            "Epoch 30/50\n",
            "625/625 [==============================] - 37s 58ms/step - loss: 0.1233 - accuracy: 0.9530 - val_loss: 0.7932 - val_accuracy: 0.8101\n",
            "Epoch 31/50\n",
            "625/625 [==============================] - 37s 59ms/step - loss: 0.1150 - accuracy: 0.9553 - val_loss: 0.8360 - val_accuracy: 0.8012\n",
            "Epoch 32/50\n",
            "625/625 [==============================] - 37s 59ms/step - loss: 0.1121 - accuracy: 0.9573 - val_loss: 0.8775 - val_accuracy: 0.8089\n",
            "Epoch 33/50\n",
            "625/625 [==============================] - 37s 59ms/step - loss: 0.1062 - accuracy: 0.9606 - val_loss: 0.9247 - val_accuracy: 0.8040\n",
            "Epoch 34/50\n",
            "625/625 [==============================] - 37s 60ms/step - loss: 0.1036 - accuracy: 0.9606 - val_loss: 0.9430 - val_accuracy: 0.7942\n",
            "Epoch 35/50\n",
            "625/625 [==============================] - 37s 59ms/step - loss: 0.0987 - accuracy: 0.9636 - val_loss: 1.0378 - val_accuracy: 0.8010\n",
            "Epoch 36/50\n",
            "625/625 [==============================] - 37s 59ms/step - loss: 0.0943 - accuracy: 0.9646 - val_loss: 1.1182 - val_accuracy: 0.8015\n",
            "Epoch 37/50\n",
            "625/625 [==============================] - 37s 59ms/step - loss: 0.0852 - accuracy: 0.9685 - val_loss: 1.0816 - val_accuracy: 0.7986\n",
            "Epoch 38/50\n",
            "625/625 [==============================] - 37s 60ms/step - loss: 0.0825 - accuracy: 0.9693 - val_loss: 1.2061 - val_accuracy: 0.7945\n",
            "Epoch 39/50\n",
            "625/625 [==============================] - 37s 59ms/step - loss: 0.0825 - accuracy: 0.9682 - val_loss: 1.3084 - val_accuracy: 0.7934\n",
            "Epoch 40/50\n",
            "625/625 [==============================] - 37s 60ms/step - loss: 0.0796 - accuracy: 0.9697 - val_loss: 1.1783 - val_accuracy: 0.8004\n",
            "Epoch 41/50\n",
            "625/625 [==============================] - 36s 58ms/step - loss: 0.0712 - accuracy: 0.9743 - val_loss: 1.1588 - val_accuracy: 0.7986\n",
            "Epoch 42/50\n",
            "625/625 [==============================] - 37s 59ms/step - loss: 0.0719 - accuracy: 0.9718 - val_loss: 1.3473 - val_accuracy: 0.7968\n",
            "Epoch 43/50\n",
            "625/625 [==============================] - 37s 60ms/step - loss: 0.0671 - accuracy: 0.9730 - val_loss: 1.3021 - val_accuracy: 0.7974\n",
            "Epoch 44/50\n",
            "625/625 [==============================] - 37s 60ms/step - loss: 0.0673 - accuracy: 0.9748 - val_loss: 1.4205 - val_accuracy: 0.8007\n",
            "Epoch 45/50\n",
            "625/625 [==============================] - 37s 60ms/step - loss: 0.0707 - accuracy: 0.9731 - val_loss: 1.3528 - val_accuracy: 0.7971\n",
            "Epoch 46/50\n",
            "625/625 [==============================] - 38s 60ms/step - loss: 0.0621 - accuracy: 0.9771 - val_loss: 1.5174 - val_accuracy: 0.7946\n",
            "Epoch 47/50\n",
            "625/625 [==============================] - 38s 60ms/step - loss: 0.0607 - accuracy: 0.9761 - val_loss: 1.5131 - val_accuracy: 0.7977\n",
            "Epoch 48/50\n",
            "625/625 [==============================] - 37s 59ms/step - loss: 0.0576 - accuracy: 0.9761 - val_loss: 1.4948 - val_accuracy: 0.8022\n",
            "Epoch 49/50\n",
            "625/625 [==============================] - 37s 59ms/step - loss: 0.0626 - accuracy: 0.9747 - val_loss: 1.6502 - val_accuracy: 0.7970\n",
            "Epoch 50/50\n",
            "625/625 [==============================] - 36s 58ms/step - loss: 0.0588 - accuracy: 0.9760 - val_loss: 1.6513 - val_accuracy: 0.7937\n"
          ],
          "name": "stdout"
        }
      ]
    },
    {
      "cell_type": "code",
      "metadata": {
        "colab": {
          "base_uri": "https://localhost:8080/",
          "height": 541
        },
        "id": "g9DC6dmLF8DC",
        "outputId": "feae1d72-039e-4958-99ff-d5f94b8988bb"
      },
      "source": [
        "import matplotlib.pyplot as plt\n",
        "\n",
        "\n",
        "def plot_graphs(history, string):\n",
        "  plt.plot(history.history[string])\n",
        "  plt.plot(history.history['val_'+string])\n",
        "  plt.xlabel(\"Epochs\")\n",
        "  plt.ylabel(string)\n",
        "  plt.legend([string, 'val_'+string])\n",
        "  plt.show()\n",
        "\n",
        "plot_graphs(history, 'accuracy')\n",
        "plot_graphs(history, 'loss')"
      ],
      "execution_count": 2,
      "outputs": [
        {
          "output_type": "display_data",
          "data": {
            "image/png": "[encoded data removed]",
            "text/plain": [
              "<Figure size 432x288 with 1 Axes>"
            ]
          },
          "metadata": {
            "tags": [],
            "needs_background": "light"
          }
        },
        {
          "output_type": "display_data",
          "data": {
            "image/png": "[encoded data removed]",
            "text/plain": [
              "<Figure size 432x288 with 1 Axes>"
            ]
          },
          "metadata": {
            "tags": [],
            "needs_background": "light"
          }
        }
      ]
    },
    {
      "cell_type": "code",
      "metadata": {
        "id": "7ZEZIUppGhdi"
      },
      "source": [
        "model.save(\"test.h5\")"
      ],
      "execution_count": 3,
      "outputs": []
    }
  ]
}