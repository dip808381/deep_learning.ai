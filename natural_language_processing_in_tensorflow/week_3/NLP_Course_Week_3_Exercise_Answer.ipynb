{
  "nbformat": 4,
  "nbformat_minor": 0,
  "metadata": {
    "accelerator": "GPU",
    "colab": {
      "name": "NLP Course - Week 3 Exercise Answer.ipynb",
      "provenance": [],
      "toc_visible": true
    },
    "kernelspec": {
      "display_name": "Python 3",
      "language": "python",
      "name": "python3"
    },
    "language_info": {
      "codemirror_mode": {
        "name": "ipython",
        "version": 3
      },
      "file_extension": ".py",
      "mimetype": "text/x-python",
      "name": "python",
      "nbconvert_exporter": "python",
      "pygments_lexer": "ipython3",
      "version": "3.7.6"
    }
  },
  "cells": [
    {
      "cell_type": "code",
      "metadata": {
        "id": "zX4Kg8DUTKWO"
      },
      "source": [
        "#@title Licensed under the Apache License, Version 2.0 (the \"License\");\n",
        "# you may not use this file except in compliance with the License.\n",
        "# You may obtain a copy of the License at\n",
        "#\n",
        "# https://www.apache.org/licenses/LICENSE-2.0\n",
        "#\n",
        "# Unless required by applicable law or agreed to in writing, software\n",
        "# distributed under the License is distributed on an \"AS IS\" BASIS,\n",
        "# WITHOUT WARRANTIES OR CONDITIONS OF ANY KIND, either express or implied.\n",
        "# See the License for the specific language governing permissions and\n",
        "# limitations under the License."
      ],
      "execution_count": null,
      "outputs": []
    },
    {
      "cell_type": "markdown",
      "metadata": {
        "id": "lPDxiJGvwNSz"
      },
      "source": [
        "<a href=\"https://colab.research.google.com/github/lmoroney/dlaicourse/blob/master/TensorFlow%20In%20Practice/Course%203%20-%20NLP/NLP%20Course%20-%20Week%203%20Exercise%20Answer.ipynb\" target=\"_parent\"><img src=\"https://colab.research.google.com/assets/colab-badge.svg\" alt=\"Open In Colab\"/></a>"
      ]
    },
    {
      "cell_type": "code",
      "metadata": {
        "id": "hmA6EzkQJ5jt"
      },
      "source": [
        "import json\n",
        "import tensorflow as tf\n",
        "import csv\n",
        "import random\n",
        "import numpy as np\n",
        "\n",
        "from tensorflow.keras.preprocessing.text import Tokenizer\n",
        "from tensorflow.keras.preprocessing.sequence import pad_sequences\n",
        "from tensorflow.keras.utils import to_categorical\n",
        "from tensorflow.keras import regularizers\n",
        "\n",
        "\n",
        "embedding_dim = 100\n",
        "max_length = 16\n",
        "trunc_type='post'\n",
        "padding_type='post'\n",
        "oov_tok = \"<OOV>\"\n",
        "training_size=160000\n",
        "test_portion=.1\n",
        "\n",
        "corpus = []\n"
      ],
      "execution_count": 10,
      "outputs": []
    },
    {
      "cell_type": "code",
      "metadata": {
        "colab": {
          "base_uri": "https://localhost:8080/"
        },
        "id": "bM0l_dORKqE0",
        "outputId": "43f36fdb-eaad-438d-dc54-0fb1615cdf0f"
      },
      "source": [
        "# Note that I cleaned the Stanford dataset to remove LATIN1 encoding to make it easier for Python CSV reader\n",
        "# You can do that yourself with:\n",
        "# iconv -f LATIN1 -t UTF8 training.1600000.processed.noemoticon.csv -o training_cleaned.csv\n",
        "# I then hosted it on my site to make it easier to use in this notebook\n",
        "\n",
        "!wget --no-check-certificate \\\n",
        "    https://storage.googleapis.com/laurencemoroney-blog.appspot.com/training_cleaned.csv \\\n",
        "    -O /tmp/training_cleaned.csv\n",
        "\n",
        "num_sentences = 0\n",
        "\n",
        "with open(\"/tmp/training_cleaned.csv\") as csvfile:\n",
        "    reader = csv.reader(csvfile, delimiter=',')\n",
        "    for row in reader:\n",
        "        list_item=[]\n",
        "        list_item.append(row[5])\n",
        "        this_label=row[0]\n",
        "        if this_label=='0':\n",
        "            list_item.append(0)\n",
        "        else:\n",
        "            list_item.append(1)\n",
        "        num_sentences = num_sentences + 1\n",
        "        corpus.append(list_item)\n"
      ],
      "execution_count": 11,
      "outputs": [
        {
          "output_type": "stream",
          "text": [
            "--2021-01-04 14:16:11--  https://storage.googleapis.com/laurencemoroney-blog.appspot.com/training_cleaned.csv\n",
            "Resolving storage.googleapis.com (storage.googleapis.com)... 74.125.137.128, 142.250.101.128, 2607:f8b0:4023:c03::80, ...\n",
            "Connecting to storage.googleapis.com (storage.googleapis.com)|74.125.137.128|:443... connected.\n",
            "HTTP request sent, awaiting response... 200 OK\n",
            "Length: 238942690 (228M) [application/octet-stream]\n",
            "Saving to: ‘/tmp/training_cleaned.csv’\n",
            "\n",
            "/tmp/training_clean 100%[===================>] 227.87M   251MB/s    in 0.9s    \n",
            "\n",
            "2021-01-04 14:16:12 (251 MB/s) - ‘/tmp/training_cleaned.csv’ saved [238942690/238942690]\n",
            "\n"
          ],
          "name": "stdout"
        }
      ]
    },
    {
      "cell_type": "code",
      "metadata": {
        "colab": {
          "base_uri": "https://localhost:8080/"
        },
        "id": "3kxblBUjEUX-",
        "outputId": "3aa99ea5-dd40-4daf-dcc7-01a8e838f896"
      },
      "source": [
        "print(num_sentences)\n",
        "print(len(corpus))\n",
        "print(corpus[1])\n",
        "\n",
        "# Expected Output:\n",
        "# 1600000\n",
        "# 1600000\n",
        "# [\"is upset that he can't update his Facebook by texting it... and might cry as a result  School today also. Blah!\", 0]"
      ],
      "execution_count": 12,
      "outputs": [
        {
          "output_type": "stream",
          "text": [
            "1600000\n",
            "1600000\n",
            "[\"is upset that he can't update his Facebook by texting it... and might cry as a result  School today also. Blah!\", 0]\n"
          ],
          "name": "stdout"
        }
      ]
    },
    {
      "cell_type": "code",
      "metadata": {
        "id": "ohOGz24lsNAD"
      },
      "source": [
        "sentences=[]\n",
        "labels=[]\n",
        "random.shuffle(corpus)\n",
        "for x in range(training_size):\n",
        "    sentences.append(corpus[x][0])\n",
        "    labels.append(corpus[x][1])\n",
        "\n",
        "\n",
        "tokenizer = Tokenizer()\n",
        "tokenizer.fit_on_texts(sentences)\n",
        "\n",
        "word_index = tokenizer.word_index\n",
        "vocab_size=len(word_index)\n",
        "\n",
        "sequences = tokenizer.texts_to_sequences(sentences)\n",
        "padded = pad_sequences(sequences, maxlen=max_length, padding=padding_type, truncating=trunc_type)\n",
        "\n",
        "split = int(test_portion * training_size)\n",
        "\n",
        "test_sequences = padded[0:split]\n",
        "training_sequences = padded[split:training_size]\n",
        "test_labels = labels[0:split]\n",
        "training_labels = labels[split:training_size]"
      ],
      "execution_count": 13,
      "outputs": []
    },
    {
      "cell_type": "code",
      "metadata": {
        "colab": {
          "base_uri": "https://localhost:8080/",
          "height": 51
        },
        "id": "gIrtRem1En3N",
        "outputId": "4ad8401c-8dba-420d-8aee-38dac0b0839a"
      },
      "source": [
        "print(vocab_size)\n",
        "print(word_index['i'])\n",
        "# Expected Output\n",
        "# 138858\n",
        "# 1"
      ],
      "execution_count": null,
      "outputs": [
        {
          "output_type": "stream",
          "text": [
            "138858\n",
            "1\n"
          ],
          "name": "stdout"
        }
      ]
    },
    {
      "cell_type": "code",
      "metadata": {
        "colab": {
          "base_uri": "https://localhost:8080/",
          "height": 204
        },
        "id": "C1zdgJkusRh0",
        "outputId": "b6edd322-8191-45e7-cb12-08921685a72f"
      },
      "source": [
        "# Note this is the 100 dimension version of GloVe from Stanford\n",
        "# I unzipped and hosted it on my site to make this notebook easier\n",
        "!wget --no-check-certificate \\\n",
        "    https://storage.googleapis.com/laurencemoroney-blog.appspot.com/glove.6B.100d.txt \\\n",
        "    -O /tmp/glove.6B.100d.txt\n",
        "embeddings_index = {};\n",
        "with open('/tmp/glove.6B.100d.txt') as f:\n",
        "    for line in f:\n",
        "        values = line.split();\n",
        "        word = values[0];\n",
        "        coefs = np.asarray(values[1:], dtype='float32');\n",
        "        embeddings_index[word] = coefs;\n",
        "\n",
        "embeddings_matrix = np.zeros((vocab_size+1, embedding_dim));\n",
        "for word, i in word_index.items():\n",
        "    embedding_vector = embeddings_index.get(word);\n",
        "    if embedding_vector is not None:\n",
        "        embeddings_matrix[i] = embedding_vector;"
      ],
      "execution_count": null,
      "outputs": [
        {
          "output_type": "stream",
          "text": [
            "--2019-06-07 17:55:30--  https://storage.googleapis.com/laurencemoroney-blog.appspot.com/glove.6B.100d.txt\n",
            "Resolving storage.googleapis.com (storage.googleapis.com)... 64.233.183.128, 2607:f8b0:4001:c12::80\n",
            "Connecting to storage.googleapis.com (storage.googleapis.com)|64.233.183.128|:443... connected.\n",
            "HTTP request sent, awaiting response... 200 OK\n",
            "Length: 347116733 (331M) [text/plain]\n",
            "Saving to: ‘/tmp/glove.6B.100d.txt’\n",
            "\n",
            "/tmp/glove.6B.100d. 100%[===================>] 331.04M   160MB/s    in 2.1s    \n",
            "\n",
            "2019-06-07 17:55:33 (160 MB/s) - ‘/tmp/glove.6B.100d.txt’ saved [347116733/347116733]\n",
            "\n"
          ],
          "name": "stdout"
        }
      ]
    },
    {
      "cell_type": "code",
      "metadata": {
        "colab": {
          "base_uri": "https://localhost:8080/",
          "height": 34
        },
        "id": "71NLk_lpFLNt",
        "outputId": "97cb88db-754f-4375-fdc3-876cd6b4fdce"
      },
      "source": [
        "print(len(embeddings_matrix))\n",
        "# Expected Output\n",
        "# 138859"
      ],
      "execution_count": null,
      "outputs": [
        {
          "output_type": "stream",
          "text": [
            "138859\n"
          ],
          "name": "stdout"
        }
      ]
    },
    {
      "cell_type": "code",
      "metadata": {
        "colab": {
          "base_uri": "https://localhost:8080/"
        },
        "id": "iKKvbuEBOGFz",
        "outputId": "57f5ba04-948c-44e4-a5a5-da267d119720"
      },
      "source": [
        "model = tf.keras.Sequential([\n",
        "    tf.keras.layers.Embedding(vocab_size+1, embedding_dim, input_length=max_length, weights=[embeddings_matrix], trainable=False),\n",
        "    tf.keras.layers.Dropout(0.2),\n",
        "    tf.keras.layers.Conv1D(64, 5, activation='relu'),\n",
        "    tf.keras.layers.MaxPooling1D(pool_size=4),\n",
        "    tf.keras.layers.LSTM(64),\n",
        "    tf.keras.layers.Dense(1, activation='sigmoid')\n",
        "])\n",
        "model.compile(loss='binary_crossentropy',optimizer='adam',metrics=['accuracy'])\n",
        "model.summary()\n",
        "\n",
        "num_epochs = 50\n",
        "\n",
        "training_padded = np.array(training_sequences)\n",
        "training_labels = np.array(training_labels)\n",
        "testing_padded = np.array(test_sequences)\n",
        "testing_labels = np.array(test_labels)\n",
        "\n",
        "history = model.fit(training_padded, training_labels, epochs=num_epochs, validation_data=(testing_padded, testing_labels), verbose=2)\n",
        "\n",
        "print(\"Training Complete\")"
      ],
      "execution_count": 8,
      "outputs": [
        {
          "output_type": "stream",
          "text": [
            "Model: \"sequential\"\n",
            "_________________________________________________________________\n",
            "Layer (type)                 Output Shape              Param #   \n",
            "=================================================================\n",
            "embedding (Embedding)        (None, 16, 100)           13847100  \n",
            "_________________________________________________________________\n",
            "dropout (Dropout)            (None, 16, 100)           0         \n",
            "_________________________________________________________________\n",
            "conv1d (Conv1D)              (None, 12, 64)            32064     \n",
            "_________________________________________________________________\n",
            "max_pooling1d (MaxPooling1D) (None, 3, 64)             0         \n",
            "_________________________________________________________________\n",
            "lstm (LSTM)                  (None, 64)                33024     \n",
            "_________________________________________________________________\n",
            "dense (Dense)                (None, 1)                 65        \n",
            "=================================================================\n",
            "Total params: 13,912,253\n",
            "Trainable params: 65,153\n",
            "Non-trainable params: 13,847,100\n",
            "_________________________________________________________________\n",
            "Epoch 1/50\n",
            "4500/4500 - 27s - loss: 0.5668 - accuracy: 0.6997 - val_loss: 0.5223 - val_accuracy: 0.7356\n",
            "Epoch 2/50\n",
            "4500/4500 - 25s - loss: 0.5253 - accuracy: 0.7332 - val_loss: 0.5177 - val_accuracy: 0.7369\n",
            "Epoch 3/50\n",
            "4500/4500 - 25s - loss: 0.5101 - accuracy: 0.7444 - val_loss: 0.5067 - val_accuracy: 0.7432\n",
            "Epoch 4/50\n",
            "4500/4500 - 24s - loss: 0.4979 - accuracy: 0.7531 - val_loss: 0.5157 - val_accuracy: 0.7398\n",
            "Epoch 5/50\n",
            "4500/4500 - 24s - loss: 0.4895 - accuracy: 0.7600 - val_loss: 0.5005 - val_accuracy: 0.7511\n",
            "Epoch 6/50\n",
            "4500/4500 - 23s - loss: 0.4819 - accuracy: 0.7632 - val_loss: 0.5024 - val_accuracy: 0.7508\n",
            "Epoch 7/50\n",
            "4500/4500 - 23s - loss: 0.4758 - accuracy: 0.7674 - val_loss: 0.5039 - val_accuracy: 0.7456\n",
            "Epoch 8/50\n",
            "4500/4500 - 24s - loss: 0.4710 - accuracy: 0.7709 - val_loss: 0.5025 - val_accuracy: 0.7464\n",
            "Epoch 9/50\n",
            "4500/4500 - 23s - loss: 0.4657 - accuracy: 0.7738 - val_loss: 0.5057 - val_accuracy: 0.7492\n",
            "Epoch 10/50\n",
            "4500/4500 - 23s - loss: 0.4625 - accuracy: 0.7753 - val_loss: 0.5050 - val_accuracy: 0.7506\n",
            "Epoch 11/50\n",
            "4500/4500 - 23s - loss: 0.4582 - accuracy: 0.7783 - val_loss: 0.5062 - val_accuracy: 0.7502\n",
            "Epoch 12/50\n",
            "4500/4500 - 23s - loss: 0.4559 - accuracy: 0.7786 - val_loss: 0.5077 - val_accuracy: 0.7477\n",
            "Epoch 13/50\n",
            "4500/4500 - 23s - loss: 0.4525 - accuracy: 0.7811 - val_loss: 0.5065 - val_accuracy: 0.7487\n",
            "Epoch 14/50\n",
            "4500/4500 - 23s - loss: 0.4491 - accuracy: 0.7838 - val_loss: 0.5109 - val_accuracy: 0.7481\n",
            "Epoch 15/50\n",
            "4500/4500 - 23s - loss: 0.4476 - accuracy: 0.7848 - val_loss: 0.5238 - val_accuracy: 0.7434\n",
            "Epoch 16/50\n",
            "4500/4500 - 23s - loss: 0.4454 - accuracy: 0.7864 - val_loss: 0.5081 - val_accuracy: 0.7486\n",
            "Epoch 17/50\n",
            "4500/4500 - 23s - loss: 0.4438 - accuracy: 0.7875 - val_loss: 0.5122 - val_accuracy: 0.7451\n",
            "Epoch 18/50\n",
            "4500/4500 - 23s - loss: 0.4423 - accuracy: 0.7882 - val_loss: 0.5231 - val_accuracy: 0.7454\n",
            "Epoch 19/50\n",
            "4500/4500 - 23s - loss: 0.4401 - accuracy: 0.7886 - val_loss: 0.5130 - val_accuracy: 0.7486\n",
            "Epoch 20/50\n",
            "4500/4500 - 23s - loss: 0.4392 - accuracy: 0.7898 - val_loss: 0.5172 - val_accuracy: 0.7475\n",
            "Epoch 21/50\n",
            "4500/4500 - 24s - loss: 0.4385 - accuracy: 0.7899 - val_loss: 0.5192 - val_accuracy: 0.7496\n",
            "Epoch 22/50\n",
            "4500/4500 - 24s - loss: 0.4368 - accuracy: 0.7911 - val_loss: 0.5141 - val_accuracy: 0.7481\n",
            "Epoch 23/50\n",
            "4500/4500 - 23s - loss: 0.4362 - accuracy: 0.7902 - val_loss: 0.5162 - val_accuracy: 0.7458\n",
            "Epoch 24/50\n",
            "4500/4500 - 22s - loss: 0.4356 - accuracy: 0.7919 - val_loss: 0.5194 - val_accuracy: 0.7482\n",
            "Epoch 25/50\n",
            "4500/4500 - 24s - loss: 0.4350 - accuracy: 0.7912 - val_loss: 0.5199 - val_accuracy: 0.7475\n",
            "Epoch 26/50\n",
            "4500/4500 - 23s - loss: 0.4332 - accuracy: 0.7929 - val_loss: 0.5204 - val_accuracy: 0.7489\n",
            "Epoch 27/50\n",
            "4500/4500 - 24s - loss: 0.4325 - accuracy: 0.7940 - val_loss: 0.5167 - val_accuracy: 0.7462\n",
            "Epoch 28/50\n",
            "4500/4500 - 23s - loss: 0.4324 - accuracy: 0.7944 - val_loss: 0.5274 - val_accuracy: 0.7459\n",
            "Epoch 29/50\n",
            "4500/4500 - 23s - loss: 0.4303 - accuracy: 0.7947 - val_loss: 0.5208 - val_accuracy: 0.7478\n",
            "Epoch 30/50\n",
            "4500/4500 - 23s - loss: 0.4304 - accuracy: 0.7951 - val_loss: 0.5227 - val_accuracy: 0.7462\n",
            "Epoch 31/50\n",
            "4500/4500 - 23s - loss: 0.4305 - accuracy: 0.7954 - val_loss: 0.5160 - val_accuracy: 0.7499\n",
            "Epoch 32/50\n",
            "4500/4500 - 23s - loss: 0.4302 - accuracy: 0.7949 - val_loss: 0.5250 - val_accuracy: 0.7479\n",
            "Epoch 33/50\n",
            "4500/4500 - 24s - loss: 0.4271 - accuracy: 0.7967 - val_loss: 0.5230 - val_accuracy: 0.7461\n",
            "Epoch 34/50\n",
            "4500/4500 - 23s - loss: 0.4289 - accuracy: 0.7962 - val_loss: 0.5245 - val_accuracy: 0.7506\n",
            "Epoch 35/50\n",
            "4500/4500 - 23s - loss: 0.4278 - accuracy: 0.7973 - val_loss: 0.5280 - val_accuracy: 0.7447\n",
            "Epoch 36/50\n",
            "4500/4500 - 23s - loss: 0.4280 - accuracy: 0.7972 - val_loss: 0.5244 - val_accuracy: 0.7458\n",
            "Epoch 37/50\n",
            "4500/4500 - 23s - loss: 0.4278 - accuracy: 0.7968 - val_loss: 0.5187 - val_accuracy: 0.7498\n",
            "Epoch 38/50\n",
            "4500/4500 - 23s - loss: 0.4269 - accuracy: 0.7976 - val_loss: 0.5211 - val_accuracy: 0.7464\n",
            "Epoch 39/50\n",
            "4500/4500 - 23s - loss: 0.4254 - accuracy: 0.7984 - val_loss: 0.5288 - val_accuracy: 0.7449\n",
            "Epoch 40/50\n",
            "4500/4500 - 23s - loss: 0.4250 - accuracy: 0.7981 - val_loss: 0.5215 - val_accuracy: 0.7463\n",
            "Epoch 41/50\n",
            "4500/4500 - 23s - loss: 0.4243 - accuracy: 0.7993 - val_loss: 0.5213 - val_accuracy: 0.7471\n",
            "Epoch 42/50\n",
            "4500/4500 - 24s - loss: 0.4240 - accuracy: 0.7980 - val_loss: 0.5313 - val_accuracy: 0.7491\n",
            "Epoch 43/50\n",
            "4500/4500 - 24s - loss: 0.4262 - accuracy: 0.7966 - val_loss: 0.5266 - val_accuracy: 0.7489\n",
            "Epoch 44/50\n",
            "4500/4500 - 24s - loss: 0.4243 - accuracy: 0.7982 - val_loss: 0.5256 - val_accuracy: 0.7461\n",
            "Epoch 45/50\n",
            "4500/4500 - 23s - loss: 0.4237 - accuracy: 0.7994 - val_loss: 0.5264 - val_accuracy: 0.7481\n",
            "Epoch 46/50\n",
            "4500/4500 - 24s - loss: 0.4243 - accuracy: 0.7984 - val_loss: 0.5260 - val_accuracy: 0.7461\n",
            "Epoch 47/50\n",
            "4500/4500 - 23s - loss: 0.4228 - accuracy: 0.7994 - val_loss: 0.5313 - val_accuracy: 0.7463\n",
            "Epoch 48/50\n",
            "4500/4500 - 23s - loss: 0.4243 - accuracy: 0.7986 - val_loss: 0.5268 - val_accuracy: 0.7473\n",
            "Epoch 49/50\n",
            "4500/4500 - 23s - loss: 0.4238 - accuracy: 0.7991 - val_loss: 0.5280 - val_accuracy: 0.7451\n",
            "Epoch 50/50\n",
            "4500/4500 - 23s - loss: 0.4225 - accuracy: 0.8008 - val_loss: 0.5298 - val_accuracy: 0.7453\n",
            "Training Complete\n"
          ],
          "name": "stdout"
        }
      ]
    },
    {
      "cell_type": "code",
      "metadata": {
        "colab": {
          "base_uri": "https://localhost:8080/",
          "height": 607
        },
        "id": "qxju4ItJKO8F",
        "outputId": "44369ef7-9409-4d58-c116-dd8ad0e911ac"
      },
      "source": [
        "import matplotlib.image  as mpimg\n",
        "import matplotlib.pyplot as plt\n",
        "\n",
        "#-----------------------------------------------------------\n",
        "# Retrieve a list of list results on training and test data\n",
        "# sets for each training epoch\n",
        "#-----------------------------------------------------------\n",
        "acc=history.history['accuracy']\n",
        "val_acc=history.history['val_accuracy']\n",
        "loss=history.history['loss']\n",
        "val_loss=history.history['val_loss']\n",
        "\n",
        "epochs=range(len(acc)) # Get number of epochs\n",
        "\n",
        "#------------------------------------------------\n",
        "# Plot training and validation accuracy per epoch\n",
        "#------------------------------------------------\n",
        "plt.plot(epochs, acc, 'r')\n",
        "plt.plot(epochs, val_acc, 'b')\n",
        "plt.title('Training and validation accuracy')\n",
        "plt.xlabel(\"Epochs\")\n",
        "plt.ylabel(\"Accuracy\")\n",
        "plt.legend([\"Accuracy\", \"Validation Accuracy\"])\n",
        "\n",
        "plt.figure()\n",
        "\n",
        "#------------------------------------------------\n",
        "# Plot training and validation loss per epoch\n",
        "#------------------------------------------------\n",
        "plt.plot(epochs, loss, 'r')\n",
        "plt.plot(epochs, val_loss, 'b')\n",
        "plt.title('Training and validation loss')\n",
        "plt.xlabel(\"Epochs\")\n",
        "plt.ylabel(\"Loss\")\n",
        "plt.legend([\"Loss\", \"Validation Loss\"])\n",
        "\n",
        "plt.figure()\n",
        "\n",
        "\n",
        "# Expected Output\n",
        "# A chart where the validation loss does not increase sharply!"
      ],
      "execution_count": 9,
      "outputs": [
        {
          "output_type": "execute_result",
          "data": {
            "text/plain": [
              "<Figure size 432x288 with 0 Axes>"
            ]
          },
          "metadata": {
            "tags": []
          },
          "execution_count": 9
        },
        {
          "output_type": "display_data",
          "data": {
            "image/png": "[encoded data removed]",
            "text/plain": [
              "<Figure size 432x288 with 1 Axes>"
            ]
          },
          "metadata": {
            "tags": [],
            "needs_background": "light"
          }
        },
        {
          "output_type": "display_data",
          "data": {
            "image/png": "[encoded data removed]",
            "text/plain": [
              "<Figure size 432x288 with 1 Axes>"
            ]
          },
          "metadata": {
            "tags": [],
            "needs_background": "light"
          }
        },
        {
          "output_type": "display_data",
          "data": {
            "text/plain": [
              "<Figure size 432x288 with 0 Axes>"
            ]
          },
          "metadata": {
            "tags": []
          }
        }
      ]
    }
  ]
}