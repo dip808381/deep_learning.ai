{
  "nbformat": 4,
  "nbformat_minor": 0,
  "metadata": {
    "accelerator": "GPU",
    "colab": {
      "name": "NLP Course - Week 3 Exercise Question.ipynb",
      "provenance": [],
      "toc_visible": true
    },
    "kernelspec": {
      "display_name": "Python 3",
      "name": "python3"
    }
  },
  "cells": [
    {
      "cell_type": "code",
      "metadata": {
        "id": "zX4Kg8DUTKWO"
      },
      "source": [
        "#@title Licensed under the Apache License, Version 2.0 (the \"License\");\n",
        "# you may not use this file except in compliance with the License.\n",
        "# You may obtain a copy of the License at\n",
        "#\n",
        "# https://www.apache.org/licenses/LICENSE-2.0\n",
        "#\n",
        "# Unless required by applicable law or agreed to in writing, software\n",
        "# distributed under the License is distributed on an \"AS IS\" BASIS,\n",
        "# WITHOUT WARRANTIES OR CONDITIONS OF ANY KIND, either express or implied.\n",
        "# See the License for the specific language governing permissions and\n",
        "# limitations under the License."
      ],
      "execution_count": 1,
      "outputs": []
    },
    {
      "cell_type": "code",
      "metadata": {
        "id": "hmA6EzkQJ5jt"
      },
      "source": [
        "import json\n",
        "import tensorflow as tf\n",
        "import csv\n",
        "import random\n",
        "import numpy as np\n",
        "\n",
        "from tensorflow.keras.preprocessing.text import Tokenizer\n",
        "from tensorflow.keras.preprocessing.sequence import pad_sequences\n",
        "from tensorflow.keras.utils import to_categorical\n",
        "from tensorflow.keras import regularizers\n",
        "\n",
        "\n",
        "embedding_dim = 100\n",
        "max_length = 16\n",
        "trunc_type='post'\n",
        "padding_type='post'\n",
        "oov_tok = \"<OOV>\"\n",
        "training_size= 16000#Your dataset size here. Experiment using smaller values (i.e. 16000), but don't forget to train on at least 160000 to see the best effects\n",
        "test_portion=.1\n",
        "\n",
        "corpus = []\n"
      ],
      "execution_count": 2,
      "outputs": []
    },
    {
      "cell_type": "code",
      "metadata": {
        "colab": {
          "base_uri": "https://localhost:8080/"
        },
        "id": "bM0l_dORKqE0",
        "outputId": "88b8d401-299c-4268-8359-a6a1a1a16217"
      },
      "source": [
        "# Note that I cleaned the Stanford dataset to remove LATIN1 encoding to make it easier for Python CSV reader\n",
        "# You can do that yourself with:\n",
        "# iconv -f LATIN1 -t UTF8 training.1600000.processed.noemoticon.csv -o training_cleaned.csv\n",
        "# I then hosted it on my site to make it easier to use in this notebook\n",
        "\n",
        "!wget --no-check-certificate \\\n",
        "    https://storage.googleapis.com/laurencemoroney-blog.appspot.com/training_cleaned.csv \\\n",
        "    -O /tmp/training_cleaned.csv\n",
        "\n",
        "num_sentences = 0\n",
        "\n",
        "with open(\"/tmp/training_cleaned.csv\") as csvfile:\n",
        "    reader = csv.reader(csvfile, delimiter=',')\n",
        "    for row in reader:\n",
        "      # Your Code here. Create list items where the first item is the text, found in row[5], and the second is the label. Note that the label is a '0' or a '4' in the text. When it's the former, make\n",
        "      # your label to be 0, otherwise 1. Keep a count of the number of sentences in num_sentences\n",
        "        list_item=[]\n",
        "        list_item.append(row[5])\n",
        "        label = row[0]\n",
        "        if label == '0':\n",
        "          list_item.append(0)\n",
        "        else:\n",
        "          list_item.append(1)\n",
        "        num_sentences = num_sentences + 1\n",
        "        corpus.append(list_item)\n"
      ],
      "execution_count": 3,
      "outputs": [
        {
          "output_type": "stream",
          "text": [
            "--2021-01-04 11:31:46--  https://storage.googleapis.com/laurencemoroney-blog.appspot.com/training_cleaned.csv\n",
            "Resolving storage.googleapis.com (storage.googleapis.com)... 64.233.189.128, 108.177.97.128, 108.177.125.128, ...\n",
            "Connecting to storage.googleapis.com (storage.googleapis.com)|64.233.189.128|:443... connected.\n",
            "HTTP request sent, awaiting response... 200 OK\n",
            "Length: 238942690 (228M) [application/octet-stream]\n",
            "Saving to: ‘/tmp/training_cleaned.csv’\n",
            "\n",
            "/tmp/training_clean 100%[===================>] 227.87M   104MB/s    in 2.2s    \n",
            "\n",
            "2021-01-04 11:31:48 (104 MB/s) - ‘/tmp/training_cleaned.csv’ saved [238942690/238942690]\n",
            "\n"
          ],
          "name": "stdout"
        }
      ]
    },
    {
      "cell_type": "code",
      "metadata": {
        "colab": {
          "base_uri": "https://localhost:8080/"
        },
        "id": "3kxblBUjEUX-",
        "outputId": "a9e063ac-c1f4-4577-c99f-ec012945e809"
      },
      "source": [
        "print(num_sentences)\n",
        "print(len(corpus))\n",
        "print(corpus[1])\n",
        "\n",
        "# Expected Output:\n",
        "# 1600000\n",
        "# 1600000\n",
        "# [\"is upset that he can't update his Facebook by texting it... and might cry as a result  School today also. Blah!\", 0]"
      ],
      "execution_count": 4,
      "outputs": [
        {
          "output_type": "stream",
          "text": [
            "1600000\n",
            "1600000\n",
            "[\"is upset that he can't update his Facebook by texting it... and might cry as a result  School today also. Blah!\", 0]\n"
          ],
          "name": "stdout"
        }
      ]
    },
    {
      "cell_type": "code",
      "metadata": {
        "id": "hJfMVRmBKas9"
      },
      "source": [
        "sentences=[]\r\n",
        "labels=[]\r\n",
        "random.shuffle(corpus)\r\n",
        "for x in range(training_size):\r\n",
        "    sentences.append(corpus[x][0])\r\n",
        "    labels.append(corpus[x][1])\r\n",
        "\r\n",
        "\r\n",
        "tokenizer = Tokenizer()\r\n",
        "tokenizer.fit_on_texts(sentences)\r\n",
        "\r\n",
        "word_index = tokenizer.word_index\r\n",
        "vocab_size=len(word_index)\r\n",
        "\r\n",
        "sequences = tokenizer.texts_to_sequences(sentences)\r\n",
        "padded = pad_sequences(sequences, maxlen=max_length, padding=padding_type, truncating=trunc_type)\r\n",
        "\r\n",
        "split = int(test_portion * training_size)\r\n",
        "\r\n",
        "test_sequences = padded[0:split]\r\n",
        "training_sequences = padded[split:training_size]\r\n",
        "test_labels = labels[0:split]\r\n",
        "training_labels = labels[split:training_size]"
      ],
      "execution_count": 6,
      "outputs": []
    },
    {
      "cell_type": "code",
      "metadata": {
        "colab": {
          "base_uri": "https://localhost:8080/"
        },
        "id": "gIrtRem1En3N",
        "outputId": "397056ee-6da9-4e9b-cedd-daf88133bb0c"
      },
      "source": [
        "print(vocab_size)\n",
        "print(word_index['i'])\n",
        "# Expected Output\n",
        "# 138858\n",
        "# 1"
      ],
      "execution_count": 7,
      "outputs": [
        {
          "output_type": "stream",
          "text": [
            "26619\n",
            "1\n"
          ],
          "name": "stdout"
        }
      ]
    },
    {
      "cell_type": "code",
      "metadata": {
        "colab": {
          "base_uri": "https://localhost:8080/"
        },
        "id": "C1zdgJkusRh0",
        "outputId": "fc4ef4f9-9c78-40be-f6b3-893315b60245"
      },
      "source": [
        "# Note this is the 100 dimension version of GloVe from Stanford\n",
        "# I unzipped and hosted it on my site to make this notebook easier\n",
        "!wget --no-check-certificate \\\n",
        "    https://storage.googleapis.com/laurencemoroney-blog.appspot.com/glove.6B.100d.txt \\\n",
        "    -O /tmp/glove.6B.100d.txt\n",
        "embeddings_index = {};\n",
        "with open('/tmp/glove.6B.100d.txt') as f:\n",
        "    for line in f:\n",
        "        values = line.split();\n",
        "        word = values[0];\n",
        "        coefs = np.asarray(values[1:], dtype='float32');\n",
        "        embeddings_index[word] = coefs;\n",
        "\n",
        "embeddings_matrix = np.zeros((vocab_size+1, embedding_dim));\n",
        "for word, i in word_index.items():\n",
        "    embedding_vector = embeddings_index.get(word);\n",
        "    if embedding_vector is not None:\n",
        "        embeddings_matrix[i] = embedding_vector;"
      ],
      "execution_count": 8,
      "outputs": [
        {
          "output_type": "stream",
          "text": [
            "--2021-01-04 11:32:00--  https://storage.googleapis.com/laurencemoroney-blog.appspot.com/glove.6B.100d.txt\n",
            "Resolving storage.googleapis.com (storage.googleapis.com)... 74.125.203.128, 64.233.189.128, 108.177.97.128, ...\n",
            "Connecting to storage.googleapis.com (storage.googleapis.com)|74.125.203.128|:443... connected.\n",
            "HTTP request sent, awaiting response... 200 OK\n",
            "Length: 347116733 (331M) [text/plain]\n",
            "Saving to: ‘/tmp/glove.6B.100d.txt’\n",
            "\n",
            "/tmp/glove.6B.100d. 100%[===================>] 331.04M   177MB/s    in 1.9s    \n",
            "\n",
            "2021-01-04 11:32:02 (177 MB/s) - ‘/tmp/glove.6B.100d.txt’ saved [347116733/347116733]\n",
            "\n"
          ],
          "name": "stdout"
        }
      ]
    },
    {
      "cell_type": "code",
      "metadata": {
        "colab": {
          "base_uri": "https://localhost:8080/"
        },
        "id": "71NLk_lpFLNt",
        "outputId": "b51fc08b-5259-4eb0-c1c4-cb49eadab5db"
      },
      "source": [
        "print(len(embeddings_matrix))\n",
        "# Expected Output\n",
        "# 138859"
      ],
      "execution_count": 9,
      "outputs": [
        {
          "output_type": "stream",
          "text": [
            "26620\n"
          ],
          "name": "stdout"
        }
      ]
    },
    {
      "cell_type": "code",
      "metadata": {
        "colab": {
          "base_uri": "https://localhost:8080/"
        },
        "id": "iKKvbuEBOGFz",
        "outputId": "4cc5555e-a702-4a3c-d9c6-13e2e2c121a3"
      },
      "source": [
        "model = tf.keras.Sequential([\n",
        "    tf.keras.layers.Embedding(vocab_size+1, embedding_dim, input_length=max_length, weights=[embeddings_matrix], trainable=False),\n",
        "    tf.keras.layers.Dropout(0.2),\n",
        "    tf.keras.layers.Conv1D(64, 5, activation='relu'),\n",
        "    tf.keras.layers.MaxPooling1D(pool_size=4),\n",
        "    tf.keras.layers.LSTM(64),\n",
        "    tf.keras.layers.Dense(1, activation='sigmoid')\n",
        "])\n",
        "model.compile(loss='binary_crossentropy',optimizer='adam',metrics=['accuracy'])\n",
        "model.summary()\n",
        "\n",
        "num_epochs = 50\n",
        "\n",
        "training_padded = np.array(training_sequences)\n",
        "training_labels = np.array(training_labels)\n",
        "testing_padded = np.array(test_sequences)\n",
        "testing_labels = np.array(test_labels)\n",
        "\n",
        "history = model.fit(training_padded, training_labels, epochs=num_epochs, validation_data=(testing_padded, testing_labels), verbose=2)\n",
        "\n",
        "print(\"Training Complete\")"
      ],
      "execution_count": 11,
      "outputs": [
        {
          "output_type": "stream",
          "text": [
            "Model: \"sequential\"\n",
            "_________________________________________________________________\n",
            "Layer (type)                 Output Shape              Param #   \n",
            "=================================================================\n",
            "embedding (Embedding)        (None, 16, 100)           2662000   \n",
            "_________________________________________________________________\n",
            "dropout (Dropout)            (None, 16, 100)           0         \n",
            "_________________________________________________________________\n",
            "conv1d (Conv1D)              (None, 12, 64)            32064     \n",
            "_________________________________________________________________\n",
            "max_pooling1d (MaxPooling1D) (None, 3, 64)             0         \n",
            "_________________________________________________________________\n",
            "lstm (LSTM)                  (None, 64)                33024     \n",
            "_________________________________________________________________\n",
            "dense (Dense)                (None, 1)                 65        \n",
            "=================================================================\n",
            "Total params: 2,727,153\n",
            "Trainable params: 65,153\n",
            "Non-trainable params: 2,662,000\n",
            "_________________________________________________________________\n",
            "Epoch 1/50\n",
            "450/450 - 6s - loss: 0.6334 - accuracy: 0.6349 - val_loss: 0.5798 - val_accuracy: 0.6900\n",
            "Epoch 2/50\n",
            "450/450 - 3s - loss: 0.5726 - accuracy: 0.6995 - val_loss: 0.5510 - val_accuracy: 0.7200\n",
            "Epoch 3/50\n",
            "450/450 - 3s - loss: 0.5379 - accuracy: 0.7272 - val_loss: 0.5311 - val_accuracy: 0.7362\n",
            "Epoch 4/50\n",
            "450/450 - 3s - loss: 0.5105 - accuracy: 0.7450 - val_loss: 0.5363 - val_accuracy: 0.7244\n",
            "Epoch 5/50\n",
            "450/450 - 3s - loss: 0.4828 - accuracy: 0.7649 - val_loss: 0.5401 - val_accuracy: 0.7244\n",
            "Epoch 6/50\n",
            "450/450 - 3s - loss: 0.4571 - accuracy: 0.7819 - val_loss: 0.5546 - val_accuracy: 0.7225\n",
            "Epoch 7/50\n",
            "450/450 - 3s - loss: 0.4326 - accuracy: 0.7982 - val_loss: 0.5793 - val_accuracy: 0.7156\n",
            "Epoch 8/50\n",
            "450/450 - 3s - loss: 0.4048 - accuracy: 0.8169 - val_loss: 0.5877 - val_accuracy: 0.7144\n",
            "Epoch 9/50\n",
            "450/450 - 3s - loss: 0.3843 - accuracy: 0.8263 - val_loss: 0.5994 - val_accuracy: 0.7175\n",
            "Epoch 10/50\n",
            "450/450 - 3s - loss: 0.3616 - accuracy: 0.8360 - val_loss: 0.6093 - val_accuracy: 0.7244\n",
            "Epoch 11/50\n",
            "450/450 - 3s - loss: 0.3522 - accuracy: 0.8399 - val_loss: 0.6577 - val_accuracy: 0.7050\n",
            "Epoch 12/50\n",
            "450/450 - 3s - loss: 0.3275 - accuracy: 0.8544 - val_loss: 0.6574 - val_accuracy: 0.7138\n",
            "Epoch 13/50\n",
            "450/450 - 3s - loss: 0.3219 - accuracy: 0.8559 - val_loss: 0.6970 - val_accuracy: 0.7119\n",
            "Epoch 14/50\n",
            "450/450 - 3s - loss: 0.3070 - accuracy: 0.8656 - val_loss: 0.6857 - val_accuracy: 0.7125\n",
            "Epoch 15/50\n",
            "450/450 - 3s - loss: 0.2991 - accuracy: 0.8674 - val_loss: 0.7351 - val_accuracy: 0.7063\n",
            "Epoch 16/50\n",
            "450/450 - 3s - loss: 0.2876 - accuracy: 0.8757 - val_loss: 0.7255 - val_accuracy: 0.6975\n",
            "Epoch 17/50\n",
            "450/450 - 3s - loss: 0.2717 - accuracy: 0.8828 - val_loss: 0.7661 - val_accuracy: 0.7025\n",
            "Epoch 18/50\n",
            "450/450 - 3s - loss: 0.2632 - accuracy: 0.8869 - val_loss: 0.7812 - val_accuracy: 0.7131\n",
            "Epoch 19/50\n",
            "450/450 - 3s - loss: 0.2596 - accuracy: 0.8858 - val_loss: 0.7733 - val_accuracy: 0.6925\n",
            "Epoch 20/50\n",
            "450/450 - 3s - loss: 0.2480 - accuracy: 0.8961 - val_loss: 0.7808 - val_accuracy: 0.6925\n",
            "Epoch 21/50\n",
            "450/450 - 3s - loss: 0.2457 - accuracy: 0.8949 - val_loss: 0.8265 - val_accuracy: 0.6881\n",
            "Epoch 22/50\n",
            "450/450 - 3s - loss: 0.2360 - accuracy: 0.8985 - val_loss: 0.8497 - val_accuracy: 0.7025\n",
            "Epoch 23/50\n",
            "450/450 - 3s - loss: 0.2385 - accuracy: 0.8980 - val_loss: 0.8244 - val_accuracy: 0.7019\n",
            "Epoch 24/50\n",
            "450/450 - 3s - loss: 0.2229 - accuracy: 0.9061 - val_loss: 0.8561 - val_accuracy: 0.6913\n",
            "Epoch 25/50\n",
            "450/450 - 3s - loss: 0.2248 - accuracy: 0.9062 - val_loss: 0.8872 - val_accuracy: 0.7100\n",
            "Epoch 26/50\n",
            "450/450 - 3s - loss: 0.2164 - accuracy: 0.9100 - val_loss: 0.8693 - val_accuracy: 0.7006\n",
            "Epoch 27/50\n",
            "450/450 - 3s - loss: 0.2197 - accuracy: 0.9081 - val_loss: 0.8466 - val_accuracy: 0.7019\n",
            "Epoch 28/50\n",
            "450/450 - 3s - loss: 0.2094 - accuracy: 0.9135 - val_loss: 0.9013 - val_accuracy: 0.6981\n",
            "Epoch 29/50\n",
            "450/450 - 3s - loss: 0.2142 - accuracy: 0.9091 - val_loss: 0.9169 - val_accuracy: 0.7044\n",
            "Epoch 30/50\n",
            "450/450 - 3s - loss: 0.1973 - accuracy: 0.9185 - val_loss: 0.8795 - val_accuracy: 0.6944\n",
            "Epoch 31/50\n",
            "450/450 - 3s - loss: 0.1944 - accuracy: 0.9210 - val_loss: 0.9350 - val_accuracy: 0.6913\n",
            "Epoch 32/50\n",
            "450/450 - 3s - loss: 0.1946 - accuracy: 0.9185 - val_loss: 0.9565 - val_accuracy: 0.6856\n",
            "Epoch 33/50\n",
            "450/450 - 3s - loss: 0.1851 - accuracy: 0.9233 - val_loss: 0.9710 - val_accuracy: 0.7006\n",
            "Epoch 34/50\n",
            "450/450 - 3s - loss: 0.1886 - accuracy: 0.9235 - val_loss: 0.9684 - val_accuracy: 0.6975\n",
            "Epoch 35/50\n",
            "450/450 - 3s - loss: 0.1780 - accuracy: 0.9265 - val_loss: 0.9986 - val_accuracy: 0.6837\n",
            "Epoch 36/50\n",
            "450/450 - 3s - loss: 0.1758 - accuracy: 0.9283 - val_loss: 0.9805 - val_accuracy: 0.6844\n",
            "Epoch 37/50\n",
            "450/450 - 3s - loss: 0.1714 - accuracy: 0.9301 - val_loss: 1.0149 - val_accuracy: 0.7050\n",
            "Epoch 38/50\n",
            "450/450 - 3s - loss: 0.1746 - accuracy: 0.9283 - val_loss: 1.0095 - val_accuracy: 0.6888\n",
            "Epoch 39/50\n",
            "450/450 - 3s - loss: 0.1744 - accuracy: 0.9301 - val_loss: 0.9932 - val_accuracy: 0.6913\n",
            "Epoch 40/50\n",
            "450/450 - 3s - loss: 0.1685 - accuracy: 0.9312 - val_loss: 1.0261 - val_accuracy: 0.6875\n",
            "Epoch 41/50\n",
            "450/450 - 3s - loss: 0.1642 - accuracy: 0.9367 - val_loss: 1.0245 - val_accuracy: 0.6850\n",
            "Epoch 42/50\n",
            "450/450 - 3s - loss: 0.1484 - accuracy: 0.9421 - val_loss: 1.0780 - val_accuracy: 0.6919\n",
            "Epoch 43/50\n",
            "450/450 - 3s - loss: 0.1567 - accuracy: 0.9375 - val_loss: 1.0043 - val_accuracy: 0.7031\n",
            "Epoch 44/50\n",
            "450/450 - 3s - loss: 0.1484 - accuracy: 0.9389 - val_loss: 1.0467 - val_accuracy: 0.7000\n",
            "Epoch 45/50\n",
            "450/450 - 3s - loss: 0.1516 - accuracy: 0.9377 - val_loss: 1.0536 - val_accuracy: 0.6975\n",
            "Epoch 46/50\n",
            "450/450 - 3s - loss: 0.1474 - accuracy: 0.9416 - val_loss: 1.0420 - val_accuracy: 0.6981\n",
            "Epoch 47/50\n",
            "450/450 - 3s - loss: 0.1524 - accuracy: 0.9394 - val_loss: 1.0456 - val_accuracy: 0.7025\n",
            "Epoch 48/50\n",
            "450/450 - 3s - loss: 0.1549 - accuracy: 0.9393 - val_loss: 1.0298 - val_accuracy: 0.6981\n",
            "Epoch 49/50\n",
            "450/450 - 3s - loss: 0.1459 - accuracy: 0.9430 - val_loss: 1.0319 - val_accuracy: 0.6837\n",
            "Epoch 50/50\n",
            "450/450 - 3s - loss: 0.1426 - accuracy: 0.9433 - val_loss: 1.0401 - val_accuracy: 0.7025\n",
            "Training Complete\n"
          ],
          "name": "stdout"
        }
      ]
    },
    {
      "cell_type": "code",
      "metadata": {
        "colab": {
          "base_uri": "https://localhost:8080/",
          "height": 607
        },
        "id": "qxju4ItJKO8F",
        "outputId": "4d629c33-d2a9-42b7-cb7f-84d3b9022178"
      },
      "source": [
        "import matplotlib.image  as mpimg\n",
        "import matplotlib.pyplot as plt\n",
        "\n",
        "#-----------------------------------------------------------\n",
        "# Retrieve a list of list results on training and test data\n",
        "# sets for each training epoch\n",
        "#-----------------------------------------------------------\n",
        "acc=history.history['accuracy']\n",
        "val_acc=history.history['val_accuracy']\n",
        "loss=history.history['loss']\n",
        "val_loss=history.history['val_loss']\n",
        "\n",
        "epochs=range(len(acc)) # Get number of epochs\n",
        "\n",
        "#------------------------------------------------\n",
        "# Plot training and validation accuracy per epoch\n",
        "#------------------------------------------------\n",
        "plt.plot(epochs, acc, 'r')\n",
        "plt.plot(epochs, val_acc, 'b')\n",
        "plt.title('Training and validation accuracy')\n",
        "plt.xlabel(\"Epochs\")\n",
        "plt.ylabel(\"Accuracy\")\n",
        "plt.legend([\"Accuracy\", \"Validation Accuracy\"])\n",
        "\n",
        "plt.figure()\n",
        "\n",
        "#------------------------------------------------\n",
        "# Plot training and validation loss per epoch\n",
        "#------------------------------------------------\n",
        "plt.plot(epochs, loss, 'r')\n",
        "plt.plot(epochs, val_loss, 'b')\n",
        "plt.title('Training and validation loss')\n",
        "plt.xlabel(\"Epochs\")\n",
        "plt.ylabel(\"Loss\")\n",
        "plt.legend([\"Loss\", \"Validation Loss\"])\n",
        "\n",
        "plt.figure()\n",
        "\n",
        "\n",
        "# Expected Output\n",
        "# A chart where the validation loss does not increase sharply!"
      ],
      "execution_count": 12,
      "outputs": [
        {
          "output_type": "execute_result",
          "data": {
            "text/plain": [
              "<Figure size 432x288 with 0 Axes>"
            ]
          },
          "metadata": {
            "tags": []
          },
          "execution_count": 12
        },
        {
          "output_type": "display_data",
          "data": {
            "image/png": "[encoded data removed]",
            "text/plain": [
              "<Figure size 432x288 with 1 Axes>"
            ]
          },
          "metadata": {
            "tags": [],
            "needs_background": "light"
          }
        },
        {
          "output_type": "display_data",
          "data": {
            "image/png": "[encoded data removed]",
            "text/plain": [
              "<Figure size 432x288 with 1 Axes>"
            ]
          },
          "metadata": {
            "tags": [],
            "needs_background": "light"
          }
        },
        {
          "output_type": "display_data",
          "data": {
            "text/plain": [
              "<Figure size 432x288 with 0 Axes>"
            ]
          },
          "metadata": {
            "tags": []
          }
        }
      ]
    }
  ]
}