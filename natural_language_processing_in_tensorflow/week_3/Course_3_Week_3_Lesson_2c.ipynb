{
  "nbformat": 4,
  "nbformat_minor": 0,
  "metadata": {
    "accelerator": "GPU",
    "colab": {
      "name": "Course 3 - Week 3 - Lesson 2c.ipynb",
      "provenance": [],
      "collapsed_sections": [],
      "toc_visible": true
    },
    "kernelspec": {
      "display_name": "Python 3",
      "language": "python",
      "name": "python3"
    },
    "language_info": {
      "codemirror_mode": {
        "name": "ipython",
        "version": 3
      },
      "file_extension": ".py",
      "mimetype": "text/x-python",
      "name": "python",
      "nbconvert_exporter": "python",
      "pygments_lexer": "ipython3",
      "version": "3.7.6"
    }
  },
  "cells": [
    {
      "cell_type": "code",
      "metadata": {
        "id": "zX4Kg8DUTKWO"
      },
      "source": [
        "#@title Licensed under the Apache License, Version 2.0 (the \"License\");\n",
        "# you may not use this file except in compliance with the License.\n",
        "# You may obtain a copy of the License at\n",
        "#\n",
        "# https://www.apache.org/licenses/LICENSE-2.0\n",
        "#\n",
        "# Unless required by applicable law or agreed to in writing, software\n",
        "# distributed under the License is distributed on an \"AS IS\" BASIS,\n",
        "# WITHOUT WARRANTIES OR CONDITIONS OF ANY KIND, either express or implied.\n",
        "# See the License for the specific language governing permissions and\n",
        "# limitations under the License."
      ],
      "execution_count": null,
      "outputs": []
    },
    {
      "cell_type": "markdown",
      "metadata": {
        "id": "UL226bs3v0uc"
      },
      "source": [
        "<a href=\"https://colab.research.google.com/github/lmoroney/dlaicourse/blob/master/TensorFlow%20In%20Practice/Course%203%20-%20NLP/Course%203%20-%20Week%203%20-%20Lesson%202c.ipynb\" target=\"_parent\"><img src=\"https://colab.research.google.com/assets/colab-badge.svg\" alt=\"Open In Colab\"/></a>"
      ]
    },
    {
      "cell_type": "code",
      "metadata": {
        "colab": {
          "base_uri": "https://localhost:8080/"
        },
        "id": "jGwXGIXvFhXW",
        "outputId": "ccff2ce1-0277-46fe-e819-e276ec12f129"
      },
      "source": [
        "import numpy as np\n",
        "\n",
        "import json\n",
        "import tensorflow as tf\n",
        "\n",
        "from tensorflow.keras.preprocessing.text import Tokenizer\n",
        "from tensorflow.keras.preprocessing.sequence import pad_sequences\n",
        "\n",
        "!wget --no-check-certificate \\\n",
        "    https://storage.googleapis.com/laurencemoroney-blog.appspot.com/sarcasm.json \\\n",
        "    -O /tmp/sarcasm.json\n",
        "\n",
        "vocab_size = 1000\n",
        "embedding_dim = 16\n",
        "max_length = 120\n",
        "trunc_type='post'\n",
        "padding_type='post'\n",
        "oov_tok = \"<OOV>\"\n",
        "training_size = 20000\n",
        "\n",
        "\n",
        "with open(\"/tmp/sarcasm.json\", 'r') as f:\n",
        "    datastore = json.load(f)\n",
        "\n",
        "\n",
        "sentences = []\n",
        "labels = []\n",
        "urls = []\n",
        "for item in datastore:\n",
        "    sentences.append(item['headline'])\n",
        "    labels.append(item['is_sarcastic'])\n",
        "\n",
        "training_sentences = sentences[0:training_size]\n",
        "testing_sentences = sentences[training_size:]\n",
        "training_labels = labels[0:training_size]\n",
        "testing_labels = labels[training_size:]\n",
        "\n",
        "tokenizer = Tokenizer(num_words=vocab_size, oov_token=oov_tok)\n",
        "tokenizer.fit_on_texts(training_sentences)\n",
        "\n",
        "word_index = tokenizer.word_index\n",
        "\n",
        "training_sequences = tokenizer.texts_to_sequences(training_sentences)\n",
        "training_padded = pad_sequences(training_sequences, maxlen=max_length, padding=padding_type, truncating=trunc_type)\n",
        "\n",
        "testing_sequences = tokenizer.texts_to_sequences(testing_sentences)\n",
        "testing_padded = pad_sequences(testing_sequences, maxlen=max_length, padding=padding_type, truncating=trunc_type)\n",
        "\n",
        "model = tf.keras.Sequential([\n",
        "    tf.keras.layers.Embedding(vocab_size, embedding_dim, input_length=max_length),\n",
        "    tf.keras.layers.Conv1D(128, 5, activation='relu'),\n",
        "    tf.keras.layers.GlobalMaxPooling1D(),\n",
        "    tf.keras.layers.Dense(24, activation='relu'),\n",
        "    tf.keras.layers.Dense(1, activation='sigmoid')\n",
        "])\n",
        "model.compile(loss='binary_crossentropy',optimizer='adam',metrics=['accuracy'])\n",
        "model.summary()\n",
        "\n",
        "num_epochs = 50\n",
        "\n",
        "training_padded = np.array(training_padded)\n",
        "training_labels = np.array(training_labels)\n",
        "testing_padded = np.array(testing_padded)\n",
        "testing_labels = np.array(testing_labels)\n",
        "\n",
        "history = model.fit(training_padded, training_labels, epochs=num_epochs, validation_data=(testing_padded, testing_labels), verbose=1)\n"
      ],
      "execution_count": 1,
      "outputs": [
        {
          "output_type": "stream",
          "text": [
            "--2021-01-04 14:14:38--  https://storage.googleapis.com/laurencemoroney-blog.appspot.com/sarcasm.json\n",
            "Resolving storage.googleapis.com (storage.googleapis.com)... 209.85.234.128, 172.217.212.128, 172.217.214.128, ...\n",
            "Connecting to storage.googleapis.com (storage.googleapis.com)|209.85.234.128|:443... connected.\n",
            "HTTP request sent, awaiting response... 200 OK\n",
            "Length: 5643545 (5.4M) [application/json]\n",
            "Saving to: ‘/tmp/sarcasm.json’\n",
            "\n",
            "\r/tmp/sarcasm.json     0%[                    ]       0  --.-KB/s               \r/tmp/sarcasm.json   100%[===================>]   5.38M  --.-KB/s    in 0.05s   \n",
            "\n",
            "2021-01-04 14:14:38 (105 MB/s) - ‘/tmp/sarcasm.json’ saved [5643545/5643545]\n",
            "\n",
            "Model: \"sequential\"\n",
            "_________________________________________________________________\n",
            "Layer (type)                 Output Shape              Param #   \n",
            "=================================================================\n",
            "embedding (Embedding)        (None, 120, 16)           16000     \n",
            "_________________________________________________________________\n",
            "conv1d (Conv1D)              (None, 116, 128)          10368     \n",
            "_________________________________________________________________\n",
            "global_max_pooling1d (Global (None, 128)               0         \n",
            "_________________________________________________________________\n",
            "dense (Dense)                (None, 24)                3096      \n",
            "_________________________________________________________________\n",
            "dense_1 (Dense)              (None, 1)                 25        \n",
            "=================================================================\n",
            "Total params: 29,489\n",
            "Trainable params: 29,489\n",
            "Non-trainable params: 0\n",
            "_________________________________________________________________\n",
            "Epoch 1/50\n",
            "625/625 [==============================] - 10s 15ms/step - loss: 0.5640 - accuracy: 0.6850 - val_loss: 0.4097 - val_accuracy: 0.8192\n",
            "Epoch 2/50\n",
            "625/625 [==============================] - 9s 15ms/step - loss: 0.3523 - accuracy: 0.8432 - val_loss: 0.3889 - val_accuracy: 0.8283\n",
            "Epoch 3/50\n",
            "625/625 [==============================] - 9s 15ms/step - loss: 0.3049 - accuracy: 0.8692 - val_loss: 0.3910 - val_accuracy: 0.8268\n",
            "Epoch 4/50\n",
            "625/625 [==============================] - 10s 15ms/step - loss: 0.2766 - accuracy: 0.8803 - val_loss: 0.3983 - val_accuracy: 0.8249\n",
            "Epoch 5/50\n",
            "625/625 [==============================] - 9s 15ms/step - loss: 0.2376 - accuracy: 0.9079 - val_loss: 0.4327 - val_accuracy: 0.8247\n",
            "Epoch 6/50\n",
            "625/625 [==============================] - 10s 15ms/step - loss: 0.2032 - accuracy: 0.9199 - val_loss: 0.4474 - val_accuracy: 0.8244\n",
            "Epoch 7/50\n",
            "625/625 [==============================] - 9s 15ms/step - loss: 0.1774 - accuracy: 0.9315 - val_loss: 0.5016 - val_accuracy: 0.8171\n",
            "Epoch 8/50\n",
            "625/625 [==============================] - 9s 15ms/step - loss: 0.1516 - accuracy: 0.9414 - val_loss: 0.5600 - val_accuracy: 0.8122\n",
            "Epoch 9/50\n",
            "625/625 [==============================] - 9s 15ms/step - loss: 0.1304 - accuracy: 0.9536 - val_loss: 0.6153 - val_accuracy: 0.8089\n",
            "Epoch 10/50\n",
            "625/625 [==============================] - 9s 15ms/step - loss: 0.1024 - accuracy: 0.9620 - val_loss: 0.6739 - val_accuracy: 0.8085\n",
            "Epoch 11/50\n",
            "625/625 [==============================] - 9s 15ms/step - loss: 0.0867 - accuracy: 0.9720 - val_loss: 0.7648 - val_accuracy: 0.8000\n",
            "Epoch 12/50\n",
            "625/625 [==============================] - 9s 15ms/step - loss: 0.0716 - accuracy: 0.9760 - val_loss: 0.8381 - val_accuracy: 0.8050\n",
            "Epoch 13/50\n",
            "625/625 [==============================] - 9s 15ms/step - loss: 0.0547 - accuracy: 0.9811 - val_loss: 0.9323 - val_accuracy: 0.7965\n",
            "Epoch 14/50\n",
            "625/625 [==============================] - 9s 15ms/step - loss: 0.0525 - accuracy: 0.9818 - val_loss: 1.0821 - val_accuracy: 0.7989\n",
            "Epoch 15/50\n",
            "625/625 [==============================] - 9s 15ms/step - loss: 0.0482 - accuracy: 0.9819 - val_loss: 1.0758 - val_accuracy: 0.7951\n",
            "Epoch 16/50\n",
            "625/625 [==============================] - 9s 15ms/step - loss: 0.0404 - accuracy: 0.9865 - val_loss: 1.2198 - val_accuracy: 0.7921\n",
            "Epoch 17/50\n",
            "625/625 [==============================] - 10s 15ms/step - loss: 0.0343 - accuracy: 0.9883 - val_loss: 1.2787 - val_accuracy: 0.7945\n",
            "Epoch 18/50\n",
            "625/625 [==============================] - 9s 15ms/step - loss: 0.0334 - accuracy: 0.9866 - val_loss: 1.3049 - val_accuracy: 0.7915\n",
            "Epoch 19/50\n",
            "625/625 [==============================] - 9s 15ms/step - loss: 0.0356 - accuracy: 0.9857 - val_loss: 1.3894 - val_accuracy: 0.7934\n",
            "Epoch 20/50\n",
            "625/625 [==============================] - 9s 15ms/step - loss: 0.0304 - accuracy: 0.9890 - val_loss: 1.3942 - val_accuracy: 0.7939\n",
            "Epoch 21/50\n",
            "625/625 [==============================] - 9s 15ms/step - loss: 0.0320 - accuracy: 0.9875 - val_loss: 1.5295 - val_accuracy: 0.7906\n",
            "Epoch 22/50\n",
            "625/625 [==============================] - 9s 15ms/step - loss: 0.0286 - accuracy: 0.9880 - val_loss: 1.5307 - val_accuracy: 0.7997\n",
            "Epoch 23/50\n",
            "625/625 [==============================] - 9s 15ms/step - loss: 0.0339 - accuracy: 0.9874 - val_loss: 1.5798 - val_accuracy: 0.7922\n",
            "Epoch 24/50\n",
            "625/625 [==============================] - 10s 15ms/step - loss: 0.0258 - accuracy: 0.9895 - val_loss: 1.6509 - val_accuracy: 0.7921\n",
            "Epoch 25/50\n",
            "625/625 [==============================] - 10s 16ms/step - loss: 0.0267 - accuracy: 0.9893 - val_loss: 1.6747 - val_accuracy: 0.7939\n",
            "Epoch 26/50\n",
            "625/625 [==============================] - 9s 15ms/step - loss: 0.0255 - accuracy: 0.9899 - val_loss: 1.7106 - val_accuracy: 0.7970\n",
            "Epoch 27/50\n",
            "625/625 [==============================] - 9s 15ms/step - loss: 0.0241 - accuracy: 0.9898 - val_loss: 1.7628 - val_accuracy: 0.7949\n",
            "Epoch 28/50\n",
            "625/625 [==============================] - 9s 15ms/step - loss: 0.0251 - accuracy: 0.9897 - val_loss: 1.8023 - val_accuracy: 0.7874\n",
            "Epoch 29/50\n",
            "625/625 [==============================] - 9s 15ms/step - loss: 0.0295 - accuracy: 0.9858 - val_loss: 1.8399 - val_accuracy: 0.7912\n",
            "Epoch 30/50\n",
            "625/625 [==============================] - 10s 15ms/step - loss: 0.0234 - accuracy: 0.9906 - val_loss: 1.8901 - val_accuracy: 0.7857\n",
            "Epoch 31/50\n",
            "625/625 [==============================] - 9s 15ms/step - loss: 0.0223 - accuracy: 0.9917 - val_loss: 1.9534 - val_accuracy: 0.7933\n",
            "Epoch 32/50\n",
            "625/625 [==============================] - 9s 15ms/step - loss: 0.0206 - accuracy: 0.9912 - val_loss: 1.9960 - val_accuracy: 0.7970\n",
            "Epoch 33/50\n",
            "625/625 [==============================] - 9s 15ms/step - loss: 0.0206 - accuracy: 0.9913 - val_loss: 2.0225 - val_accuracy: 0.8000\n",
            "Epoch 34/50\n",
            "625/625 [==============================] - 9s 15ms/step - loss: 0.0236 - accuracy: 0.9905 - val_loss: 2.1650 - val_accuracy: 0.7921\n",
            "Epoch 35/50\n",
            "625/625 [==============================] - 9s 15ms/step - loss: 0.0204 - accuracy: 0.9912 - val_loss: 2.1702 - val_accuracy: 0.7925\n",
            "Epoch 36/50\n",
            "625/625 [==============================] - 9s 15ms/step - loss: 0.0258 - accuracy: 0.9880 - val_loss: 2.1240 - val_accuracy: 0.7927\n",
            "Epoch 37/50\n",
            "625/625 [==============================] - 9s 15ms/step - loss: 0.0231 - accuracy: 0.9909 - val_loss: 2.0928 - val_accuracy: 0.7953\n",
            "Epoch 38/50\n",
            "625/625 [==============================] - 9s 15ms/step - loss: 0.0219 - accuracy: 0.9912 - val_loss: 2.2234 - val_accuracy: 0.7903\n",
            "Epoch 39/50\n",
            "625/625 [==============================] - 9s 15ms/step - loss: 0.0187 - accuracy: 0.9920 - val_loss: 2.1971 - val_accuracy: 0.7848\n",
            "Epoch 40/50\n",
            "625/625 [==============================] - 9s 15ms/step - loss: 0.0194 - accuracy: 0.9920 - val_loss: 2.3004 - val_accuracy: 0.7863\n",
            "Epoch 41/50\n",
            "625/625 [==============================] - 9s 15ms/step - loss: 0.0192 - accuracy: 0.9920 - val_loss: 2.3529 - val_accuracy: 0.7891\n",
            "Epoch 42/50\n",
            "625/625 [==============================] - 9s 15ms/step - loss: 0.0158 - accuracy: 0.9938 - val_loss: 2.3638 - val_accuracy: 0.7912\n",
            "Epoch 43/50\n",
            "625/625 [==============================] - 9s 15ms/step - loss: 0.0174 - accuracy: 0.9920 - val_loss: 2.4065 - val_accuracy: 0.7943\n",
            "Epoch 44/50\n",
            "625/625 [==============================] - 9s 15ms/step - loss: 0.0235 - accuracy: 0.9898 - val_loss: 2.3656 - val_accuracy: 0.7945\n",
            "Epoch 45/50\n",
            "625/625 [==============================] - 9s 15ms/step - loss: 0.0177 - accuracy: 0.9922 - val_loss: 2.3092 - val_accuracy: 0.7930\n",
            "Epoch 46/50\n",
            "625/625 [==============================] - 9s 15ms/step - loss: 0.0159 - accuracy: 0.9927 - val_loss: 2.4701 - val_accuracy: 0.7915\n",
            "Epoch 47/50\n",
            "625/625 [==============================] - 9s 15ms/step - loss: 0.0168 - accuracy: 0.9932 - val_loss: 2.3462 - val_accuracy: 0.7907\n",
            "Epoch 48/50\n",
            "625/625 [==============================] - 9s 15ms/step - loss: 0.0256 - accuracy: 0.9891 - val_loss: 2.4309 - val_accuracy: 0.7907\n",
            "Epoch 49/50\n",
            "625/625 [==============================] - 9s 15ms/step - loss: 0.0228 - accuracy: 0.9907 - val_loss: 2.4478 - val_accuracy: 0.7925\n",
            "Epoch 50/50\n",
            "625/625 [==============================] - 10s 16ms/step - loss: 0.0181 - accuracy: 0.9911 - val_loss: 2.4722 - val_accuracy: 0.7959\n"
          ],
          "name": "stdout"
        }
      ]
    },
    {
      "cell_type": "code",
      "metadata": {
        "colab": {
          "base_uri": "https://localhost:8080/",
          "height": 542
        },
        "id": "g9DC6dmLF8DC",
        "outputId": "5944902a-ee9c-4007-c393-1c1e776c609d"
      },
      "source": [
        "import matplotlib.pyplot as plt\n",
        "\n",
        "\n",
        "def plot_graphs(history, string):\n",
        "  plt.plot(history.history[string])\n",
        "  plt.plot(history.history['val_'+string])\n",
        "  plt.xlabel(\"Epochs\")\n",
        "  plt.ylabel(string)\n",
        "  plt.legend([string, 'val_'+string])\n",
        "  plt.show()\n",
        "\n",
        "plot_graphs(history, 'accuracy')\n",
        "plot_graphs(history, 'loss')"
      ],
      "execution_count": 2,
      "outputs": [
        {
          "output_type": "display_data",
          "data": {
            "image/png": "[encoded data removed]",
            "text/plain": [
              "<Figure size 432x288 with 1 Axes>"
            ]
          },
          "metadata": {
            "tags": [],
            "needs_background": "light"
          }
        },
        {
          "output_type": "display_data",
          "data": {
            "image/png": "[encoded data removed]",
            "text/plain": [
              "<Figure size 432x288 with 1 Axes>"
            ]
          },
          "metadata": {
            "tags": [],
            "needs_background": "light"
          }
        }
      ]
    },
    {
      "cell_type": "code",
      "metadata": {
        "id": "7ZEZIUppGhdi"
      },
      "source": [
        "model.save(\"test.h5\")"
      ],
      "execution_count": null,
      "outputs": []
    }
  ]
}