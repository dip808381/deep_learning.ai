{
 "cells": [
  {
   "cell_type": "code",
   "execution_count": null,
   "metadata": {
    "id": "zX4Kg8DUTKWO"
   },
   "outputs": [],
   "source": [
    "#@title Licensed under the Apache License, Version 2.0 (the \"License\");\n",
    "# you may not use this file except in compliance with the License.\n",
    "# You may obtain a copy of the License at\n",
    "#\n",
    "# https://www.apache.org/licenses/LICENSE-2.0\n",
    "#\n",
    "# Unless required by applicable law or agreed to in writing, software\n",
    "# distributed under the License is distributed on an \"AS IS\" BASIS,\n",
    "# WITHOUT WARRANTIES OR CONDITIONS OF ANY KIND, either express or implied.\n",
    "# See the License for the specific language governing permissions and\n",
    "# limitations under the License."
   ]
  },
  {
   "cell_type": "markdown",
   "metadata": {
    "id": "view-in-github"
   },
   "source": [
    "<a href=\"https://colab.research.google.com/github/lmoroney/dlaicourse/blob/master/TensorFlow%20In%20Practice/Course%203%20-%20NLP/Course%203%20-%20Week%202%20-%20Lesson%201.ipynb\" target=\"_parent\"><img src=\"https://colab.research.google.com/assets/colab-badge.svg\" alt=\"Open In Colab\"/></a>"
   ]
  },
  {
   "cell_type": "code",
   "execution_count": 1,
   "metadata": {
    "colab": {
     "base_uri": "https://localhost:8080/"
    },
    "id": "P-AhVYeBWgQ3",
    "outputId": "1a8620b4-a255-485c-8ad9-c737164da0c8"
   },
   "outputs": [
    {
     "name": "stdout",
     "output_type": "stream",
     "text": [
      "2.5.0-dev20201214\n"
     ]
    }
   ],
   "source": [
    "import tensorflow as tf\n",
    "print(tf.__version__)\n",
    "\n",
    "# !pip install -q tensorflow-datasets\n",
    "# pip install tensorflow_datasets"
   ]
  },
  {
   "cell_type": "code",
   "execution_count": 3,
   "metadata": {
    "colab": {
     "base_uri": "https://localhost:8080/",
     "height": 367,
     "referenced_widgets": [
      "6e3443b3903b4a1d8152ea22e20d3521",
      "aee733c976ed4da8b49916c3defac8ad",
      "aea3fe388c764b2796976bd1a1330ab2",
      "3e65e699698b475bad49b0e9f7b4625f",
      "a269f680608348409ccc08a9132d9381",
      "84be57e320ad42fca25022a5deb23578",
      "41f408868221486a8d728e34a06a647c",
      "20800c7b2c9148ab8602fe1c749a7515",
      "01d6d60d0d4e46bba4fb290713ddf01c",
      "2982663d1a6c4f0eb7fa6c21e6538fe9",
      "99c0740f2d734972a8f848200809545c",
      "2cfbdf0778d74935a33a5e50e4fef85e",
      "a303b40961034d2f82728b94a8725e8e",
      "d300a079c4a0414b9660745114fd1ba5",
      "1366bd6bc7bc4c57917059dd40376f5d",
      "a0b49bacf8c545c0b57a0bcdf82262fe",
      "7dbab6c39bb042e48f074d3a0fd56088",
      "f3fd48534cc040459105cc24fae1f2cc",
      "7a7328ef142f4be7b844e105537f4fca",
      "4ac603db8b1b472e936858a49c1574a8",
      "cf4afb29c51141669249f19d7940e90c",
      "8df925418b1e45bea2ffcf26d0828a94",
      "e785dd1478c742ed868de311ff963fb7",
      "0dcd7fa6e48c478696fcc17a44fe3080",
      "6dfcaa6c87dd4002b5c6c4563980e13f",
      "03a9f12bd05f456fb5221b6abe2172a9",
      "2f40c27a8b7c41fbb8c1b157c26a97b5",
      "3157d4534d4b46ab9e59e3016a8a98e4",
      "4182ea2425c54cedaed438beab35b1db",
      "b3f4e2790310451fa92179cf5fef1f86",
      "1f0bed1826264e0f990605aa4d25e326",
      "9d0d18409ad648f4b5e55b7a26d7ce6e",
      "2eba29d0bd6e46ab9455db4744860559",
      "fab78292c76f4c79a5b1a810931660ac",
      "c1b04fdec5b64daf84051f8d50494af5",
      "f9af3173d6fa456bb42ccd3e4db4284d",
      "6e0dd7fc52a1447988f36b640e91e9e7",
      "1b7f91200ade405f849b82287f16cb17",
      "13a332ac541f469fbe8101d5936d3d08",
      "4951891b148446faa34055a94e5486b7",
      "c448b8ede8564bb789f688cc22e9c0de",
      "a359d754325f49ddb127624e75945aa1",
      "dc9a2c49f3c74dc58c034a0eeae0378a",
      "0eee1f6972a84a6b8ab627a3a660d615",
      "cdcbde45c5fc4afcb5d30af383f4d16c",
      "8af19cf30288413d820ef04084dfa537",
      "0897800ef38540f8aa4477912af24029",
      "aa645c067f43401bbddad5a0b73f7040",
      "336334cabc8d4fb29da2aa60671abbc7",
      "461a3bf005d84cee854c1192cc26c3f5",
      "576122f859a84eb2a06333f73d08a9bf",
      "69450e3ea9d94fbdbf6190a0afdd92d8",
      "bb434f72ac93433585dd8cd9f84ccb00",
      "285654c6c1ba4ca6bb103fe082234e59",
      "6da990f1ebfe428cbbe399a4df8ec08f",
      "cd870e81ae62476f8e8aee90853b42e5",
      "039fda334d9349d2bfad411461f21220",
      "f7752d17ef5c4d789f752e26c829684e",
      "eb484df5c87148e0a124bd6152c810ca",
      "bec7b170a49840e7b878de99d3c858ed",
      "d02501de9c254ea0bfce102d67827f83",
      "2da5c94389664737ae879260b874716a",
      "69a2819739004d218d40f71cf69c6db9",
      "efc28f83bb624d7d9d640012683c645d"
     ]
    },
    "id": "_IoM4VFxWpMR",
    "outputId": "37f6e7ca-6109-4f32-9004-f3580fa9ebc9"
   },
   "outputs": [
    {
     "name": "stdout",
     "output_type": "stream",
     "text": [
      "Downloading and preparing dataset imdb_reviews/plain_text/1.0.0 (download: Unknown size, generated: Unknown size, total: Unknown size) to C:\\Users\\dipesh\\tensorflow_datasets\\imdb_reviews\\plain_text\\1.0.0...\n"
     ]
    },
    {
     "data": {
      "application/vnd.jupyter.widget-view+json": {
       "model_id": "ed13079f01a54519bcb4a69a2aad425e",
       "version_major": 2,
       "version_minor": 0
      },
      "text/plain": [
       "HBox(children=(IntProgress(value=1, bar_style='info', description='Dl Completed...', max=1, style=ProgressStyl…"
      ]
     },
     "metadata": {},
     "output_type": "display_data"
    },
    {
     "data": {
      "application/vnd.jupyter.widget-view+json": {
       "model_id": "80ea64de4673440ba85066ad0e9fccd6",
       "version_major": 2,
       "version_minor": 0
      },
      "text/plain": [
       "HBox(children=(IntProgress(value=1, bar_style='info', description='Dl Size...', max=1, style=ProgressStyle(des…"
      ]
     },
     "metadata": {},
     "output_type": "display_data"
    },
    {
     "name": "stdout",
     "output_type": "stream",
     "text": [
      "\n",
      "\n",
      "\n"
     ]
    },
    {
     "data": {
      "application/vnd.jupyter.widget-view+json": {
       "model_id": "",
       "version_major": 2,
       "version_minor": 0
      },
      "text/plain": [
       "HBox(children=(IntProgress(value=0, max=3), HTML(value='')))"
      ]
     },
     "metadata": {},
     "output_type": "display_data"
    },
    {
     "data": {
      "application/vnd.jupyter.widget-view+json": {
       "model_id": "",
       "version_major": 2,
       "version_minor": 0
      },
      "text/plain": [
       "HBox(children=(IntProgress(value=1, bar_style='info', max=1), HTML(value='')))"
      ]
     },
     "metadata": {},
     "output_type": "display_data"
    },
    {
     "name": "stdout",
     "output_type": "stream",
     "text": [
      "Shuffling and writing examples to C:\\/Users/dipesh/tensorflow_datasets/imdb_reviews/plain_text/1.0.0.incompleteJSYZ80/imdb_reviews-train.tfrecord\n"
     ]
    },
    {
     "data": {
      "application/vnd.jupyter.widget-view+json": {
       "model_id": "1f271516eef14c719e65de344473bea2",
       "version_major": 2,
       "version_minor": 0
      },
      "text/plain": [
       "HBox(children=(IntProgress(value=0, max=25000), HTML(value='')))"
      ]
     },
     "metadata": {},
     "output_type": "display_data"
    },
    {
     "data": {
      "application/vnd.jupyter.widget-view+json": {
       "model_id": "",
       "version_major": 2,
       "version_minor": 0
      },
      "text/plain": [
       "HBox(children=(IntProgress(value=1, bar_style='info', max=1), HTML(value='')))"
      ]
     },
     "metadata": {},
     "output_type": "display_data"
    },
    {
     "name": "stdout",
     "output_type": "stream",
     "text": [
      "Shuffling and writing examples to C:\\/Users/dipesh/tensorflow_datasets/imdb_reviews/plain_text/1.0.0.incompleteJSYZ80/imdb_reviews-test.tfrecord\n"
     ]
    },
    {
     "data": {
      "application/vnd.jupyter.widget-view+json": {
       "model_id": "0e81247c442e4b989921a45d6b3c71f4",
       "version_major": 2,
       "version_minor": 0
      },
      "text/plain": [
       "HBox(children=(IntProgress(value=0, max=25000), HTML(value='')))"
      ]
     },
     "metadata": {},
     "output_type": "display_data"
    },
    {
     "data": {
      "application/vnd.jupyter.widget-view+json": {
       "model_id": "",
       "version_major": 2,
       "version_minor": 0
      },
      "text/plain": [
       "HBox(children=(IntProgress(value=1, bar_style='info', max=1), HTML(value='')))"
      ]
     },
     "metadata": {},
     "output_type": "display_data"
    },
    {
     "name": "stdout",
     "output_type": "stream",
     "text": [
      "Shuffling and writing examples to C:\\/Users/dipesh/tensorflow_datasets/imdb_reviews/plain_text/1.0.0.incompleteJSYZ80/imdb_reviews-unsupervised.tfrecord\n"
     ]
    },
    {
     "data": {
      "application/vnd.jupyter.widget-view+json": {
       "model_id": "d73692c237a74716a38d49ddc18209ef",
       "version_major": 2,
       "version_minor": 0
      },
      "text/plain": [
       "HBox(children=(IntProgress(value=0, max=50000), HTML(value='')))"
      ]
     },
     "metadata": {},
     "output_type": "display_data"
    },
    {
     "name": "stdout",
     "output_type": "stream",
     "text": [
      "Dataset imdb_reviews downloaded and prepared to C:\\Users\\dipesh\\tensorflow_datasets\\imdb_reviews\\plain_text\\1.0.0. Subsequent calls will reuse this data.\n"
     ]
    }
   ],
   "source": [
    "import tensorflow_datasets as tfds\n",
    "imdb, info = tfds.load(\"imdb_reviews\", with_info=True, as_supervised=True)\n"
   ]
  },
  {
   "cell_type": "code",
   "execution_count": 4,
   "metadata": {
    "id": "wHQ2Ko0zl7M4"
   },
   "outputs": [],
   "source": [
    "import numpy as np\n",
    "\n",
    "train_data, test_data = imdb['train'], imdb['test']\n",
    "\n",
    "training_sentences = []\n",
    "training_labels = []\n",
    "\n",
    "testing_sentences = []\n",
    "testing_labels = []\n",
    "\n",
    "# str(s.tonumpy()) is needed in Python3 instead of just s.numpy()\n",
    "for s,l in train_data:\n",
    "  training_sentences.append(s.numpy().decode('utf8'))\n",
    "  training_labels.append(l.numpy())\n",
    "  \n",
    "for s,l in test_data:\n",
    "  testing_sentences.append(s.numpy().decode('utf8'))\n",
    "  testing_labels.append(l.numpy())\n",
    "  \n",
    "training_labels_final = np.array(training_labels)\n",
    "testing_labels_final = np.array(testing_labels)\n"
   ]
  },
  {
   "cell_type": "code",
   "execution_count": 5,
   "metadata": {
    "id": "7n15yyMdmoH1"
   },
   "outputs": [],
   "source": [
    "vocab_size = 10000\n",
    "embedding_dim = 16\n",
    "max_length = 120\n",
    "trunc_type='post'\n",
    "oov_tok = \"<OOV>\"\n",
    "\n",
    "\n",
    "from tensorflow.keras.preprocessing.text import Tokenizer\n",
    "from tensorflow.keras.preprocessing.sequence import pad_sequences\n",
    "\n",
    "tokenizer = Tokenizer(num_words = vocab_size, oov_token=oov_tok)\n",
    "tokenizer.fit_on_texts(training_sentences)\n",
    "word_index = tokenizer.word_index\n",
    "sequences = tokenizer.texts_to_sequences(training_sentences)\n",
    "padded = pad_sequences(sequences,maxlen=max_length, truncating=trunc_type)\n",
    "\n",
    "testing_sequences = tokenizer.texts_to_sequences(testing_sentences)\n",
    "testing_padded = pad_sequences(testing_sequences,maxlen=max_length)\n"
   ]
  },
  {
   "cell_type": "code",
   "execution_count": 9,
   "metadata": {
    "colab": {
     "base_uri": "https://localhost:8080/"
    },
    "id": "9axf0uIXVMhO",
    "outputId": "1ee5f78b-4435-4b60-85c9-e12cbdd29210"
   },
   "outputs": [
    {
     "name": "stdout",
     "output_type": "stream",
     "text": [
      "? ? ? ? ? ? ? ? ? ? ? ? ? ? ? ? ? ? ? ? ? ? ? ? ? ? ? ? ? ? ? this is the kind of film for a snowy sunday afternoon when the rest of the world can go ahead with its own business as you <OOV> into a big arm chair and <OOV> for a couple of hours wonderful performances from cher and nicolas cage as always gently row the plot along there are no <OOV> to cross no dangerous waters just a warm and witty <OOV> through new york life at its best a family film in every sense and one that deserves the praise it received\n",
      "This is the kind of film for a snowy Sunday afternoon when the rest of the world can go ahead with its own business as you descend into a big arm-chair and mellow for a couple of hours. Wonderful performances from Cher and Nicolas Cage (as always) gently row the plot along. There are no rapids to cross, no dangerous waters, just a warm and witty paddle through New York life at its best. A family film in every sense and one that deserves the praise it received.\n"
     ]
    }
   ],
   "source": [
    "reverse_word_index = dict([(value, key) for (key, value) in word_index.items()])\n",
    "\n",
    "def decode_review(text):\n",
    "    return ' '.join([reverse_word_index.get(i, '?') for i in text])\n",
    "\n",
    "print(decode_review(padded[3]))\n",
    "print(training_sentences[3])"
   ]
  },
  {
   "cell_type": "code",
   "execution_count": 10,
   "metadata": {
    "colab": {
     "base_uri": "https://localhost:8080/"
    },
    "id": "5NEpdhb8AxID",
    "outputId": "fe1cc797-c2a1-4a9c-fd08-4543712fcbb2"
   },
   "outputs": [
    {
     "name": "stdout",
     "output_type": "stream",
     "text": [
      "Model: \"sequential\"\n",
      "_________________________________________________________________\n",
      "Layer (type)                 Output Shape              Param #   \n",
      "=================================================================\n",
      "embedding (Embedding)        (None, 120, 16)           160000    \n",
      "_________________________________________________________________\n",
      "flatten (Flatten)            (None, 1920)              0         \n",
      "_________________________________________________________________\n",
      "dense (Dense)                (None, 6)                 11526     \n",
      "_________________________________________________________________\n",
      "dense_1 (Dense)              (None, 1)                 7         \n",
      "=================================================================\n",
      "Total params: 171,533\n",
      "Trainable params: 171,533\n",
      "Non-trainable params: 0\n",
      "_________________________________________________________________\n"
     ]
    }
   ],
   "source": [
    "model = tf.keras.Sequential([\n",
    "    tf.keras.layers.Embedding(vocab_size, embedding_dim, input_length=max_length),\n",
    "    tf.keras.layers.Flatten(),\n",
    "    tf.keras.layers.Dense(6, activation='relu'),\n",
    "    tf.keras.layers.Dense(1, activation='sigmoid')\n",
    "])\n",
    "model.compile(loss='binary_crossentropy',optimizer='adam',metrics=['accuracy'])\n",
    "model.summary()\n"
   ]
  },
  {
   "cell_type": "code",
   "execution_count": 11,
   "metadata": {
    "colab": {
     "base_uri": "https://localhost:8080/"
    },
    "id": "V5LLrXC-uNX6",
    "outputId": "43cc9520-ebca-42f9-8c9c-0f372be81fe3"
   },
   "outputs": [
    {
     "name": "stdout",
     "output_type": "stream",
     "text": [
      "Epoch 1/10\n",
      "782/782 [==============================] - ETA: 7:16 - loss: 0.6949 - accuracy: 0.40 - ETA: 2s - loss: 0.6933 - accuracy: 0.5097 - ETA: 2s - loss: 0.6929 - accuracy: 0.51 - ETA: 2s - loss: 0.6924 - accuracy: 0.51 - ETA: 2s - loss: 0.6923 - accuracy: 0.51 - ETA: 2s - loss: 0.6923 - accuracy: 0.52 - ETA: 1s - loss: 0.6922 - accuracy: 0.52 - ETA: 1s - loss: 0.6922 - accuracy: 0.52 - ETA: 1s - loss: 0.6921 - accuracy: 0.52 - ETA: 1s - loss: 0.6921 - accuracy: 0.52 - ETA: 1s - loss: 0.6920 - accuracy: 0.53 - ETA: 1s - loss: 0.6919 - accuracy: 0.53 - ETA: 1s - loss: 0.6916 - accuracy: 0.53 - ETA: 1s - loss: 0.6914 - accuracy: 0.53 - ETA: 1s - loss: 0.6909 - accuracy: 0.53 - ETA: 1s - loss: 0.6903 - accuracy: 0.53 - ETA: 1s - loss: 0.6891 - accuracy: 0.54 - ETA: 1s - loss: 0.6877 - accuracy: 0.54 - ETA: 1s - loss: 0.6857 - accuracy: 0.54 - ETA: 1s - loss: 0.6832 - accuracy: 0.55 - ETA: 1s - loss: 0.6807 - accuracy: 0.55 - ETA: 1s - loss: 0.6775 - accuracy: 0.56 - ETA: 1s - loss: 0.6740 - accuracy: 0.56 - ETA: 1s - loss: 0.6712 - accuracy: 0.57 - ETA: 0s - loss: 0.6681 - accuracy: 0.57 - ETA: 0s - loss: 0.6644 - accuracy: 0.57 - ETA: 0s - loss: 0.6608 - accuracy: 0.58 - ETA: 0s - loss: 0.6579 - accuracy: 0.58 - ETA: 0s - loss: 0.6544 - accuracy: 0.58 - ETA: 0s - loss: 0.6508 - accuracy: 0.59 - ETA: 0s - loss: 0.6477 - accuracy: 0.59 - ETA: 0s - loss: 0.6442 - accuracy: 0.60 - ETA: 0s - loss: 0.6410 - accuracy: 0.60 - ETA: 0s - loss: 0.6380 - accuracy: 0.60 - ETA: 0s - loss: 0.6345 - accuracy: 0.61 - ETA: 0s - loss: 0.6318 - accuracy: 0.61 - ETA: 0s - loss: 0.6288 - accuracy: 0.61 - ETA: 0s - loss: 0.6257 - accuracy: 0.61 - ETA: 0s - loss: 0.6228 - accuracy: 0.62 - ETA: 0s - loss: 0.6199 - accuracy: 0.62 - ETA: 0s - loss: 0.6171 - accuracy: 0.62 - ETA: 0s - loss: 0.6155 - accuracy: 0.62 - 4s 4ms/step - loss: 0.6139 - accuracy: 0.6304 - val_loss: 0.3431 - val_accuracy: 0.8492\n",
      "Epoch 2/10\n",
      "782/782 [==============================] - ETA: 6s - loss: 0.3694 - accuracy: 0.87 - ETA: 2s - loss: 0.2546 - accuracy: 0.91 - ETA: 2s - loss: 0.2538 - accuracy: 0.91 - ETA: 2s - loss: 0.2561 - accuracy: 0.91 - ETA: 2s - loss: 0.2590 - accuracy: 0.91 - ETA: 2s - loss: 0.2601 - accuracy: 0.90 - ETA: 2s - loss: 0.2605 - accuracy: 0.90 - ETA: 2s - loss: 0.2608 - accuracy: 0.90 - ETA: 2s - loss: 0.2610 - accuracy: 0.90 - ETA: 2s - loss: 0.2608 - accuracy: 0.90 - ETA: 2s - loss: 0.2605 - accuracy: 0.90 - ETA: 2s - loss: 0.2602 - accuracy: 0.90 - ETA: 2s - loss: 0.2597 - accuracy: 0.90 - ETA: 1s - loss: 0.2592 - accuracy: 0.90 - ETA: 1s - loss: 0.2588 - accuracy: 0.90 - ETA: 1s - loss: 0.2583 - accuracy: 0.90 - ETA: 1s - loss: 0.2579 - accuracy: 0.90 - ETA: 1s - loss: 0.2576 - accuracy: 0.90 - ETA: 1s - loss: 0.2574 - accuracy: 0.90 - ETA: 1s - loss: 0.2572 - accuracy: 0.90 - ETA: 1s - loss: 0.2570 - accuracy: 0.90 - ETA: 1s - loss: 0.2567 - accuracy: 0.90 - ETA: 1s - loss: 0.2565 - accuracy: 0.90 - ETA: 1s - loss: 0.2563 - accuracy: 0.90 - ETA: 1s - loss: 0.2561 - accuracy: 0.90 - ETA: 1s - loss: 0.2559 - accuracy: 0.90 - ETA: 1s - loss: 0.2557 - accuracy: 0.90 - ETA: 0s - loss: 0.2555 - accuracy: 0.90 - ETA: 0s - loss: 0.2553 - accuracy: 0.90 - ETA: 0s - loss: 0.2551 - accuracy: 0.90 - ETA: 0s - loss: 0.2549 - accuracy: 0.90 - ETA: 0s - loss: 0.2548 - accuracy: 0.90 - ETA: 0s - loss: 0.2546 - accuracy: 0.90 - ETA: 0s - loss: 0.2545 - accuracy: 0.90 - ETA: 0s - loss: 0.2543 - accuracy: 0.90 - ETA: 0s - loss: 0.2541 - accuracy: 0.90 - ETA: 0s - loss: 0.2539 - accuracy: 0.90 - ETA: 0s - loss: 0.2538 - accuracy: 0.90 - ETA: 0s - loss: 0.2536 - accuracy: 0.90 - ETA: 0s - loss: 0.2534 - accuracy: 0.90 - ETA: 0s - loss: 0.2532 - accuracy: 0.90 - ETA: 0s - loss: 0.2530 - accuracy: 0.90 - ETA: 0s - loss: 0.2528 - accuracy: 0.90 - ETA: 0s - loss: 0.2527 - accuracy: 0.90 - ETA: 0s - loss: 0.2525 - accuracy: 0.90 - 3s 4ms/step - loss: 0.2525 - accuracy: 0.9036 - val_loss: 0.3548 - val_accuracy: 0.8467\n",
      "Epoch 3/10\n",
      "782/782 [==============================] - ETA: 6s - loss: 0.0802 - accuracy: 0.96 - ETA: 2s - loss: 0.1099 - accuracy: 0.97 - ETA: 2s - loss: 0.1121 - accuracy: 0.97 - ETA: 2s - loss: 0.1127 - accuracy: 0.97 - ETA: 2s - loss: 0.1134 - accuracy: 0.97 - ETA: 2s - loss: 0.1137 - accuracy: 0.97 - ETA: 2s - loss: 0.1131 - accuracy: 0.97 - ETA: 1s - loss: 0.1123 - accuracy: 0.97 - ETA: 1s - loss: 0.1116 - accuracy: 0.97 - ETA: 1s - loss: 0.1110 - accuracy: 0.97 - ETA: 1s - loss: 0.1106 - accuracy: 0.97 - ETA: 1s - loss: 0.1103 - accuracy: 0.97 - ETA: 1s - loss: 0.1102 - accuracy: 0.97 - ETA: 1s - loss: 0.1102 - accuracy: 0.97 - ETA: 1s - loss: 0.1103 - accuracy: 0.97 - ETA: 1s - loss: 0.1103 - accuracy: 0.97 - ETA: 1s - loss: 0.1103 - accuracy: 0.97 - ETA: 1s - loss: 0.1102 - accuracy: 0.97 - ETA: 1s - loss: 0.1102 - accuracy: 0.97 - ETA: 1s - loss: 0.1102 - accuracy: 0.97 - ETA: 1s - loss: 0.1101 - accuracy: 0.97 - ETA: 1s - loss: 0.1101 - accuracy: 0.97 - ETA: 1s - loss: 0.1101 - accuracy: 0.97 - ETA: 1s - loss: 0.1101 - accuracy: 0.97 - ETA: 1s - loss: 0.1100 - accuracy: 0.97 - ETA: 1s - loss: 0.1100 - accuracy: 0.97 - ETA: 1s - loss: 0.1099 - accuracy: 0.97 - ETA: 1s - loss: 0.1098 - accuracy: 0.97 - ETA: 1s - loss: 0.1097 - accuracy: 0.97 - ETA: 0s - loss: 0.1096 - accuracy: 0.97 - ETA: 0s - loss: 0.1095 - accuracy: 0.97 - ETA: 0s - loss: 0.1094 - accuracy: 0.97 - ETA: 0s - loss: 0.1093 - accuracy: 0.97 - ETA: 0s - loss: 0.1092 - accuracy: 0.97 - ETA: 0s - loss: 0.1091 - accuracy: 0.97 - ETA: 0s - loss: 0.1090 - accuracy: 0.97 - ETA: 0s - loss: 0.1089 - accuracy: 0.97 - ETA: 0s - loss: 0.1089 - accuracy: 0.97 - ETA: 0s - loss: 0.1088 - accuracy: 0.97 - ETA: 0s - loss: 0.1088 - accuracy: 0.97 - ETA: 0s - loss: 0.1087 - accuracy: 0.97 - ETA: 0s - loss: 0.1087 - accuracy: 0.97 - ETA: 0s - loss: 0.1086 - accuracy: 0.97 - ETA: 0s - loss: 0.1086 - accuracy: 0.97 - ETA: 0s - loss: 0.1086 - accuracy: 0.97 - 3s 4ms/step - loss: 0.1085 - accuracy: 0.9731 - val_loss: 0.4428 - val_accuracy: 0.8280\n",
      "Epoch 4/10\n",
      "782/782 [==============================] - ETA: 6s - loss: 0.0302 - accuracy: 1.00 - ETA: 2s - loss: 0.0353 - accuracy: 0.99 - ETA: 2s - loss: 0.0344 - accuracy: 0.99 - ETA: 2s - loss: 0.0338 - accuracy: 0.99 - ETA: 2s - loss: 0.0331 - accuracy: 0.99 - ETA: 2s - loss: 0.0328 - accuracy: 0.99 - ETA: 2s - loss: 0.0328 - accuracy: 0.99 - ETA: 2s - loss: 0.0329 - accuracy: 0.99 - ETA: 2s - loss: 0.0330 - accuracy: 0.99 - ETA: 1s - loss: 0.0330 - accuracy: 0.99 - ETA: 1s - loss: 0.0330 - accuracy: 0.99 - ETA: 1s - loss: 0.0329 - accuracy: 0.99 - ETA: 1s - loss: 0.0328 - accuracy: 0.99 - ETA: 1s - loss: 0.0327 - accuracy: 0.99 - ETA: 1s - loss: 0.0326 - accuracy: 0.99 - ETA: 1s - loss: 0.0325 - accuracy: 0.99 - ETA: 1s - loss: 0.0323 - accuracy: 0.99 - ETA: 1s - loss: 0.0322 - accuracy: 0.99 - ETA: 1s - loss: 0.0321 - accuracy: 0.99 - ETA: 1s - loss: 0.0320 - accuracy: 0.99 - ETA: 1s - loss: 0.0319 - accuracy: 0.99 - ETA: 1s - loss: 0.0318 - accuracy: 0.99 - ETA: 1s - loss: 0.0317 - accuracy: 0.99 - ETA: 1s - loss: 0.0316 - accuracy: 0.99 - ETA: 1s - loss: 0.0315 - accuracy: 0.99 - ETA: 1s - loss: 0.0314 - accuracy: 0.99 - ETA: 0s - loss: 0.0313 - accuracy: 0.99 - ETA: 0s - loss: 0.0312 - accuracy: 0.99 - ETA: 0s - loss: 0.0312 - accuracy: 0.99 - ETA: 0s - loss: 0.0311 - accuracy: 0.99 - ETA: 0s - loss: 0.0310 - accuracy: 0.99 - ETA: 0s - loss: 0.0309 - accuracy: 0.99 - ETA: 0s - loss: 0.0308 - accuracy: 0.99 - ETA: 0s - loss: 0.0307 - accuracy: 0.99 - ETA: 0s - loss: 0.0306 - accuracy: 0.99 - ETA: 0s - loss: 0.0306 - accuracy: 0.99 - ETA: 0s - loss: 0.0305 - accuracy: 0.99 - ETA: 0s - loss: 0.0304 - accuracy: 0.99 - ETA: 0s - loss: 0.0304 - accuracy: 0.99 - ETA: 0s - loss: 0.0303 - accuracy: 0.99 - ETA: 0s - loss: 0.0303 - accuracy: 0.99 - ETA: 0s - loss: 0.0302 - accuracy: 0.99 - ETA: 0s - loss: 0.0302 - accuracy: 0.99 - ETA: 0s - loss: 0.0302 - accuracy: 0.99 - ETA: 0s - loss: 0.0301 - accuracy: 0.99 - 3s 4ms/step - loss: 0.0301 - accuracy: 0.9957 - val_loss: 0.5130 - val_accuracy: 0.8304\n",
      "Epoch 5/10\n",
      "782/782 [==============================] - ETA: 6s - loss: 0.0046 - accuracy: 1.00 - ETA: 2s - loss: 0.0068 - accuracy: 1.00 - ETA: 2s - loss: 0.0069 - accuracy: 1.00 - ETA: 2s - loss: 0.0071 - accuracy: 0.99 - ETA: 2s - loss: 0.0076 - accuracy: 0.99 - ETA: 2s - loss: 0.0078 - accuracy: 0.99 - ETA: 2s - loss: 0.0079 - accuracy: 0.99 - ETA: 2s - loss: 0.0080 - accuracy: 0.99 - ETA: 1s - loss: 0.0081 - accuracy: 0.99 - ETA: 1s - loss: 0.0081 - accuracy: 0.99 - ETA: 1s - loss: 0.0082 - accuracy: 0.99 - ETA: 1s - loss: 0.0083 - accuracy: 0.99 - ETA: 1s - loss: 0.0084 - accuracy: 0.99 - ETA: 1s - loss: 0.0084 - accuracy: 0.99 - ETA: 1s - loss: 0.0084 - accuracy: 0.99 - ETA: 1s - loss: 0.0084 - accuracy: 0.99 - ETA: 1s - loss: 0.0084 - accuracy: 0.99 - ETA: 1s - loss: 0.0084 - accuracy: 0.99 - ETA: 1s - loss: 0.0084 - accuracy: 0.99 - ETA: 1s - loss: 0.0084 - accuracy: 0.99 - ETA: 1s - loss: 0.0083 - accuracy: 0.99 - ETA: 1s - loss: 0.0083 - accuracy: 0.99 - ETA: 1s - loss: 0.0083 - accuracy: 0.99 - ETA: 1s - loss: 0.0083 - accuracy: 0.99 - ETA: 1s - loss: 0.0082 - accuracy: 0.99 - ETA: 0s - loss: 0.0082 - accuracy: 0.99 - ETA: 0s - loss: 0.0082 - accuracy: 0.99 - ETA: 0s - loss: 0.0082 - accuracy: 0.99 - ETA: 0s - loss: 0.0082 - accuracy: 0.99 - ETA: 0s - loss: 0.0082 - accuracy: 0.99 - ETA: 0s - loss: 0.0081 - accuracy: 0.99 - ETA: 0s - loss: 0.0081 - accuracy: 0.99 - ETA: 0s - loss: 0.0081 - accuracy: 0.99 - ETA: 0s - loss: 0.0081 - accuracy: 0.99 - ETA: 0s - loss: 0.0080 - accuracy: 0.99 - ETA: 0s - loss: 0.0080 - accuracy: 0.99 - ETA: 0s - loss: 0.0080 - accuracy: 0.99 - ETA: 0s - loss: 0.0080 - accuracy: 0.99 - ETA: 0s - loss: 0.0080 - accuracy: 0.99 - ETA: 0s - loss: 0.0079 - accuracy: 0.99 - ETA: 0s - loss: 0.0079 - accuracy: 0.99 - ETA: 0s - loss: 0.0079 - accuracy: 0.99 - ETA: 0s - loss: 0.0079 - accuracy: 0.99 - ETA: 0s - loss: 0.0079 - accuracy: 0.99 - 3s 4ms/step - loss: 0.0079 - accuracy: 0.9994 - val_loss: 0.5830 - val_accuracy: 0.8288\n",
      "Epoch 6/10\n",
      "782/782 [==============================] - ETA: 4s - loss: 0.0023 - accuracy: 1.00 - ETA: 2s - loss: 0.0031 - accuracy: 1.00 - ETA: 2s - loss: 0.0033 - accuracy: 1.00 - ETA: 2s - loss: 0.0033 - accuracy: 1.00 - ETA: 2s - loss: 0.0032 - accuracy: 1.00 - ETA: 2s - loss: 0.0032 - accuracy: 1.00 - ETA: 2s - loss: 0.0033 - accuracy: 0.99 - ETA: 1s - loss: 0.0033 - accuracy: 0.99 - ETA: 1s - loss: 0.0032 - accuracy: 0.99 - ETA: 1s - loss: 0.0032 - accuracy: 0.99 - ETA: 1s - loss: 0.0032 - accuracy: 0.99 - ETA: 1s - loss: 0.0031 - accuracy: 0.99 - ETA: 1s - loss: 0.0031 - accuracy: 0.99 - ETA: 1s - loss: 0.0031 - accuracy: 0.99 - ETA: 1s - loss: 0.0031 - accuracy: 0.99 - ETA: 1s - loss: 0.0030 - accuracy: 0.99 - ETA: 1s - loss: 0.0030 - accuracy: 0.99 - ETA: 1s - loss: 0.0030 - accuracy: 0.99 - ETA: 1s - loss: 0.0030 - accuracy: 0.99 - ETA: 1s - loss: 0.0030 - accuracy: 0.99 - ETA: 1s - loss: 0.0029 - accuracy: 0.99 - ETA: 1s - loss: 0.0029 - accuracy: 0.99 - ETA: 1s - loss: 0.0029 - accuracy: 0.99 - ETA: 1s - loss: 0.0029 - accuracy: 0.99 - ETA: 0s - loss: 0.0029 - accuracy: 0.99 - ETA: 0s - loss: 0.0029 - accuracy: 0.99 - ETA: 0s - loss: 0.0029 - accuracy: 0.99 - ETA: 0s - loss: 0.0028 - accuracy: 0.99 - ETA: 0s - loss: 0.0028 - accuracy: 0.99 - ETA: 0s - loss: 0.0028 - accuracy: 0.99 - ETA: 0s - loss: 0.0028 - accuracy: 0.99 - ETA: 0s - loss: 0.0028 - accuracy: 0.99 - ETA: 0s - loss: 0.0028 - accuracy: 0.99 - ETA: 0s - loss: 0.0028 - accuracy: 0.99 - ETA: 0s - loss: 0.0028 - accuracy: 0.99 - ETA: 0s - loss: 0.0028 - accuracy: 0.99 - ETA: 0s - loss: 0.0027 - accuracy: 0.99 - ETA: 0s - loss: 0.0027 - accuracy: 0.99 - ETA: 0s - loss: 0.0027 - accuracy: 0.99 - ETA: 0s - loss: 0.0027 - accuracy: 0.99 - ETA: 0s - loss: 0.0027 - accuracy: 0.99 - ETA: 0s - loss: 0.0027 - accuracy: 0.99 - 3s 4ms/step - loss: 0.0027 - accuracy: 0.9999 - val_loss: 0.6366 - val_accuracy: 0.8292\n",
      "Epoch 7/10\n",
      "782/782 [==============================] - ETA: 6s - loss: 6.1899e-04 - accuracy: 1.00 - ETA: 3s - loss: 0.0011 - accuracy: 1.0000   - ETA: 2s - loss: 0.0012 - accuracy: 1.00 - ETA: 2s - loss: 0.0012 - accuracy: 1.00 - ETA: 2s - loss: 0.0012 - accuracy: 1.00 - ETA: 2s - loss: 0.0012 - accuracy: 1.00 - ETA: 1s - loss: 0.0012 - accuracy: 1.00 - ETA: 1s - loss: 0.0012 - accuracy: 1.00 - ETA: 1s - loss: 0.0012 - accuracy: 1.00 - ETA: 1s - loss: 0.0012 - accuracy: 1.00 - ETA: 1s - loss: 0.0012 - accuracy: 1.00 - ETA: 1s - loss: 0.0012 - accuracy: 1.00 - ETA: 1s - loss: 0.0012 - accuracy: 1.00 - ETA: 1s - loss: 0.0012 - accuracy: 1.00 - ETA: 1s - loss: 0.0012 - accuracy: 1.00 - ETA: 1s - loss: 0.0012 - accuracy: 1.00 - ETA: 1s - loss: 0.0012 - accuracy: 1.00 - ETA: 1s - loss: 0.0012 - accuracy: 1.00 - ETA: 1s - loss: 0.0012 - accuracy: 1.00 - ETA: 1s - loss: 0.0012 - accuracy: 1.00 - ETA: 1s - loss: 0.0012 - accuracy: 1.00 - ETA: 1s - loss: 0.0012 - accuracy: 1.00 - ETA: 1s - loss: 0.0012 - accuracy: 1.00 - ETA: 0s - loss: 0.0012 - accuracy: 1.00 - ETA: 0s - loss: 0.0012 - accuracy: 1.00 - ETA: 0s - loss: 0.0012 - accuracy: 1.00 - ETA: 0s - loss: 0.0011 - accuracy: 1.00 - ETA: 0s - loss: 0.0011 - accuracy: 1.00 - ETA: 0s - loss: 0.0011 - accuracy: 1.00 - ETA: 0s - loss: 0.0011 - accuracy: 1.00 - ETA: 0s - loss: 0.0011 - accuracy: 1.00 - ETA: 0s - loss: 0.0011 - accuracy: 1.00 - ETA: 0s - loss: 0.0011 - accuracy: 1.00 - ETA: 0s - loss: 0.0011 - accuracy: 1.00 - ETA: 0s - loss: 0.0011 - accuracy: 1.00 - ETA: 0s - loss: 0.0011 - accuracy: 1.00 - ETA: 0s - loss: 0.0011 - accuracy: 1.00 - ETA: 0s - loss: 0.0011 - accuracy: 1.00 - ETA: 0s - loss: 0.0011 - accuracy: 1.00 - ETA: 0s - loss: 0.0011 - accuracy: 1.00 - ETA: 0s - loss: 0.0011 - accuracy: 1.00 - 3s 4ms/step - loss: 0.0011 - accuracy: 1.0000 - val_loss: 0.6811 - val_accuracy: 0.8304\n",
      "Epoch 8/10\n",
      "782/782 [==============================] - ETA: 6s - loss: 0.0010 - accuracy: 1.00 - ETA: 2s - loss: 6.8209e-04 - accuracy: 1.00 - ETA: 2s - loss: 6.4259e-04 - accuracy: 1.00 - ETA: 2s - loss: 6.2643e-04 - accuracy: 1.00 - ETA: 2s - loss: 6.1610e-04 - accuracy: 1.00 - ETA: 1s - loss: 6.0607e-04 - accuracy: 1.00 - ETA: 1s - loss: 6.0382e-04 - accuracy: 1.00 - ETA: 1s - loss: 6.0195e-04 - accuracy: 1.00 - ETA: 1s - loss: 6.0101e-04 - accuracy: 1.00 - ETA: 1s - loss: 6.0076e-04 - accuracy: 1.00 - ETA: 1s - loss: 6.0052e-04 - accuracy: 1.00 - ETA: 1s - loss: 5.9987e-04 - accuracy: 1.00 - ETA: 1s - loss: 5.9883e-04 - accuracy: 1.00 - ETA: 1s - loss: 5.9753e-04 - accuracy: 1.00 - ETA: 1s - loss: 5.9633e-04 - accuracy: 1.00 - ETA: 1s - loss: 5.9502e-04 - accuracy: 1.00 - ETA: 1s - loss: 5.9358e-04 - accuracy: 1.00 - ETA: 1s - loss: 5.9168e-04 - accuracy: 1.00 - ETA: 1s - loss: 5.8986e-04 - accuracy: 1.00 - ETA: 1s - loss: 5.8844e-04 - accuracy: 1.00 - ETA: 1s - loss: 5.8686e-04 - accuracy: 1.00 - ETA: 1s - loss: 5.8528e-04 - accuracy: 1.00 - ETA: 0s - loss: 5.8343e-04 - accuracy: 1.00 - ETA: 0s - loss: 5.8166e-04 - accuracy: 1.00 - ETA: 0s - loss: 5.8020e-04 - accuracy: 1.00 - ETA: 0s - loss: 5.7836e-04 - accuracy: 1.00 - ETA: 0s - loss: 5.7660e-04 - accuracy: 1.00 - ETA: 0s - loss: 5.7499e-04 - accuracy: 1.00 - ETA: 0s - loss: 5.7327e-04 - accuracy: 1.00 - ETA: 0s - loss: 5.7175e-04 - accuracy: 1.00 - ETA: 0s - loss: 5.7022e-04 - accuracy: 1.00 - ETA: 0s - loss: 5.6860e-04 - accuracy: 1.00 - ETA: 0s - loss: 5.6711e-04 - accuracy: 1.00 - ETA: 0s - loss: 5.6566e-04 - accuracy: 1.00 - ETA: 0s - loss: 5.6431e-04 - accuracy: 1.00 - ETA: 0s - loss: 5.6344e-04 - accuracy: 1.00 - ETA: 0s - loss: 5.6253e-04 - accuracy: 1.00 - ETA: 0s - loss: 5.6149e-04 - accuracy: 1.00 - ETA: 0s - loss: 5.6066e-04 - accuracy: 1.00 - ETA: 0s - loss: 5.5960e-04 - accuracy: 1.00 - ETA: 0s - loss: 5.5828e-04 - accuracy: 1.00 - ETA: 0s - loss: 5.5686e-04 - accuracy: 1.00 - 3s 4ms/step - loss: 5.5626e-04 - accuracy: 1.0000 - val_loss: 0.7226 - val_accuracy: 0.8304\n",
      "Epoch 9/10\n"
     ]
    },
    {
     "name": "stdout",
     "output_type": "stream",
     "text": [
      "782/782 [==============================] - ETA: 6s - loss: 4.9038e-04 - accuracy: 1.00 - ETA: 2s - loss: 3.2843e-04 - accuracy: 1.00 - ETA: 2s - loss: 3.2186e-04 - accuracy: 1.00 - ETA: 2s - loss: 3.2482e-04 - accuracy: 1.00 - ETA: 2s - loss: 3.2650e-04 - accuracy: 1.00 - ETA: 2s - loss: 3.2745e-04 - accuracy: 1.00 - ETA: 2s - loss: 3.2763e-04 - accuracy: 1.00 - ETA: 2s - loss: 3.2774e-04 - accuracy: 1.00 - ETA: 2s - loss: 3.2764e-04 - accuracy: 1.00 - ETA: 2s - loss: 3.2735e-04 - accuracy: 1.00 - ETA: 2s - loss: 3.2679e-04 - accuracy: 1.00 - ETA: 2s - loss: 3.2593e-04 - accuracy: 1.00 - ETA: 1s - loss: 3.2499e-04 - accuracy: 1.00 - ETA: 1s - loss: 3.2419e-04 - accuracy: 1.00 - ETA: 1s - loss: 3.2372e-04 - accuracy: 1.00 - ETA: 1s - loss: 3.2326e-04 - accuracy: 1.00 - ETA: 1s - loss: 3.2292e-04 - accuracy: 1.00 - ETA: 1s - loss: 3.2252e-04 - accuracy: 1.00 - ETA: 1s - loss: 3.2203e-04 - accuracy: 1.00 - ETA: 1s - loss: 3.2155e-04 - accuracy: 1.00 - ETA: 1s - loss: 3.2117e-04 - accuracy: 1.00 - ETA: 1s - loss: 3.2085e-04 - accuracy: 1.00 - ETA: 1s - loss: 3.2050e-04 - accuracy: 1.00 - ETA: 1s - loss: 3.2009e-04 - accuracy: 1.00 - ETA: 1s - loss: 3.1969e-04 - accuracy: 1.00 - ETA: 1s - loss: 3.1938e-04 - accuracy: 1.00 - ETA: 0s - loss: 3.1901e-04 - accuracy: 1.00 - ETA: 0s - loss: 3.1864e-04 - accuracy: 1.00 - ETA: 0s - loss: 3.1825e-04 - accuracy: 1.00 - ETA: 0s - loss: 3.1779e-04 - accuracy: 1.00 - ETA: 0s - loss: 3.1732e-04 - accuracy: 1.00 - ETA: 0s - loss: 3.1679e-04 - accuracy: 1.00 - ETA: 0s - loss: 3.1628e-04 - accuracy: 1.00 - ETA: 0s - loss: 3.1574e-04 - accuracy: 1.00 - ETA: 0s - loss: 3.1516e-04 - accuracy: 1.00 - ETA: 0s - loss: 3.1454e-04 - accuracy: 1.00 - ETA: 0s - loss: 3.1403e-04 - accuracy: 1.00 - ETA: 0s - loss: 3.1340e-04 - accuracy: 1.00 - ETA: 0s - loss: 3.1286e-04 - accuracy: 1.00 - ETA: 0s - loss: 3.1234e-04 - accuracy: 1.00 - ETA: 0s - loss: 3.1179e-04 - accuracy: 1.00 - ETA: 0s - loss: 3.1116e-04 - accuracy: 1.00 - ETA: 0s - loss: 3.1067e-04 - accuracy: 1.00 - 3s 4ms/step - loss: 3.1018e-04 - accuracy: 1.0000 - val_loss: 0.7611 - val_accuracy: 0.8304\n",
      "Epoch 10/10\n",
      "782/782 [==============================] - ETA: 4s - loss: 2.3941e-04 - accuracy: 1.00 - ETA: 2s - loss: 1.8735e-04 - accuracy: 1.00 - ETA: 2s - loss: 1.8276e-04 - accuracy: 1.00 - ETA: 2s - loss: 1.8024e-04 - accuracy: 1.00 - ETA: 2s - loss: 1.7923e-04 - accuracy: 1.00 - ETA: 1s - loss: 1.7937e-04 - accuracy: 1.00 - ETA: 1s - loss: 1.8049e-04 - accuracy: 1.00 - ETA: 1s - loss: 1.8148e-04 - accuracy: 1.00 - ETA: 1s - loss: 1.8247e-04 - accuracy: 1.00 - ETA: 1s - loss: 1.8307e-04 - accuracy: 1.00 - ETA: 1s - loss: 1.8339e-04 - accuracy: 1.00 - ETA: 1s - loss: 1.8367e-04 - accuracy: 1.00 - ETA: 1s - loss: 1.8387e-04 - accuracy: 1.00 - ETA: 1s - loss: 1.8404e-04 - accuracy: 1.00 - ETA: 1s - loss: 1.8412e-04 - accuracy: 1.00 - ETA: 1s - loss: 1.8414e-04 - accuracy: 1.00 - ETA: 1s - loss: 1.8435e-04 - accuracy: 1.00 - ETA: 1s - loss: 1.8461e-04 - accuracy: 1.00 - ETA: 1s - loss: 1.8482e-04 - accuracy: 1.00 - ETA: 1s - loss: 1.8494e-04 - accuracy: 1.00 - ETA: 1s - loss: 1.8501e-04 - accuracy: 1.00 - ETA: 1s - loss: 1.8504e-04 - accuracy: 1.00 - ETA: 1s - loss: 1.8502e-04 - accuracy: 1.00 - ETA: 1s - loss: 1.8494e-04 - accuracy: 1.00 - ETA: 0s - loss: 1.8485e-04 - accuracy: 1.00 - ETA: 0s - loss: 1.8474e-04 - accuracy: 1.00 - ETA: 0s - loss: 1.8460e-04 - accuracy: 1.00 - ETA: 0s - loss: 1.8442e-04 - accuracy: 1.00 - ETA: 0s - loss: 1.8429e-04 - accuracy: 1.00 - ETA: 0s - loss: 1.8423e-04 - accuracy: 1.00 - ETA: 0s - loss: 1.8415e-04 - accuracy: 1.00 - ETA: 0s - loss: 1.8406e-04 - accuracy: 1.00 - ETA: 0s - loss: 1.8399e-04 - accuracy: 1.00 - ETA: 0s - loss: 1.8388e-04 - accuracy: 1.00 - ETA: 0s - loss: 1.8374e-04 - accuracy: 1.00 - ETA: 0s - loss: 1.8362e-04 - accuracy: 1.00 - ETA: 0s - loss: 1.8348e-04 - accuracy: 1.00 - ETA: 0s - loss: 1.8335e-04 - accuracy: 1.00 - ETA: 0s - loss: 1.8320e-04 - accuracy: 1.00 - ETA: 0s - loss: 1.8302e-04 - accuracy: 1.00 - ETA: 0s - loss: 1.8284e-04 - accuracy: 1.00 - ETA: 0s - loss: 1.8262e-04 - accuracy: 1.00 - ETA: 0s - loss: 1.8240e-04 - accuracy: 1.00 - 3s 4ms/step - loss: 1.8236e-04 - accuracy: 1.0000 - val_loss: 0.7982 - val_accuracy: 0.8310\n"
     ]
    },
    {
     "data": {
      "text/plain": [
       "<tensorflow.python.keras.callbacks.History at 0x1e2189fef98>"
      ]
     },
     "execution_count": 11,
     "metadata": {},
     "output_type": "execute_result"
    }
   ],
   "source": [
    "num_epochs = 10\n",
    "model.fit(padded, training_labels_final, epochs=num_epochs, validation_data=(testing_padded, testing_labels_final))"
   ]
  },
  {
   "cell_type": "code",
   "execution_count": 12,
   "metadata": {
    "colab": {
     "base_uri": "https://localhost:8080/"
    },
    "id": "yAmjJqEyCOF_",
    "outputId": "8b4be4f1-4267-466f-e428-261bdf9ba140"
   },
   "outputs": [
    {
     "name": "stdout",
     "output_type": "stream",
     "text": [
      "(10000, 16)\n"
     ]
    }
   ],
   "source": [
    "e = model.layers[0]\n",
    "weights = e.get_weights()[0]\n",
    "print(weights.shape) # shape: (vocab_size, embedding_dim)"
   ]
  },
  {
   "cell_type": "code",
   "execution_count": 13,
   "metadata": {
    "id": "jmB0Uxk0ycP6"
   },
   "outputs": [],
   "source": [
    "import io\n",
    "\n",
    "out_v = io.open('vecs.tsv', 'w', encoding='utf-8')\n",
    "out_m = io.open('meta.tsv', 'w', encoding='utf-8')\n",
    "for word_num in range(1, vocab_size):\n",
    "  word = reverse_word_index[word_num]\n",
    "  embeddings = weights[word_num]\n",
    "  out_m.write(word + \"\\n\")\n",
    "  out_v.write('\\t'.join([str(x) for x in embeddings]) + \"\\n\")\n",
    "out_v.close()\n",
    "out_m.close()"
   ]
  },
  {
   "cell_type": "code",
   "execution_count": 14,
   "metadata": {
    "colab": {
     "base_uri": "https://localhost:8080/",
     "height": 17
    },
    "id": "VDeqpOCVydtq",
    "outputId": "07c55e6d-e080-413f-f672-874a685f7140"
   },
   "outputs": [],
   "source": [
    "try:\n",
    "  from google.colab import files\n",
    "except ImportError:\n",
    "  pass\n",
    "else:\n",
    "  files.download('vecs.tsv')\n",
    "  files.download('meta.tsv')"
   ]
  },
  {
   "cell_type": "code",
   "execution_count": 15,
   "metadata": {
    "colab": {
     "base_uri": "https://localhost:8080/"
    },
    "id": "YRxoxc2apscY",
    "outputId": "3903fceb-b7ed-43d6-f0d3-874b01053fec"
   },
   "outputs": [
    {
     "name": "stdout",
     "output_type": "stream",
     "text": [
      "[[11, 64, 102, 12, 7, 478, 1200]]\n"
     ]
    }
   ],
   "source": [
    "sentence = \"I really think this is amazing. honest.\"\n",
    "sequence = tokenizer.texts_to_sequences([sentence])\n",
    "print(sequence)"
   ]
  },
  {
   "cell_type": "code",
   "execution_count": null,
   "metadata": {},
   "outputs": [],
   "source": []
  }
 ],
 "metadata": {
  "accelerator": "GPU",
  "colab": {
   "collapsed_sections": [],
   "name": "Course 3 - Week 2 - Lesson 1.ipynb",
   "provenance": [],
   "toc_visible": true
  },
  "kernelspec": {
   "display_name": "Python 3",
   "language": "python",
   "name": "python3"
  },
  "language_info": {
   "codemirror_mode": {
    "name": "ipython",
    "version": 3
   },
   "file_extension": ".py",
   "mimetype": "text/x-python",
   "name": "python",
   "nbconvert_exporter": "python",
   "pygments_lexer": "ipython3",
   "version": "3.7.3"
  },
  "widgets": {
   "application/vnd.jupyter.widget-state+json": {
    "01d6d60d0d4e46bba4fb290713ddf01c": {
     "model_module": "@jupyter-widgets/controls",
     "model_name": "HBoxModel",
     "state": {
      "_dom_classes": [],
      "_model_module": "@jupyter-widgets/controls",
      "_model_module_version": "1.5.0",
      "_model_name": "HBoxModel",
      "_view_count": null,
      "_view_module": "@jupyter-widgets/controls",
      "_view_module_version": "1.5.0",
      "_view_name": "HBoxView",
      "box_style": "",
      "children": [
       "IPY_MODEL_99c0740f2d734972a8f848200809545c",
       "IPY_MODEL_2cfbdf0778d74935a33a5e50e4fef85e"
      ],
      "layout": "IPY_MODEL_2982663d1a6c4f0eb7fa6c21e6538fe9"
     }
    },
    "039fda334d9349d2bfad411461f21220": {
     "model_module": "@jupyter-widgets/controls",
     "model_name": "HBoxModel",
     "state": {
      "_dom_classes": [],
      "_model_module": "@jupyter-widgets/controls",
      "_model_module_version": "1.5.0",
      "_model_name": "HBoxModel",
      "_view_count": null,
      "_view_module": "@jupyter-widgets/controls",
      "_view_module_version": "1.5.0",
      "_view_name": "HBoxView",
      "box_style": "",
      "children": [
       "IPY_MODEL_eb484df5c87148e0a124bd6152c810ca",
       "IPY_MODEL_bec7b170a49840e7b878de99d3c858ed"
      ],
      "layout": "IPY_MODEL_f7752d17ef5c4d789f752e26c829684e"
     }
    },
    "03a9f12bd05f456fb5221b6abe2172a9": {
     "model_module": "@jupyter-widgets/base",
     "model_name": "LayoutModel",
     "state": {
      "_model_module": "@jupyter-widgets/base",
      "_model_module_version": "1.2.0",
      "_model_name": "LayoutModel",
      "_view_count": null,
      "_view_module": "@jupyter-widgets/base",
      "_view_module_version": "1.2.0",
      "_view_name": "LayoutView",
      "align_content": null,
      "align_items": null,
      "align_self": null,
      "border": null,
      "bottom": null,
      "display": null,
      "flex": null,
      "flex_flow": null,
      "grid_area": null,
      "grid_auto_columns": null,
      "grid_auto_flow": null,
      "grid_auto_rows": null,
      "grid_column": null,
      "grid_gap": null,
      "grid_row": null,
      "grid_template_areas": null,
      "grid_template_columns": null,
      "grid_template_rows": null,
      "height": null,
      "justify_content": null,
      "justify_items": null,
      "left": null,
      "margin": null,
      "max_height": null,
      "max_width": null,
      "min_height": null,
      "min_width": null,
      "object_fit": null,
      "object_position": null,
      "order": null,
      "overflow": null,
      "overflow_x": null,
      "overflow_y": null,
      "padding": null,
      "right": null,
      "top": null,
      "visibility": null,
      "width": null
     }
    },
    "0897800ef38540f8aa4477912af24029": {
     "model_module": "@jupyter-widgets/controls",
     "model_name": "DescriptionStyleModel",
     "state": {
      "_model_module": "@jupyter-widgets/controls",
      "_model_module_version": "1.5.0",
      "_model_name": "DescriptionStyleModel",
      "_view_count": null,
      "_view_module": "@jupyter-widgets/base",
      "_view_module_version": "1.2.0",
      "_view_name": "StyleView",
      "description_width": ""
     }
    },
    "0dcd7fa6e48c478696fcc17a44fe3080": {
     "model_module": "@jupyter-widgets/base",
     "model_name": "LayoutModel",
     "state": {
      "_model_module": "@jupyter-widgets/base",
      "_model_module_version": "1.2.0",
      "_model_name": "LayoutModel",
      "_view_count": null,
      "_view_module": "@jupyter-widgets/base",
      "_view_module_version": "1.2.0",
      "_view_name": "LayoutView",
      "align_content": null,
      "align_items": null,
      "align_self": null,
      "border": null,
      "bottom": null,
      "display": null,
      "flex": null,
      "flex_flow": null,
      "grid_area": null,
      "grid_auto_columns": null,
      "grid_auto_flow": null,
      "grid_auto_rows": null,
      "grid_column": null,
      "grid_gap": null,
      "grid_row": null,
      "grid_template_areas": null,
      "grid_template_columns": null,
      "grid_template_rows": null,
      "height": null,
      "justify_content": null,
      "justify_items": null,
      "left": null,
      "margin": null,
      "max_height": null,
      "max_width": null,
      "min_height": null,
      "min_width": null,
      "object_fit": null,
      "object_position": null,
      "order": null,
      "overflow": null,
      "overflow_x": null,
      "overflow_y": null,
      "padding": null,
      "right": null,
      "top": null,
      "visibility": null,
      "width": null
     }
    },
    "0eee1f6972a84a6b8ab627a3a660d615": {
     "model_module": "@jupyter-widgets/controls",
     "model_name": "HTMLModel",
     "state": {
      "_dom_classes": [],
      "_model_module": "@jupyter-widgets/controls",
      "_model_module_version": "1.5.0",
      "_model_name": "HTMLModel",
      "_view_count": null,
      "_view_module": "@jupyter-widgets/controls",
      "_view_module_version": "1.5.0",
      "_view_name": "HTMLView",
      "description": "",
      "description_tooltip": null,
      "layout": "IPY_MODEL_aa645c067f43401bbddad5a0b73f7040",
      "placeholder": "​",
      "style": "IPY_MODEL_0897800ef38540f8aa4477912af24029",
      "value": " 12492/25000 [00:00&lt;00:00, 124909.10 examples/s]"
     }
    },
    "1366bd6bc7bc4c57917059dd40376f5d": {
     "model_module": "@jupyter-widgets/controls",
     "model_name": "DescriptionStyleModel",
     "state": {
      "_model_module": "@jupyter-widgets/controls",
      "_model_module_version": "1.5.0",
      "_model_name": "DescriptionStyleModel",
      "_view_count": null,
      "_view_module": "@jupyter-widgets/base",
      "_view_module_version": "1.2.0",
      "_view_name": "StyleView",
      "description_width": ""
     }
    },
    "13a332ac541f469fbe8101d5936d3d08": {
     "model_module": "@jupyter-widgets/controls",
     "model_name": "DescriptionStyleModel",
     "state": {
      "_model_module": "@jupyter-widgets/controls",
      "_model_module_version": "1.5.0",
      "_model_name": "DescriptionStyleModel",
      "_view_count": null,
      "_view_module": "@jupyter-widgets/base",
      "_view_module_version": "1.2.0",
      "_view_name": "StyleView",
      "description_width": ""
     }
    },
    "1b7f91200ade405f849b82287f16cb17": {
     "model_module": "@jupyter-widgets/base",
     "model_name": "LayoutModel",
     "state": {
      "_model_module": "@jupyter-widgets/base",
      "_model_module_version": "1.2.0",
      "_model_name": "LayoutModel",
      "_view_count": null,
      "_view_module": "@jupyter-widgets/base",
      "_view_module_version": "1.2.0",
      "_view_name": "LayoutView",
      "align_content": null,
      "align_items": null,
      "align_self": null,
      "border": null,
      "bottom": null,
      "display": null,
      "flex": null,
      "flex_flow": null,
      "grid_area": null,
      "grid_auto_columns": null,
      "grid_auto_flow": null,
      "grid_auto_rows": null,
      "grid_column": null,
      "grid_gap": null,
      "grid_row": null,
      "grid_template_areas": null,
      "grid_template_columns": null,
      "grid_template_rows": null,
      "height": null,
      "justify_content": null,
      "justify_items": null,
      "left": null,
      "margin": null,
      "max_height": null,
      "max_width": null,
      "min_height": null,
      "min_width": null,
      "object_fit": null,
      "object_position": null,
      "order": null,
      "overflow": null,
      "overflow_x": null,
      "overflow_y": null,
      "padding": null,
      "right": null,
      "top": null,
      "visibility": null,
      "width": null
     }
    },
    "1f0bed1826264e0f990605aa4d25e326": {
     "model_module": "@jupyter-widgets/controls",
     "model_name": "DescriptionStyleModel",
     "state": {
      "_model_module": "@jupyter-widgets/controls",
      "_model_module_version": "1.5.0",
      "_model_name": "DescriptionStyleModel",
      "_view_count": null,
      "_view_module": "@jupyter-widgets/base",
      "_view_module_version": "1.2.0",
      "_view_name": "StyleView",
      "description_width": ""
     }
    },
    "20800c7b2c9148ab8602fe1c749a7515": {
     "model_module": "@jupyter-widgets/base",
     "model_name": "LayoutModel",
     "state": {
      "_model_module": "@jupyter-widgets/base",
      "_model_module_version": "1.2.0",
      "_model_name": "LayoutModel",
      "_view_count": null,
      "_view_module": "@jupyter-widgets/base",
      "_view_module_version": "1.2.0",
      "_view_name": "LayoutView",
      "align_content": null,
      "align_items": null,
      "align_self": null,
      "border": null,
      "bottom": null,
      "display": null,
      "flex": null,
      "flex_flow": null,
      "grid_area": null,
      "grid_auto_columns": null,
      "grid_auto_flow": null,
      "grid_auto_rows": null,
      "grid_column": null,
      "grid_gap": null,
      "grid_row": null,
      "grid_template_areas": null,
      "grid_template_columns": null,
      "grid_template_rows": null,
      "height": null,
      "justify_content": null,
      "justify_items": null,
      "left": null,
      "margin": null,
      "max_height": null,
      "max_width": null,
      "min_height": null,
      "min_width": null,
      "object_fit": null,
      "object_position": null,
      "order": null,
      "overflow": null,
      "overflow_x": null,
      "overflow_y": null,
      "padding": null,
      "right": null,
      "top": null,
      "visibility": null,
      "width": null
     }
    },
    "285654c6c1ba4ca6bb103fe082234e59": {
     "model_module": "@jupyter-widgets/base",
     "model_name": "LayoutModel",
     "state": {
      "_model_module": "@jupyter-widgets/base",
      "_model_module_version": "1.2.0",
      "_model_name": "LayoutModel",
      "_view_count": null,
      "_view_module": "@jupyter-widgets/base",
      "_view_module_version": "1.2.0",
      "_view_name": "LayoutView",
      "align_content": null,
      "align_items": null,
      "align_self": null,
      "border": null,
      "bottom": null,
      "display": null,
      "flex": null,
      "flex_flow": null,
      "grid_area": null,
      "grid_auto_columns": null,
      "grid_auto_flow": null,
      "grid_auto_rows": null,
      "grid_column": null,
      "grid_gap": null,
      "grid_row": null,
      "grid_template_areas": null,
      "grid_template_columns": null,
      "grid_template_rows": null,
      "height": null,
      "justify_content": null,
      "justify_items": null,
      "left": null,
      "margin": null,
      "max_height": null,
      "max_width": null,
      "min_height": null,
      "min_width": null,
      "object_fit": null,
      "object_position": null,
      "order": null,
      "overflow": null,
      "overflow_x": null,
      "overflow_y": null,
      "padding": null,
      "right": null,
      "top": null,
      "visibility": null,
      "width": null
     }
    },
    "2982663d1a6c4f0eb7fa6c21e6538fe9": {
     "model_module": "@jupyter-widgets/base",
     "model_name": "LayoutModel",
     "state": {
      "_model_module": "@jupyter-widgets/base",
      "_model_module_version": "1.2.0",
      "_model_name": "LayoutModel",
      "_view_count": null,
      "_view_module": "@jupyter-widgets/base",
      "_view_module_version": "1.2.0",
      "_view_name": "LayoutView",
      "align_content": null,
      "align_items": null,
      "align_self": null,
      "border": null,
      "bottom": null,
      "display": null,
      "flex": null,
      "flex_flow": null,
      "grid_area": null,
      "grid_auto_columns": null,
      "grid_auto_flow": null,
      "grid_auto_rows": null,
      "grid_column": null,
      "grid_gap": null,
      "grid_row": null,
      "grid_template_areas": null,
      "grid_template_columns": null,
      "grid_template_rows": null,
      "height": null,
      "justify_content": null,
      "justify_items": null,
      "left": null,
      "margin": null,
      "max_height": null,
      "max_width": null,
      "min_height": null,
      "min_width": null,
      "object_fit": null,
      "object_position": null,
      "order": null,
      "overflow": null,
      "overflow_x": null,
      "overflow_y": null,
      "padding": null,
      "right": null,
      "top": null,
      "visibility": null,
      "width": null
     }
    },
    "2cfbdf0778d74935a33a5e50e4fef85e": {
     "model_module": "@jupyter-widgets/controls",
     "model_name": "HTMLModel",
     "state": {
      "_dom_classes": [],
      "_model_module": "@jupyter-widgets/controls",
      "_model_module_version": "1.5.0",
      "_model_name": "HTMLModel",
      "_view_count": null,
      "_view_module": "@jupyter-widgets/controls",
      "_view_module_version": "1.5.0",
      "_view_name": "HTMLView",
      "description": "",
      "description_tooltip": null,
      "layout": "IPY_MODEL_a0b49bacf8c545c0b57a0bcdf82262fe",
      "placeholder": "​",
      "style": "IPY_MODEL_1366bd6bc7bc4c57917059dd40376f5d",
      "value": " 80/80 [00:01&lt;00:00, 42.55 MiB/s]"
     }
    },
    "2da5c94389664737ae879260b874716a": {
     "model_module": "@jupyter-widgets/base",
     "model_name": "LayoutModel",
     "state": {
      "_model_module": "@jupyter-widgets/base",
      "_model_module_version": "1.2.0",
      "_model_name": "LayoutModel",
      "_view_count": null,
      "_view_module": "@jupyter-widgets/base",
      "_view_module_version": "1.2.0",
      "_view_name": "LayoutView",
      "align_content": null,
      "align_items": null,
      "align_self": null,
      "border": null,
      "bottom": null,
      "display": null,
      "flex": null,
      "flex_flow": null,
      "grid_area": null,
      "grid_auto_columns": null,
      "grid_auto_flow": null,
      "grid_auto_rows": null,
      "grid_column": null,
      "grid_gap": null,
      "grid_row": null,
      "grid_template_areas": null,
      "grid_template_columns": null,
      "grid_template_rows": null,
      "height": null,
      "justify_content": null,
      "justify_items": null,
      "left": null,
      "margin": null,
      "max_height": null,
      "max_width": null,
      "min_height": null,
      "min_width": null,
      "object_fit": null,
      "object_position": null,
      "order": null,
      "overflow": null,
      "overflow_x": null,
      "overflow_y": null,
      "padding": null,
      "right": null,
      "top": null,
      "visibility": null,
      "width": null
     }
    },
    "2eba29d0bd6e46ab9455db4744860559": {
     "model_module": "@jupyter-widgets/controls",
     "model_name": "HBoxModel",
     "state": {
      "_dom_classes": [],
      "_model_module": "@jupyter-widgets/controls",
      "_model_module_version": "1.5.0",
      "_model_name": "HBoxModel",
      "_view_count": null,
      "_view_module": "@jupyter-widgets/controls",
      "_view_module_version": "1.5.0",
      "_view_name": "HBoxView",
      "box_style": "",
      "children": [
       "IPY_MODEL_c1b04fdec5b64daf84051f8d50494af5",
       "IPY_MODEL_f9af3173d6fa456bb42ccd3e4db4284d"
      ],
      "layout": "IPY_MODEL_fab78292c76f4c79a5b1a810931660ac"
     }
    },
    "2f40c27a8b7c41fbb8c1b157c26a97b5": {
     "model_module": "@jupyter-widgets/controls",
     "model_name": "FloatProgressModel",
     "state": {
      "_dom_classes": [],
      "_model_module": "@jupyter-widgets/controls",
      "_model_module_version": "1.5.0",
      "_model_name": "FloatProgressModel",
      "_view_count": null,
      "_view_module": "@jupyter-widgets/controls",
      "_view_module_version": "1.5.0",
      "_view_name": "ProgressView",
      "bar_style": "danger",
      "description": " 46%",
      "description_tooltip": null,
      "layout": "IPY_MODEL_b3f4e2790310451fa92179cf5fef1f86",
      "max": 25000,
      "min": 0,
      "orientation": "horizontal",
      "style": "IPY_MODEL_4182ea2425c54cedaed438beab35b1db",
      "value": 11572
     }
    },
    "3157d4534d4b46ab9e59e3016a8a98e4": {
     "model_module": "@jupyter-widgets/controls",
     "model_name": "HTMLModel",
     "state": {
      "_dom_classes": [],
      "_model_module": "@jupyter-widgets/controls",
      "_model_module_version": "1.5.0",
      "_model_name": "HTMLModel",
      "_view_count": null,
      "_view_module": "@jupyter-widgets/controls",
      "_view_module_version": "1.5.0",
      "_view_name": "HTMLView",
      "description": "",
      "description_tooltip": null,
      "layout": "IPY_MODEL_9d0d18409ad648f4b5e55b7a26d7ce6e",
      "placeholder": "​",
      "style": "IPY_MODEL_1f0bed1826264e0f990605aa4d25e326",
      "value": " 11572/25000 [00:00&lt;00:00, 115713.49 examples/s]"
     }
    },
    "336334cabc8d4fb29da2aa60671abbc7": {
     "model_module": "@jupyter-widgets/controls",
     "model_name": "HBoxModel",
     "state": {
      "_dom_classes": [],
      "_model_module": "@jupyter-widgets/controls",
      "_model_module_version": "1.5.0",
      "_model_name": "HBoxModel",
      "_view_count": null,
      "_view_module": "@jupyter-widgets/controls",
      "_view_module_version": "1.5.0",
      "_view_name": "HBoxView",
      "box_style": "",
      "children": [
       "IPY_MODEL_576122f859a84eb2a06333f73d08a9bf",
       "IPY_MODEL_69450e3ea9d94fbdbf6190a0afdd92d8"
      ],
      "layout": "IPY_MODEL_461a3bf005d84cee854c1192cc26c3f5"
     }
    },
    "3e65e699698b475bad49b0e9f7b4625f": {
     "model_module": "@jupyter-widgets/controls",
     "model_name": "HTMLModel",
     "state": {
      "_dom_classes": [],
      "_model_module": "@jupyter-widgets/controls",
      "_model_module_version": "1.5.0",
      "_model_name": "HTMLModel",
      "_view_count": null,
      "_view_module": "@jupyter-widgets/controls",
      "_view_module_version": "1.5.0",
      "_view_name": "HTMLView",
      "description": "",
      "description_tooltip": null,
      "layout": "IPY_MODEL_20800c7b2c9148ab8602fe1c749a7515",
      "placeholder": "​",
      "style": "IPY_MODEL_41f408868221486a8d728e34a06a647c",
      "value": " 1/1 [00:01&lt;00:00,  1.91s/ url]"
     }
    },
    "4182ea2425c54cedaed438beab35b1db": {
     "model_module": "@jupyter-widgets/controls",
     "model_name": "ProgressStyleModel",
     "state": {
      "_model_module": "@jupyter-widgets/controls",
      "_model_module_version": "1.5.0",
      "_model_name": "ProgressStyleModel",
      "_view_count": null,
      "_view_module": "@jupyter-widgets/base",
      "_view_module_version": "1.2.0",
      "_view_name": "StyleView",
      "bar_color": null,
      "description_width": "initial"
     }
    },
    "41f408868221486a8d728e34a06a647c": {
     "model_module": "@jupyter-widgets/controls",
     "model_name": "DescriptionStyleModel",
     "state": {
      "_model_module": "@jupyter-widgets/controls",
      "_model_module_version": "1.5.0",
      "_model_name": "DescriptionStyleModel",
      "_view_count": null,
      "_view_module": "@jupyter-widgets/base",
      "_view_module_version": "1.2.0",
      "_view_name": "StyleView",
      "description_width": ""
     }
    },
    "461a3bf005d84cee854c1192cc26c3f5": {
     "model_module": "@jupyter-widgets/base",
     "model_name": "LayoutModel",
     "state": {
      "_model_module": "@jupyter-widgets/base",
      "_model_module_version": "1.2.0",
      "_model_name": "LayoutModel",
      "_view_count": null,
      "_view_module": "@jupyter-widgets/base",
      "_view_module_version": "1.2.0",
      "_view_name": "LayoutView",
      "align_content": null,
      "align_items": null,
      "align_self": null,
      "border": null,
      "bottom": null,
      "display": null,
      "flex": null,
      "flex_flow": null,
      "grid_area": null,
      "grid_auto_columns": null,
      "grid_auto_flow": null,
      "grid_auto_rows": null,
      "grid_column": null,
      "grid_gap": null,
      "grid_row": null,
      "grid_template_areas": null,
      "grid_template_columns": null,
      "grid_template_rows": null,
      "height": null,
      "justify_content": null,
      "justify_items": null,
      "left": null,
      "margin": null,
      "max_height": null,
      "max_width": null,
      "min_height": null,
      "min_width": null,
      "object_fit": null,
      "object_position": null,
      "order": null,
      "overflow": null,
      "overflow_x": null,
      "overflow_y": null,
      "padding": null,
      "right": null,
      "top": null,
      "visibility": null,
      "width": null
     }
    },
    "4951891b148446faa34055a94e5486b7": {
     "model_module": "@jupyter-widgets/base",
     "model_name": "LayoutModel",
     "state": {
      "_model_module": "@jupyter-widgets/base",
      "_model_module_version": "1.2.0",
      "_model_name": "LayoutModel",
      "_view_count": null,
      "_view_module": "@jupyter-widgets/base",
      "_view_module_version": "1.2.0",
      "_view_name": "LayoutView",
      "align_content": null,
      "align_items": null,
      "align_self": null,
      "border": null,
      "bottom": null,
      "display": null,
      "flex": null,
      "flex_flow": null,
      "grid_area": null,
      "grid_auto_columns": null,
      "grid_auto_flow": null,
      "grid_auto_rows": null,
      "grid_column": null,
      "grid_gap": null,
      "grid_row": null,
      "grid_template_areas": null,
      "grid_template_columns": null,
      "grid_template_rows": null,
      "height": null,
      "justify_content": null,
      "justify_items": null,
      "left": null,
      "margin": null,
      "max_height": null,
      "max_width": null,
      "min_height": null,
      "min_width": null,
      "object_fit": null,
      "object_position": null,
      "order": null,
      "overflow": null,
      "overflow_x": null,
      "overflow_y": null,
      "padding": null,
      "right": null,
      "top": null,
      "visibility": null,
      "width": null
     }
    },
    "4ac603db8b1b472e936858a49c1574a8": {
     "model_module": "@jupyter-widgets/controls",
     "model_name": "HTMLModel",
     "state": {
      "_dom_classes": [],
      "_model_module": "@jupyter-widgets/controls",
      "_model_module_version": "1.5.0",
      "_model_name": "HTMLModel",
      "_view_count": null,
      "_view_module": "@jupyter-widgets/controls",
      "_view_module_version": "1.5.0",
      "_view_name": "HTMLView",
      "description": "",
      "description_tooltip": null,
      "layout": "IPY_MODEL_0dcd7fa6e48c478696fcc17a44fe3080",
      "placeholder": "​",
      "style": "IPY_MODEL_e785dd1478c742ed868de311ff963fb7",
      "value": " 25000/0 [00:13&lt;00:00, 3520.50 examples/s]"
     }
    },
    "576122f859a84eb2a06333f73d08a9bf": {
     "model_module": "@jupyter-widgets/controls",
     "model_name": "FloatProgressModel",
     "state": {
      "_dom_classes": [],
      "_model_module": "@jupyter-widgets/controls",
      "_model_module_version": "1.5.0",
      "_model_name": "FloatProgressModel",
      "_view_count": null,
      "_view_module": "@jupyter-widgets/controls",
      "_view_module_version": "1.5.0",
      "_view_name": "ProgressView",
      "bar_style": "info",
      "description": "",
      "description_tooltip": null,
      "layout": "IPY_MODEL_285654c6c1ba4ca6bb103fe082234e59",
      "max": 1,
      "min": 0,
      "orientation": "horizontal",
      "style": "IPY_MODEL_bb434f72ac93433585dd8cd9f84ccb00",
      "value": 1
     }
    },
    "69450e3ea9d94fbdbf6190a0afdd92d8": {
     "model_module": "@jupyter-widgets/controls",
     "model_name": "HTMLModel",
     "state": {
      "_dom_classes": [],
      "_model_module": "@jupyter-widgets/controls",
      "_model_module_version": "1.5.0",
      "_model_name": "HTMLModel",
      "_view_count": null,
      "_view_module": "@jupyter-widgets/controls",
      "_view_module_version": "1.5.0",
      "_view_name": "HTMLView",
      "description": "",
      "description_tooltip": null,
      "layout": "IPY_MODEL_cd870e81ae62476f8e8aee90853b42e5",
      "placeholder": "​",
      "style": "IPY_MODEL_6da990f1ebfe428cbbe399a4df8ec08f",
      "value": " 50000/0 [00:18&lt;00:00, 3540.85 examples/s]"
     }
    },
    "69a2819739004d218d40f71cf69c6db9": {
     "model_module": "@jupyter-widgets/controls",
     "model_name": "DescriptionStyleModel",
     "state": {
      "_model_module": "@jupyter-widgets/controls",
      "_model_module_version": "1.5.0",
      "_model_name": "DescriptionStyleModel",
      "_view_count": null,
      "_view_module": "@jupyter-widgets/base",
      "_view_module_version": "1.2.0",
      "_view_name": "StyleView",
      "description_width": ""
     }
    },
    "6da990f1ebfe428cbbe399a4df8ec08f": {
     "model_module": "@jupyter-widgets/controls",
     "model_name": "DescriptionStyleModel",
     "state": {
      "_model_module": "@jupyter-widgets/controls",
      "_model_module_version": "1.5.0",
      "_model_name": "DescriptionStyleModel",
      "_view_count": null,
      "_view_module": "@jupyter-widgets/base",
      "_view_module_version": "1.2.0",
      "_view_name": "StyleView",
      "description_width": ""
     }
    },
    "6dfcaa6c87dd4002b5c6c4563980e13f": {
     "model_module": "@jupyter-widgets/controls",
     "model_name": "HBoxModel",
     "state": {
      "_dom_classes": [],
      "_model_module": "@jupyter-widgets/controls",
      "_model_module_version": "1.5.0",
      "_model_name": "HBoxModel",
      "_view_count": null,
      "_view_module": "@jupyter-widgets/controls",
      "_view_module_version": "1.5.0",
      "_view_name": "HBoxView",
      "box_style": "",
      "children": [
       "IPY_MODEL_2f40c27a8b7c41fbb8c1b157c26a97b5",
       "IPY_MODEL_3157d4534d4b46ab9e59e3016a8a98e4"
      ],
      "layout": "IPY_MODEL_03a9f12bd05f456fb5221b6abe2172a9"
     }
    },
    "6e0dd7fc52a1447988f36b640e91e9e7": {
     "model_module": "@jupyter-widgets/controls",
     "model_name": "ProgressStyleModel",
     "state": {
      "_model_module": "@jupyter-widgets/controls",
      "_model_module_version": "1.5.0",
      "_model_name": "ProgressStyleModel",
      "_view_count": null,
      "_view_module": "@jupyter-widgets/base",
      "_view_module_version": "1.2.0",
      "_view_name": "StyleView",
      "bar_color": null,
      "description_width": "initial"
     }
    },
    "6e3443b3903b4a1d8152ea22e20d3521": {
     "model_module": "@jupyter-widgets/controls",
     "model_name": "HBoxModel",
     "state": {
      "_dom_classes": [],
      "_model_module": "@jupyter-widgets/controls",
      "_model_module_version": "1.5.0",
      "_model_name": "HBoxModel",
      "_view_count": null,
      "_view_module": "@jupyter-widgets/controls",
      "_view_module_version": "1.5.0",
      "_view_name": "HBoxView",
      "box_style": "",
      "children": [
       "IPY_MODEL_aea3fe388c764b2796976bd1a1330ab2",
       "IPY_MODEL_3e65e699698b475bad49b0e9f7b4625f"
      ],
      "layout": "IPY_MODEL_aee733c976ed4da8b49916c3defac8ad"
     }
    },
    "7a7328ef142f4be7b844e105537f4fca": {
     "model_module": "@jupyter-widgets/controls",
     "model_name": "FloatProgressModel",
     "state": {
      "_dom_classes": [],
      "_model_module": "@jupyter-widgets/controls",
      "_model_module_version": "1.5.0",
      "_model_name": "FloatProgressModel",
      "_view_count": null,
      "_view_module": "@jupyter-widgets/controls",
      "_view_module_version": "1.5.0",
      "_view_name": "ProgressView",
      "bar_style": "info",
      "description": "",
      "description_tooltip": null,
      "layout": "IPY_MODEL_8df925418b1e45bea2ffcf26d0828a94",
      "max": 1,
      "min": 0,
      "orientation": "horizontal",
      "style": "IPY_MODEL_cf4afb29c51141669249f19d7940e90c",
      "value": 1
     }
    },
    "7dbab6c39bb042e48f074d3a0fd56088": {
     "model_module": "@jupyter-widgets/controls",
     "model_name": "HBoxModel",
     "state": {
      "_dom_classes": [],
      "_model_module": "@jupyter-widgets/controls",
      "_model_module_version": "1.5.0",
      "_model_name": "HBoxModel",
      "_view_count": null,
      "_view_module": "@jupyter-widgets/controls",
      "_view_module_version": "1.5.0",
      "_view_name": "HBoxView",
      "box_style": "",
      "children": [
       "IPY_MODEL_7a7328ef142f4be7b844e105537f4fca",
       "IPY_MODEL_4ac603db8b1b472e936858a49c1574a8"
      ],
      "layout": "IPY_MODEL_f3fd48534cc040459105cc24fae1f2cc"
     }
    },
    "84be57e320ad42fca25022a5deb23578": {
     "model_module": "@jupyter-widgets/base",
     "model_name": "LayoutModel",
     "state": {
      "_model_module": "@jupyter-widgets/base",
      "_model_module_version": "1.2.0",
      "_model_name": "LayoutModel",
      "_view_count": null,
      "_view_module": "@jupyter-widgets/base",
      "_view_module_version": "1.2.0",
      "_view_name": "LayoutView",
      "align_content": null,
      "align_items": null,
      "align_self": null,
      "border": null,
      "bottom": null,
      "display": null,
      "flex": null,
      "flex_flow": null,
      "grid_area": null,
      "grid_auto_columns": null,
      "grid_auto_flow": null,
      "grid_auto_rows": null,
      "grid_column": null,
      "grid_gap": null,
      "grid_row": null,
      "grid_template_areas": null,
      "grid_template_columns": null,
      "grid_template_rows": null,
      "height": null,
      "justify_content": null,
      "justify_items": null,
      "left": null,
      "margin": null,
      "max_height": null,
      "max_width": null,
      "min_height": null,
      "min_width": null,
      "object_fit": null,
      "object_position": null,
      "order": null,
      "overflow": null,
      "overflow_x": null,
      "overflow_y": null,
      "padding": null,
      "right": null,
      "top": null,
      "visibility": null,
      "width": null
     }
    },
    "8af19cf30288413d820ef04084dfa537": {
     "model_module": "@jupyter-widgets/base",
     "model_name": "LayoutModel",
     "state": {
      "_model_module": "@jupyter-widgets/base",
      "_model_module_version": "1.2.0",
      "_model_name": "LayoutModel",
      "_view_count": null,
      "_view_module": "@jupyter-widgets/base",
      "_view_module_version": "1.2.0",
      "_view_name": "LayoutView",
      "align_content": null,
      "align_items": null,
      "align_self": null,
      "border": null,
      "bottom": null,
      "display": null,
      "flex": null,
      "flex_flow": null,
      "grid_area": null,
      "grid_auto_columns": null,
      "grid_auto_flow": null,
      "grid_auto_rows": null,
      "grid_column": null,
      "grid_gap": null,
      "grid_row": null,
      "grid_template_areas": null,
      "grid_template_columns": null,
      "grid_template_rows": null,
      "height": null,
      "justify_content": null,
      "justify_items": null,
      "left": null,
      "margin": null,
      "max_height": null,
      "max_width": null,
      "min_height": null,
      "min_width": null,
      "object_fit": null,
      "object_position": null,
      "order": null,
      "overflow": null,
      "overflow_x": null,
      "overflow_y": null,
      "padding": null,
      "right": null,
      "top": null,
      "visibility": null,
      "width": null
     }
    },
    "8df925418b1e45bea2ffcf26d0828a94": {
     "model_module": "@jupyter-widgets/base",
     "model_name": "LayoutModel",
     "state": {
      "_model_module": "@jupyter-widgets/base",
      "_model_module_version": "1.2.0",
      "_model_name": "LayoutModel",
      "_view_count": null,
      "_view_module": "@jupyter-widgets/base",
      "_view_module_version": "1.2.0",
      "_view_name": "LayoutView",
      "align_content": null,
      "align_items": null,
      "align_self": null,
      "border": null,
      "bottom": null,
      "display": null,
      "flex": null,
      "flex_flow": null,
      "grid_area": null,
      "grid_auto_columns": null,
      "grid_auto_flow": null,
      "grid_auto_rows": null,
      "grid_column": null,
      "grid_gap": null,
      "grid_row": null,
      "grid_template_areas": null,
      "grid_template_columns": null,
      "grid_template_rows": null,
      "height": null,
      "justify_content": null,
      "justify_items": null,
      "left": null,
      "margin": null,
      "max_height": null,
      "max_width": null,
      "min_height": null,
      "min_width": null,
      "object_fit": null,
      "object_position": null,
      "order": null,
      "overflow": null,
      "overflow_x": null,
      "overflow_y": null,
      "padding": null,
      "right": null,
      "top": null,
      "visibility": null,
      "width": null
     }
    },
    "99c0740f2d734972a8f848200809545c": {
     "model_module": "@jupyter-widgets/controls",
     "model_name": "FloatProgressModel",
     "state": {
      "_dom_classes": [],
      "_model_module": "@jupyter-widgets/controls",
      "_model_module_version": "1.5.0",
      "_model_name": "FloatProgressModel",
      "_view_count": null,
      "_view_module": "@jupyter-widgets/controls",
      "_view_module_version": "1.5.0",
      "_view_name": "ProgressView",
      "bar_style": "success",
      "description": "Dl Size...: 100%",
      "description_tooltip": null,
      "layout": "IPY_MODEL_d300a079c4a0414b9660745114fd1ba5",
      "max": 1,
      "min": 0,
      "orientation": "horizontal",
      "style": "IPY_MODEL_a303b40961034d2f82728b94a8725e8e",
      "value": 1
     }
    },
    "9d0d18409ad648f4b5e55b7a26d7ce6e": {
     "model_module": "@jupyter-widgets/base",
     "model_name": "LayoutModel",
     "state": {
      "_model_module": "@jupyter-widgets/base",
      "_model_module_version": "1.2.0",
      "_model_name": "LayoutModel",
      "_view_count": null,
      "_view_module": "@jupyter-widgets/base",
      "_view_module_version": "1.2.0",
      "_view_name": "LayoutView",
      "align_content": null,
      "align_items": null,
      "align_self": null,
      "border": null,
      "bottom": null,
      "display": null,
      "flex": null,
      "flex_flow": null,
      "grid_area": null,
      "grid_auto_columns": null,
      "grid_auto_flow": null,
      "grid_auto_rows": null,
      "grid_column": null,
      "grid_gap": null,
      "grid_row": null,
      "grid_template_areas": null,
      "grid_template_columns": null,
      "grid_template_rows": null,
      "height": null,
      "justify_content": null,
      "justify_items": null,
      "left": null,
      "margin": null,
      "max_height": null,
      "max_width": null,
      "min_height": null,
      "min_width": null,
      "object_fit": null,
      "object_position": null,
      "order": null,
      "overflow": null,
      "overflow_x": null,
      "overflow_y": null,
      "padding": null,
      "right": null,
      "top": null,
      "visibility": null,
      "width": null
     }
    },
    "a0b49bacf8c545c0b57a0bcdf82262fe": {
     "model_module": "@jupyter-widgets/base",
     "model_name": "LayoutModel",
     "state": {
      "_model_module": "@jupyter-widgets/base",
      "_model_module_version": "1.2.0",
      "_model_name": "LayoutModel",
      "_view_count": null,
      "_view_module": "@jupyter-widgets/base",
      "_view_module_version": "1.2.0",
      "_view_name": "LayoutView",
      "align_content": null,
      "align_items": null,
      "align_self": null,
      "border": null,
      "bottom": null,
      "display": null,
      "flex": null,
      "flex_flow": null,
      "grid_area": null,
      "grid_auto_columns": null,
      "grid_auto_flow": null,
      "grid_auto_rows": null,
      "grid_column": null,
      "grid_gap": null,
      "grid_row": null,
      "grid_template_areas": null,
      "grid_template_columns": null,
      "grid_template_rows": null,
      "height": null,
      "justify_content": null,
      "justify_items": null,
      "left": null,
      "margin": null,
      "max_height": null,
      "max_width": null,
      "min_height": null,
      "min_width": null,
      "object_fit": null,
      "object_position": null,
      "order": null,
      "overflow": null,
      "overflow_x": null,
      "overflow_y": null,
      "padding": null,
      "right": null,
      "top": null,
      "visibility": null,
      "width": null
     }
    },
    "a269f680608348409ccc08a9132d9381": {
     "model_module": "@jupyter-widgets/controls",
     "model_name": "ProgressStyleModel",
     "state": {
      "_model_module": "@jupyter-widgets/controls",
      "_model_module_version": "1.5.0",
      "_model_name": "ProgressStyleModel",
      "_view_count": null,
      "_view_module": "@jupyter-widgets/base",
      "_view_module_version": "1.2.0",
      "_view_name": "StyleView",
      "bar_color": null,
      "description_width": "initial"
     }
    },
    "a303b40961034d2f82728b94a8725e8e": {
     "model_module": "@jupyter-widgets/controls",
     "model_name": "ProgressStyleModel",
     "state": {
      "_model_module": "@jupyter-widgets/controls",
      "_model_module_version": "1.5.0",
      "_model_name": "ProgressStyleModel",
      "_view_count": null,
      "_view_module": "@jupyter-widgets/base",
      "_view_module_version": "1.2.0",
      "_view_name": "StyleView",
      "bar_color": null,
      "description_width": "initial"
     }
    },
    "a359d754325f49ddb127624e75945aa1": {
     "model_module": "@jupyter-widgets/base",
     "model_name": "LayoutModel",
     "state": {
      "_model_module": "@jupyter-widgets/base",
      "_model_module_version": "1.2.0",
      "_model_name": "LayoutModel",
      "_view_count": null,
      "_view_module": "@jupyter-widgets/base",
      "_view_module_version": "1.2.0",
      "_view_name": "LayoutView",
      "align_content": null,
      "align_items": null,
      "align_self": null,
      "border": null,
      "bottom": null,
      "display": null,
      "flex": null,
      "flex_flow": null,
      "grid_area": null,
      "grid_auto_columns": null,
      "grid_auto_flow": null,
      "grid_auto_rows": null,
      "grid_column": null,
      "grid_gap": null,
      "grid_row": null,
      "grid_template_areas": null,
      "grid_template_columns": null,
      "grid_template_rows": null,
      "height": null,
      "justify_content": null,
      "justify_items": null,
      "left": null,
      "margin": null,
      "max_height": null,
      "max_width": null,
      "min_height": null,
      "min_width": null,
      "object_fit": null,
      "object_position": null,
      "order": null,
      "overflow": null,
      "overflow_x": null,
      "overflow_y": null,
      "padding": null,
      "right": null,
      "top": null,
      "visibility": null,
      "width": null
     }
    },
    "aa645c067f43401bbddad5a0b73f7040": {
     "model_module": "@jupyter-widgets/base",
     "model_name": "LayoutModel",
     "state": {
      "_model_module": "@jupyter-widgets/base",
      "_model_module_version": "1.2.0",
      "_model_name": "LayoutModel",
      "_view_count": null,
      "_view_module": "@jupyter-widgets/base",
      "_view_module_version": "1.2.0",
      "_view_name": "LayoutView",
      "align_content": null,
      "align_items": null,
      "align_self": null,
      "border": null,
      "bottom": null,
      "display": null,
      "flex": null,
      "flex_flow": null,
      "grid_area": null,
      "grid_auto_columns": null,
      "grid_auto_flow": null,
      "grid_auto_rows": null,
      "grid_column": null,
      "grid_gap": null,
      "grid_row": null,
      "grid_template_areas": null,
      "grid_template_columns": null,
      "grid_template_rows": null,
      "height": null,
      "justify_content": null,
      "justify_items": null,
      "left": null,
      "margin": null,
      "max_height": null,
      "max_width": null,
      "min_height": null,
      "min_width": null,
      "object_fit": null,
      "object_position": null,
      "order": null,
      "overflow": null,
      "overflow_x": null,
      "overflow_y": null,
      "padding": null,
      "right": null,
      "top": null,
      "visibility": null,
      "width": null
     }
    },
    "aea3fe388c764b2796976bd1a1330ab2": {
     "model_module": "@jupyter-widgets/controls",
     "model_name": "FloatProgressModel",
     "state": {
      "_dom_classes": [],
      "_model_module": "@jupyter-widgets/controls",
      "_model_module_version": "1.5.0",
      "_model_name": "FloatProgressModel",
      "_view_count": null,
      "_view_module": "@jupyter-widgets/controls",
      "_view_module_version": "1.5.0",
      "_view_name": "ProgressView",
      "bar_style": "success",
      "description": "Dl Completed...: 100%",
      "description_tooltip": null,
      "layout": "IPY_MODEL_84be57e320ad42fca25022a5deb23578",
      "max": 1,
      "min": 0,
      "orientation": "horizontal",
      "style": "IPY_MODEL_a269f680608348409ccc08a9132d9381",
      "value": 1
     }
    },
    "aee733c976ed4da8b49916c3defac8ad": {
     "model_module": "@jupyter-widgets/base",
     "model_name": "LayoutModel",
     "state": {
      "_model_module": "@jupyter-widgets/base",
      "_model_module_version": "1.2.0",
      "_model_name": "LayoutModel",
      "_view_count": null,
      "_view_module": "@jupyter-widgets/base",
      "_view_module_version": "1.2.0",
      "_view_name": "LayoutView",
      "align_content": null,
      "align_items": null,
      "align_self": null,
      "border": null,
      "bottom": null,
      "display": null,
      "flex": null,
      "flex_flow": null,
      "grid_area": null,
      "grid_auto_columns": null,
      "grid_auto_flow": null,
      "grid_auto_rows": null,
      "grid_column": null,
      "grid_gap": null,
      "grid_row": null,
      "grid_template_areas": null,
      "grid_template_columns": null,
      "grid_template_rows": null,
      "height": null,
      "justify_content": null,
      "justify_items": null,
      "left": null,
      "margin": null,
      "max_height": null,
      "max_width": null,
      "min_height": null,
      "min_width": null,
      "object_fit": null,
      "object_position": null,
      "order": null,
      "overflow": null,
      "overflow_x": null,
      "overflow_y": null,
      "padding": null,
      "right": null,
      "top": null,
      "visibility": null,
      "width": null
     }
    },
    "b3f4e2790310451fa92179cf5fef1f86": {
     "model_module": "@jupyter-widgets/base",
     "model_name": "LayoutModel",
     "state": {
      "_model_module": "@jupyter-widgets/base",
      "_model_module_version": "1.2.0",
      "_model_name": "LayoutModel",
      "_view_count": null,
      "_view_module": "@jupyter-widgets/base",
      "_view_module_version": "1.2.0",
      "_view_name": "LayoutView",
      "align_content": null,
      "align_items": null,
      "align_self": null,
      "border": null,
      "bottom": null,
      "display": null,
      "flex": null,
      "flex_flow": null,
      "grid_area": null,
      "grid_auto_columns": null,
      "grid_auto_flow": null,
      "grid_auto_rows": null,
      "grid_column": null,
      "grid_gap": null,
      "grid_row": null,
      "grid_template_areas": null,
      "grid_template_columns": null,
      "grid_template_rows": null,
      "height": null,
      "justify_content": null,
      "justify_items": null,
      "left": null,
      "margin": null,
      "max_height": null,
      "max_width": null,
      "min_height": null,
      "min_width": null,
      "object_fit": null,
      "object_position": null,
      "order": null,
      "overflow": null,
      "overflow_x": null,
      "overflow_y": null,
      "padding": null,
      "right": null,
      "top": null,
      "visibility": null,
      "width": null
     }
    },
    "bb434f72ac93433585dd8cd9f84ccb00": {
     "model_module": "@jupyter-widgets/controls",
     "model_name": "ProgressStyleModel",
     "state": {
      "_model_module": "@jupyter-widgets/controls",
      "_model_module_version": "1.5.0",
      "_model_name": "ProgressStyleModel",
      "_view_count": null,
      "_view_module": "@jupyter-widgets/base",
      "_view_module_version": "1.2.0",
      "_view_name": "StyleView",
      "bar_color": null,
      "description_width": "initial"
     }
    },
    "bec7b170a49840e7b878de99d3c858ed": {
     "model_module": "@jupyter-widgets/controls",
     "model_name": "HTMLModel",
     "state": {
      "_dom_classes": [],
      "_model_module": "@jupyter-widgets/controls",
      "_model_module_version": "1.5.0",
      "_model_name": "HTMLModel",
      "_view_count": null,
      "_view_module": "@jupyter-widgets/controls",
      "_view_module_version": "1.5.0",
      "_view_name": "HTMLView",
      "description": "",
      "description_tooltip": null,
      "layout": "IPY_MODEL_efc28f83bb624d7d9d640012683c645d",
      "placeholder": "​",
      "style": "IPY_MODEL_69a2819739004d218d40f71cf69c6db9",
      "value": " 30890/50000 [00:05&lt;00:00, 71813.44 examples/s]"
     }
    },
    "c1b04fdec5b64daf84051f8d50494af5": {
     "model_module": "@jupyter-widgets/controls",
     "model_name": "FloatProgressModel",
     "state": {
      "_dom_classes": [],
      "_model_module": "@jupyter-widgets/controls",
      "_model_module_version": "1.5.0",
      "_model_name": "FloatProgressModel",
      "_view_count": null,
      "_view_module": "@jupyter-widgets/controls",
      "_view_module_version": "1.5.0",
      "_view_name": "ProgressView",
      "bar_style": "info",
      "description": "",
      "description_tooltip": null,
      "layout": "IPY_MODEL_1b7f91200ade405f849b82287f16cb17",
      "max": 1,
      "min": 0,
      "orientation": "horizontal",
      "style": "IPY_MODEL_6e0dd7fc52a1447988f36b640e91e9e7",
      "value": 1
     }
    },
    "c448b8ede8564bb789f688cc22e9c0de": {
     "model_module": "@jupyter-widgets/controls",
     "model_name": "HBoxModel",
     "state": {
      "_dom_classes": [],
      "_model_module": "@jupyter-widgets/controls",
      "_model_module_version": "1.5.0",
      "_model_name": "HBoxModel",
      "_view_count": null,
      "_view_module": "@jupyter-widgets/controls",
      "_view_module_version": "1.5.0",
      "_view_name": "HBoxView",
      "box_style": "",
      "children": [
       "IPY_MODEL_dc9a2c49f3c74dc58c034a0eeae0378a",
       "IPY_MODEL_0eee1f6972a84a6b8ab627a3a660d615"
      ],
      "layout": "IPY_MODEL_a359d754325f49ddb127624e75945aa1"
     }
    },
    "cd870e81ae62476f8e8aee90853b42e5": {
     "model_module": "@jupyter-widgets/base",
     "model_name": "LayoutModel",
     "state": {
      "_model_module": "@jupyter-widgets/base",
      "_model_module_version": "1.2.0",
      "_model_name": "LayoutModel",
      "_view_count": null,
      "_view_module": "@jupyter-widgets/base",
      "_view_module_version": "1.2.0",
      "_view_name": "LayoutView",
      "align_content": null,
      "align_items": null,
      "align_self": null,
      "border": null,
      "bottom": null,
      "display": null,
      "flex": null,
      "flex_flow": null,
      "grid_area": null,
      "grid_auto_columns": null,
      "grid_auto_flow": null,
      "grid_auto_rows": null,
      "grid_column": null,
      "grid_gap": null,
      "grid_row": null,
      "grid_template_areas": null,
      "grid_template_columns": null,
      "grid_template_rows": null,
      "height": null,
      "justify_content": null,
      "justify_items": null,
      "left": null,
      "margin": null,
      "max_height": null,
      "max_width": null,
      "min_height": null,
      "min_width": null,
      "object_fit": null,
      "object_position": null,
      "order": null,
      "overflow": null,
      "overflow_x": null,
      "overflow_y": null,
      "padding": null,
      "right": null,
      "top": null,
      "visibility": null,
      "width": null
     }
    },
    "cdcbde45c5fc4afcb5d30af383f4d16c": {
     "model_module": "@jupyter-widgets/controls",
     "model_name": "ProgressStyleModel",
     "state": {
      "_model_module": "@jupyter-widgets/controls",
      "_model_module_version": "1.5.0",
      "_model_name": "ProgressStyleModel",
      "_view_count": null,
      "_view_module": "@jupyter-widgets/base",
      "_view_module_version": "1.2.0",
      "_view_name": "StyleView",
      "bar_color": null,
      "description_width": "initial"
     }
    },
    "cf4afb29c51141669249f19d7940e90c": {
     "model_module": "@jupyter-widgets/controls",
     "model_name": "ProgressStyleModel",
     "state": {
      "_model_module": "@jupyter-widgets/controls",
      "_model_module_version": "1.5.0",
      "_model_name": "ProgressStyleModel",
      "_view_count": null,
      "_view_module": "@jupyter-widgets/base",
      "_view_module_version": "1.2.0",
      "_view_name": "StyleView",
      "bar_color": null,
      "description_width": "initial"
     }
    },
    "d02501de9c254ea0bfce102d67827f83": {
     "model_module": "@jupyter-widgets/controls",
     "model_name": "ProgressStyleModel",
     "state": {
      "_model_module": "@jupyter-widgets/controls",
      "_model_module_version": "1.5.0",
      "_model_name": "ProgressStyleModel",
      "_view_count": null,
      "_view_module": "@jupyter-widgets/base",
      "_view_module_version": "1.2.0",
      "_view_name": "StyleView",
      "bar_color": null,
      "description_width": "initial"
     }
    },
    "d300a079c4a0414b9660745114fd1ba5": {
     "model_module": "@jupyter-widgets/base",
     "model_name": "LayoutModel",
     "state": {
      "_model_module": "@jupyter-widgets/base",
      "_model_module_version": "1.2.0",
      "_model_name": "LayoutModel",
      "_view_count": null,
      "_view_module": "@jupyter-widgets/base",
      "_view_module_version": "1.2.0",
      "_view_name": "LayoutView",
      "align_content": null,
      "align_items": null,
      "align_self": null,
      "border": null,
      "bottom": null,
      "display": null,
      "flex": null,
      "flex_flow": null,
      "grid_area": null,
      "grid_auto_columns": null,
      "grid_auto_flow": null,
      "grid_auto_rows": null,
      "grid_column": null,
      "grid_gap": null,
      "grid_row": null,
      "grid_template_areas": null,
      "grid_template_columns": null,
      "grid_template_rows": null,
      "height": null,
      "justify_content": null,
      "justify_items": null,
      "left": null,
      "margin": null,
      "max_height": null,
      "max_width": null,
      "min_height": null,
      "min_width": null,
      "object_fit": null,
      "object_position": null,
      "order": null,
      "overflow": null,
      "overflow_x": null,
      "overflow_y": null,
      "padding": null,
      "right": null,
      "top": null,
      "visibility": null,
      "width": null
     }
    },
    "dc9a2c49f3c74dc58c034a0eeae0378a": {
     "model_module": "@jupyter-widgets/controls",
     "model_name": "FloatProgressModel",
     "state": {
      "_dom_classes": [],
      "_model_module": "@jupyter-widgets/controls",
      "_model_module_version": "1.5.0",
      "_model_name": "FloatProgressModel",
      "_view_count": null,
      "_view_module": "@jupyter-widgets/controls",
      "_view_module_version": "1.5.0",
      "_view_name": "ProgressView",
      "bar_style": "danger",
      "description": " 50%",
      "description_tooltip": null,
      "layout": "IPY_MODEL_8af19cf30288413d820ef04084dfa537",
      "max": 25000,
      "min": 0,
      "orientation": "horizontal",
      "style": "IPY_MODEL_cdcbde45c5fc4afcb5d30af383f4d16c",
      "value": 12492
     }
    },
    "e785dd1478c742ed868de311ff963fb7": {
     "model_module": "@jupyter-widgets/controls",
     "model_name": "DescriptionStyleModel",
     "state": {
      "_model_module": "@jupyter-widgets/controls",
      "_model_module_version": "1.5.0",
      "_model_name": "DescriptionStyleModel",
      "_view_count": null,
      "_view_module": "@jupyter-widgets/base",
      "_view_module_version": "1.2.0",
      "_view_name": "StyleView",
      "description_width": ""
     }
    },
    "eb484df5c87148e0a124bd6152c810ca": {
     "model_module": "@jupyter-widgets/controls",
     "model_name": "FloatProgressModel",
     "state": {
      "_dom_classes": [],
      "_model_module": "@jupyter-widgets/controls",
      "_model_module_version": "1.5.0",
      "_model_name": "FloatProgressModel",
      "_view_count": null,
      "_view_module": "@jupyter-widgets/controls",
      "_view_module_version": "1.5.0",
      "_view_name": "ProgressView",
      "bar_style": "danger",
      "description": " 62%",
      "description_tooltip": null,
      "layout": "IPY_MODEL_2da5c94389664737ae879260b874716a",
      "max": 50000,
      "min": 0,
      "orientation": "horizontal",
      "style": "IPY_MODEL_d02501de9c254ea0bfce102d67827f83",
      "value": 30890
     }
    },
    "efc28f83bb624d7d9d640012683c645d": {
     "model_module": "@jupyter-widgets/base",
     "model_name": "LayoutModel",
     "state": {
      "_model_module": "@jupyter-widgets/base",
      "_model_module_version": "1.2.0",
      "_model_name": "LayoutModel",
      "_view_count": null,
      "_view_module": "@jupyter-widgets/base",
      "_view_module_version": "1.2.0",
      "_view_name": "LayoutView",
      "align_content": null,
      "align_items": null,
      "align_self": null,
      "border": null,
      "bottom": null,
      "display": null,
      "flex": null,
      "flex_flow": null,
      "grid_area": null,
      "grid_auto_columns": null,
      "grid_auto_flow": null,
      "grid_auto_rows": null,
      "grid_column": null,
      "grid_gap": null,
      "grid_row": null,
      "grid_template_areas": null,
      "grid_template_columns": null,
      "grid_template_rows": null,
      "height": null,
      "justify_content": null,
      "justify_items": null,
      "left": null,
      "margin": null,
      "max_height": null,
      "max_width": null,
      "min_height": null,
      "min_width": null,
      "object_fit": null,
      "object_position": null,
      "order": null,
      "overflow": null,
      "overflow_x": null,
      "overflow_y": null,
      "padding": null,
      "right": null,
      "top": null,
      "visibility": null,
      "width": null
     }
    },
    "f3fd48534cc040459105cc24fae1f2cc": {
     "model_module": "@jupyter-widgets/base",
     "model_name": "LayoutModel",
     "state": {
      "_model_module": "@jupyter-widgets/base",
      "_model_module_version": "1.2.0",
      "_model_name": "LayoutModel",
      "_view_count": null,
      "_view_module": "@jupyter-widgets/base",
      "_view_module_version": "1.2.0",
      "_view_name": "LayoutView",
      "align_content": null,
      "align_items": null,
      "align_self": null,
      "border": null,
      "bottom": null,
      "display": null,
      "flex": null,
      "flex_flow": null,
      "grid_area": null,
      "grid_auto_columns": null,
      "grid_auto_flow": null,
      "grid_auto_rows": null,
      "grid_column": null,
      "grid_gap": null,
      "grid_row": null,
      "grid_template_areas": null,
      "grid_template_columns": null,
      "grid_template_rows": null,
      "height": null,
      "justify_content": null,
      "justify_items": null,
      "left": null,
      "margin": null,
      "max_height": null,
      "max_width": null,
      "min_height": null,
      "min_width": null,
      "object_fit": null,
      "object_position": null,
      "order": null,
      "overflow": null,
      "overflow_x": null,
      "overflow_y": null,
      "padding": null,
      "right": null,
      "top": null,
      "visibility": null,
      "width": null
     }
    },
    "f7752d17ef5c4d789f752e26c829684e": {
     "model_module": "@jupyter-widgets/base",
     "model_name": "LayoutModel",
     "state": {
      "_model_module": "@jupyter-widgets/base",
      "_model_module_version": "1.2.0",
      "_model_name": "LayoutModel",
      "_view_count": null,
      "_view_module": "@jupyter-widgets/base",
      "_view_module_version": "1.2.0",
      "_view_name": "LayoutView",
      "align_content": null,
      "align_items": null,
      "align_self": null,
      "border": null,
      "bottom": null,
      "display": null,
      "flex": null,
      "flex_flow": null,
      "grid_area": null,
      "grid_auto_columns": null,
      "grid_auto_flow": null,
      "grid_auto_rows": null,
      "grid_column": null,
      "grid_gap": null,
      "grid_row": null,
      "grid_template_areas": null,
      "grid_template_columns": null,
      "grid_template_rows": null,
      "height": null,
      "justify_content": null,
      "justify_items": null,
      "left": null,
      "margin": null,
      "max_height": null,
      "max_width": null,
      "min_height": null,
      "min_width": null,
      "object_fit": null,
      "object_position": null,
      "order": null,
      "overflow": null,
      "overflow_x": null,
      "overflow_y": null,
      "padding": null,
      "right": null,
      "top": null,
      "visibility": null,
      "width": null
     }
    },
    "f9af3173d6fa456bb42ccd3e4db4284d": {
     "model_module": "@jupyter-widgets/controls",
     "model_name": "HTMLModel",
     "state": {
      "_dom_classes": [],
      "_model_module": "@jupyter-widgets/controls",
      "_model_module_version": "1.5.0",
      "_model_name": "HTMLModel",
      "_view_count": null,
      "_view_module": "@jupyter-widgets/controls",
      "_view_module_version": "1.5.0",
      "_view_name": "HTMLView",
      "description": "",
      "description_tooltip": null,
      "layout": "IPY_MODEL_4951891b148446faa34055a94e5486b7",
      "placeholder": "​",
      "style": "IPY_MODEL_13a332ac541f469fbe8101d5936d3d08",
      "value": " 25000/0 [00:13&lt;00:00, 3570.76 examples/s]"
     }
    },
    "fab78292c76f4c79a5b1a810931660ac": {
     "model_module": "@jupyter-widgets/base",
     "model_name": "LayoutModel",
     "state": {
      "_model_module": "@jupyter-widgets/base",
      "_model_module_version": "1.2.0",
      "_model_name": "LayoutModel",
      "_view_count": null,
      "_view_module": "@jupyter-widgets/base",
      "_view_module_version": "1.2.0",
      "_view_name": "LayoutView",
      "align_content": null,
      "align_items": null,
      "align_self": null,
      "border": null,
      "bottom": null,
      "display": null,
      "flex": null,
      "flex_flow": null,
      "grid_area": null,
      "grid_auto_columns": null,
      "grid_auto_flow": null,
      "grid_auto_rows": null,
      "grid_column": null,
      "grid_gap": null,
      "grid_row": null,
      "grid_template_areas": null,
      "grid_template_columns": null,
      "grid_template_rows": null,
      "height": null,
      "justify_content": null,
      "justify_items": null,
      "left": null,
      "margin": null,
      "max_height": null,
      "max_width": null,
      "min_height": null,
      "min_width": null,
      "object_fit": null,
      "object_position": null,
      "order": null,
      "overflow": null,
      "overflow_x": null,
      "overflow_y": null,
      "padding": null,
      "right": null,
      "top": null,
      "visibility": null,
      "width": null
     }
    }
   }
  }
 },
 "nbformat": 4,
 "nbformat_minor": 1
}
