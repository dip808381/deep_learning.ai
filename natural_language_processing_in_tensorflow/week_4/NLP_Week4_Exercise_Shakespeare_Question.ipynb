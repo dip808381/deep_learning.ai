{
  "nbformat": 4,
  "nbformat_minor": 0,
  "metadata": {
    "accelerator": "GPU",
    "colab": {
      "name": "NLP_Week4_Exercise_Shakespeare_Question.ipynb",
      "provenance": [],
      "toc_visible": true
    },
    "kernelspec": {
      "display_name": "Python 3",
      "name": "python3"
    }
  },
  "cells": [
    {
      "cell_type": "code",
      "metadata": {
        "id": "zX4Kg8DUTKWO"
      },
      "source": [
        "#@title Licensed under the Apache License, Version 2.0 (the \"License\");\n",
        "# you may not use this file except in compliance with the License.\n",
        "# You may obtain a copy of the License at\n",
        "#\n",
        "# https://www.apache.org/licenses/LICENSE-2.0\n",
        "#\n",
        "# Unless required by applicable law or agreed to in writing, software\n",
        "# distributed under the License is distributed on an \"AS IS\" BASIS,\n",
        "# WITHOUT WARRANTIES OR CONDITIONS OF ANY KIND, either express or implied.\n",
        "# See the License for the specific language governing permissions and\n",
        "# limitations under the License."
      ],
      "execution_count": null,
      "outputs": []
    },
    {
      "cell_type": "code",
      "metadata": {
        "id": "BOwsuGQQY9OL"
      },
      "source": [
        "from tensorflow.keras.preprocessing.sequence import pad_sequences\n",
        "from tensorflow.keras.layers import Embedding, LSTM, Dense, Dropout, Bidirectional\n",
        "from tensorflow.keras.preprocessing.text import Tokenizer\n",
        "from tensorflow.keras.models import Sequential\n",
        "from tensorflow.keras.optimizers import Adam\n",
        "### YOUR CODE HERE\n",
        "from tensorflow.keras import regularizers\n",
        "# Figure out how to import regularizers\n",
        "###\n",
        "import tensorflow.keras.utils as ku \n",
        "import numpy as np "
      ],
      "execution_count": 1,
      "outputs": []
    },
    {
      "cell_type": "code",
      "metadata": {
        "colab": {
          "base_uri": "https://localhost:8080/"
        },
        "id": "PRnDnCW-Z7qv",
        "outputId": "88830ca5-eb13-446d-f627-91c3a84971bd"
      },
      "source": [
        "tokenizer = Tokenizer()\n",
        "!wget --no-check-certificate \\\n",
        "    https://storage.googleapis.com/laurencemoroney-blog.appspot.com/sonnets.txt \\\n",
        "    -O /tmp/sonnets.txt\n",
        "data = open('/tmp/sonnets.txt').read()\n",
        "\n",
        "corpus = data.lower().split(\"\\n\")\n",
        "\n",
        "\n",
        "tokenizer.fit_on_texts(corpus)\n",
        "total_words = len(tokenizer.word_index) + 1\n",
        "\n",
        "# create input sequences using list of tokens\n",
        "input_sequences = []\n",
        "for line in corpus:\n",
        "\ttoken_list = tokenizer.texts_to_sequences([line])[0]\n",
        "\tfor i in range(1, len(token_list)):\n",
        "\t\tn_gram_sequence = token_list[:i+1]\n",
        "\t\tinput_sequences.append(n_gram_sequence)\n",
        "\n",
        "\n",
        "# pad sequences \n",
        "max_sequence_len = max([len(x) for x in input_sequences])\n",
        "input_sequences = np.array(pad_sequences(input_sequences, maxlen=max_sequence_len, padding='pre'))\n",
        "\n",
        "# create predictors and label\n",
        "predictors, label = input_sequences[:,:-1],input_sequences[:,-1]\n",
        "\n",
        "label = ku.to_categorical(label, num_classes=total_words)"
      ],
      "execution_count": 2,
      "outputs": [
        {
          "output_type": "stream",
          "text": [
            "--2021-01-04 15:32:59--  https://storage.googleapis.com/laurencemoroney-blog.appspot.com/sonnets.txt\n",
            "Resolving storage.googleapis.com (storage.googleapis.com)... 173.194.216.128, 173.194.217.128, 172.217.193.128, ...\n",
            "Connecting to storage.googleapis.com (storage.googleapis.com)|173.194.216.128|:443... connected.\n",
            "HTTP request sent, awaiting response... 200 OK\n",
            "Length: 93578 (91K) [text/plain]\n",
            "Saving to: ‘/tmp/sonnets.txt’\n",
            "\n",
            "\r/tmp/sonnets.txt      0%[                    ]       0  --.-KB/s               \r/tmp/sonnets.txt    100%[===================>]  91.38K  --.-KB/s    in 0.002s  \n",
            "\n",
            "2021-01-04 15:32:59 (49.8 MB/s) - ‘/tmp/sonnets.txt’ saved [93578/93578]\n",
            "\n"
          ],
          "name": "stdout"
        }
      ]
    },
    {
      "cell_type": "code",
      "metadata": {
        "colab": {
          "base_uri": "https://localhost:8080/"
        },
        "id": "w9vH8Y59ajYL",
        "outputId": "8033721b-1db2-402f-b0f3-943ab973fdb4"
      },
      "source": [
        "model = Sequential()\n",
        "model.add(Embedding(total_words, 100, input_length=max_sequence_len-1))\n",
        "model.add(Bidirectional(LSTM(150, return_sequences = True)))\n",
        "model.add(Dropout(0.2))\n",
        "model.add(LSTM(100))\n",
        "model.add(Dense(total_words/2, activation='relu', kernel_regularizer=regularizers.l2(0.01)))\n",
        "model.add(Dense(total_words, activation='softmax'))\n",
        "adam = Adam(lr=0.01)\n",
        "model.compile(loss='categorical_crossentropy', optimizer=adam, metrics=['accuracy'])\n",
        "print(model.summary())\n"
      ],
      "execution_count": 5,
      "outputs": [
        {
          "output_type": "stream",
          "text": [
            "Model: \"sequential_2\"\n",
            "_________________________________________________________________\n",
            "Layer (type)                 Output Shape              Param #   \n",
            "=================================================================\n",
            "embedding_2 (Embedding)      (None, 10, 100)           321100    \n",
            "_________________________________________________________________\n",
            "bidirectional_2 (Bidirection (None, 10, 300)           301200    \n",
            "_________________________________________________________________\n",
            "dropout_2 (Dropout)          (None, 10, 300)           0         \n",
            "_________________________________________________________________\n",
            "lstm_5 (LSTM)                (None, 100)               160400    \n",
            "_________________________________________________________________\n",
            "dense (Dense)                (None, 1605)              162105    \n",
            "_________________________________________________________________\n",
            "dense_1 (Dense)              (None, 3211)              5156866   \n",
            "=================================================================\n",
            "Total params: 6,101,671\n",
            "Trainable params: 6,101,671\n",
            "Non-trainable params: 0\n",
            "_________________________________________________________________\n",
            "None\n"
          ],
          "name": "stdout"
        }
      ]
    },
    {
      "cell_type": "code",
      "metadata": {
        "colab": {
          "base_uri": "https://localhost:8080/"
        },
        "id": "AIg2f1HBxqof",
        "outputId": "b20996f4-c3a5-4d10-e4ed-51d28c89c1be"
      },
      "source": [
        " history = model.fit(predictors, label, epochs=100, verbose=1)"
      ],
      "execution_count": 6,
      "outputs": [
        {
          "output_type": "stream",
          "text": [
            "Epoch 1/100\n",
            "484/484 [==============================] - 58s 111ms/step - loss: 7.1385 - accuracy: 0.0209\n",
            "Epoch 2/100\n",
            "484/484 [==============================] - 52s 107ms/step - loss: 6.5191 - accuracy: 0.0221\n",
            "Epoch 3/100\n",
            "484/484 [==============================] - 52s 107ms/step - loss: 6.3853 - accuracy: 0.0280\n",
            "Epoch 4/100\n",
            "484/484 [==============================] - 52s 107ms/step - loss: 6.3386 - accuracy: 0.0332\n",
            "Epoch 5/100\n",
            "484/484 [==============================] - 52s 107ms/step - loss: 6.3118 - accuracy: 0.0296\n",
            "Epoch 6/100\n",
            "484/484 [==============================] - 52s 107ms/step - loss: 6.2375 - accuracy: 0.0323\n",
            "Epoch 7/100\n",
            "484/484 [==============================] - 52s 108ms/step - loss: 6.2393 - accuracy: 0.0334\n",
            "Epoch 8/100\n",
            "484/484 [==============================] - 52s 108ms/step - loss: 6.1875 - accuracy: 0.0399\n",
            "Epoch 9/100\n",
            "484/484 [==============================] - 58s 119ms/step - loss: 6.1455 - accuracy: 0.0380\n",
            "Epoch 10/100\n",
            "484/484 [==============================] - 52s 107ms/step - loss: 6.0943 - accuracy: 0.0410\n",
            "Epoch 11/100\n",
            "484/484 [==============================] - 52s 107ms/step - loss: 6.0228 - accuracy: 0.0411\n",
            "Epoch 12/100\n",
            "484/484 [==============================] - 52s 107ms/step - loss: 5.9686 - accuracy: 0.0438\n",
            "Epoch 13/100\n",
            "484/484 [==============================] - 52s 108ms/step - loss: 5.9734 - accuracy: 0.0424\n",
            "Epoch 14/100\n",
            "484/484 [==============================] - 52s 107ms/step - loss: 5.9145 - accuracy: 0.0454\n",
            "Epoch 15/100\n",
            "484/484 [==============================] - 52s 107ms/step - loss: 5.8897 - accuracy: 0.0477\n",
            "Epoch 16/100\n",
            "484/484 [==============================] - 52s 107ms/step - loss: 5.8704 - accuracy: 0.0477\n",
            "Epoch 17/100\n",
            "484/484 [==============================] - 52s 107ms/step - loss: 5.8511 - accuracy: 0.0464\n",
            "Epoch 18/100\n",
            "484/484 [==============================] - 52s 107ms/step - loss: 5.8537 - accuracy: 0.0491\n",
            "Epoch 19/100\n",
            "484/484 [==============================] - 52s 107ms/step - loss: 5.8052 - accuracy: 0.0493\n",
            "Epoch 20/100\n",
            "484/484 [==============================] - 52s 107ms/step - loss: 5.7820 - accuracy: 0.0502\n",
            "Epoch 21/100\n",
            "484/484 [==============================] - 52s 107ms/step - loss: 5.7486 - accuracy: 0.0539\n",
            "Epoch 22/100\n",
            "484/484 [==============================] - 52s 107ms/step - loss: 5.7168 - accuracy: 0.0553\n",
            "Epoch 23/100\n",
            "484/484 [==============================] - 52s 107ms/step - loss: 5.7105 - accuracy: 0.0583\n",
            "Epoch 24/100\n",
            "484/484 [==============================] - 51s 106ms/step - loss: 5.6697 - accuracy: 0.0558\n",
            "Epoch 25/100\n",
            "484/484 [==============================] - 52s 107ms/step - loss: 5.6337 - accuracy: 0.0585\n",
            "Epoch 26/100\n",
            "484/484 [==============================] - 52s 107ms/step - loss: 5.6171 - accuracy: 0.0581\n",
            "Epoch 27/100\n",
            "484/484 [==============================] - 51s 106ms/step - loss: 5.5824 - accuracy: 0.0614\n",
            "Epoch 28/100\n",
            "484/484 [==============================] - 52s 107ms/step - loss: 5.5783 - accuracy: 0.0600\n",
            "Epoch 29/100\n",
            "484/484 [==============================] - 51s 106ms/step - loss: 5.5598 - accuracy: 0.0623\n",
            "Epoch 30/100\n",
            "484/484 [==============================] - 52s 106ms/step - loss: 5.5430 - accuracy: 0.0601\n",
            "Epoch 31/100\n",
            "484/484 [==============================] - 52s 107ms/step - loss: 5.5260 - accuracy: 0.0589\n",
            "Epoch 32/100\n",
            "484/484 [==============================] - 52s 107ms/step - loss: 5.5008 - accuracy: 0.0649\n",
            "Epoch 33/100\n",
            "484/484 [==============================] - 52s 107ms/step - loss: 5.5091 - accuracy: 0.0649\n",
            "Epoch 34/100\n",
            "484/484 [==============================] - 52s 107ms/step - loss: 5.4584 - accuracy: 0.0674\n",
            "Epoch 35/100\n",
            "484/484 [==============================] - 52s 106ms/step - loss: 5.4947 - accuracy: 0.0670\n",
            "Epoch 36/100\n",
            "484/484 [==============================] - 51s 106ms/step - loss: 5.4527 - accuracy: 0.0675\n",
            "Epoch 37/100\n",
            "484/484 [==============================] - 52s 107ms/step - loss: 5.4555 - accuracy: 0.0682\n",
            "Epoch 38/100\n",
            "484/484 [==============================] - 52s 108ms/step - loss: 5.4508 - accuracy: 0.0678\n",
            "Epoch 39/100\n",
            "484/484 [==============================] - 52s 107ms/step - loss: 5.4280 - accuracy: 0.0712\n",
            "Epoch 40/100\n",
            "484/484 [==============================] - 51s 106ms/step - loss: 5.4544 - accuracy: 0.0683\n",
            "Epoch 41/100\n",
            "484/484 [==============================] - 51s 106ms/step - loss: 5.4314 - accuracy: 0.0680\n",
            "Epoch 42/100\n",
            "484/484 [==============================] - 52s 107ms/step - loss: 5.3917 - accuracy: 0.0727\n",
            "Epoch 43/100\n",
            "484/484 [==============================] - 52s 108ms/step - loss: 5.4126 - accuracy: 0.0725\n",
            "Epoch 44/100\n",
            "484/484 [==============================] - 53s 109ms/step - loss: 5.3987 - accuracy: 0.0664\n",
            "Epoch 45/100\n",
            "484/484 [==============================] - 52s 107ms/step - loss: 5.3936 - accuracy: 0.0692\n",
            "Epoch 46/100\n",
            "484/484 [==============================] - 52s 107ms/step - loss: 5.4201 - accuracy: 0.0668\n",
            "Epoch 47/100\n",
            "484/484 [==============================] - 52s 107ms/step - loss: 5.4016 - accuracy: 0.0713\n",
            "Epoch 48/100\n",
            "484/484 [==============================] - 51s 106ms/step - loss: 5.3876 - accuracy: 0.0663\n",
            "Epoch 49/100\n",
            "484/484 [==============================] - 52s 107ms/step - loss: 5.3853 - accuracy: 0.0704\n",
            "Epoch 50/100\n",
            "484/484 [==============================] - 53s 109ms/step - loss: 5.3678 - accuracy: 0.0736\n",
            "Epoch 51/100\n",
            "484/484 [==============================] - 52s 107ms/step - loss: 5.4136 - accuracy: 0.0689\n",
            "Epoch 52/100\n",
            "484/484 [==============================] - 52s 107ms/step - loss: 5.3993 - accuracy: 0.0696\n",
            "Epoch 53/100\n",
            "484/484 [==============================] - 52s 107ms/step - loss: 5.4064 - accuracy: 0.0681\n",
            "Epoch 54/100\n",
            "484/484 [==============================] - 52s 107ms/step - loss: 5.3480 - accuracy: 0.0694\n",
            "Epoch 55/100\n",
            "484/484 [==============================] - 52s 108ms/step - loss: 5.3731 - accuracy: 0.0707\n",
            "Epoch 56/100\n",
            "484/484 [==============================] - 52s 108ms/step - loss: 5.3736 - accuracy: 0.0709\n",
            "Epoch 57/100\n",
            "484/484 [==============================] - 52s 107ms/step - loss: 5.3673 - accuracy: 0.0706\n",
            "Epoch 58/100\n",
            "484/484 [==============================] - 52s 107ms/step - loss: 5.3543 - accuracy: 0.0751\n",
            "Epoch 59/100\n",
            "484/484 [==============================] - 52s 107ms/step - loss: 5.3876 - accuracy: 0.0684\n",
            "Epoch 60/100\n",
            "484/484 [==============================] - 51s 106ms/step - loss: 5.3364 - accuracy: 0.0731\n",
            "Epoch 61/100\n",
            "484/484 [==============================] - 52s 107ms/step - loss: 5.3252 - accuracy: 0.0726\n",
            "Epoch 62/100\n",
            "484/484 [==============================] - 52s 107ms/step - loss: 5.3506 - accuracy: 0.0698\n",
            "Epoch 63/100\n",
            "484/484 [==============================] - 52s 107ms/step - loss: 5.3447 - accuracy: 0.0728\n",
            "Epoch 64/100\n",
            "484/484 [==============================] - 51s 106ms/step - loss: 5.3421 - accuracy: 0.0717\n",
            "Epoch 65/100\n",
            "484/484 [==============================] - 52s 107ms/step - loss: 5.3338 - accuracy: 0.0716\n",
            "Epoch 66/100\n",
            "484/484 [==============================] - 52s 106ms/step - loss: 5.3769 - accuracy: 0.0700\n",
            "Epoch 67/100\n",
            "484/484 [==============================] - 52s 107ms/step - loss: 5.3325 - accuracy: 0.0750\n",
            "Epoch 68/100\n",
            "484/484 [==============================] - 52s 107ms/step - loss: 5.3185 - accuracy: 0.0724\n",
            "Epoch 69/100\n",
            "484/484 [==============================] - 52s 108ms/step - loss: 5.3337 - accuracy: 0.0699\n",
            "Epoch 70/100\n",
            "484/484 [==============================] - 52s 107ms/step - loss: 5.3470 - accuracy: 0.0710\n",
            "Epoch 71/100\n",
            "484/484 [==============================] - 52s 107ms/step - loss: 5.3397 - accuracy: 0.0700\n",
            "Epoch 72/100\n",
            "484/484 [==============================] - 52s 107ms/step - loss: 5.3382 - accuracy: 0.0677\n",
            "Epoch 73/100\n",
            "484/484 [==============================] - 52s 107ms/step - loss: 5.3212 - accuracy: 0.0729\n",
            "Epoch 74/100\n",
            "484/484 [==============================] - 52s 107ms/step - loss: 5.3205 - accuracy: 0.0693\n",
            "Epoch 75/100\n",
            "484/484 [==============================] - 52s 108ms/step - loss: 5.3344 - accuracy: 0.0695\n",
            "Epoch 76/100\n",
            "484/484 [==============================] - 52s 107ms/step - loss: 5.3475 - accuracy: 0.0679\n",
            "Epoch 77/100\n",
            "484/484 [==============================] - 52s 108ms/step - loss: 5.3245 - accuracy: 0.0668\n",
            "Epoch 78/100\n",
            "484/484 [==============================] - 52s 108ms/step - loss: 5.3646 - accuracy: 0.0783\n",
            "Epoch 79/100\n",
            "484/484 [==============================] - 52s 107ms/step - loss: 5.3426 - accuracy: 0.0743\n",
            "Epoch 80/100\n",
            "484/484 [==============================] - 52s 108ms/step - loss: 5.3208 - accuracy: 0.0746\n",
            "Epoch 81/100\n",
            "484/484 [==============================] - 53s 109ms/step - loss: 5.3387 - accuracy: 0.0693\n",
            "Epoch 82/100\n",
            "484/484 [==============================] - 52s 108ms/step - loss: 5.3574 - accuracy: 0.0748\n",
            "Epoch 83/100\n",
            "484/484 [==============================] - 52s 108ms/step - loss: 5.3627 - accuracy: 0.0677\n",
            "Epoch 84/100\n",
            "484/484 [==============================] - 52s 108ms/step - loss: 5.3690 - accuracy: 0.0715\n",
            "Epoch 85/100\n",
            "484/484 [==============================] - 52s 107ms/step - loss: 5.3590 - accuracy: 0.0678\n",
            "Epoch 86/100\n",
            "484/484 [==============================] - 52s 108ms/step - loss: 5.3105 - accuracy: 0.0666\n",
            "Epoch 87/100\n",
            "484/484 [==============================] - 52s 108ms/step - loss: 5.3441 - accuracy: 0.0719\n",
            "Epoch 88/100\n",
            "484/484 [==============================] - 52s 107ms/step - loss: 5.3183 - accuracy: 0.0730\n",
            "Epoch 89/100\n",
            "484/484 [==============================] - 52s 108ms/step - loss: 5.3277 - accuracy: 0.0718\n",
            "Epoch 90/100\n",
            "484/484 [==============================] - 52s 108ms/step - loss: 5.3394 - accuracy: 0.0714\n",
            "Epoch 91/100\n",
            "484/484 [==============================] - 52s 107ms/step - loss: 5.3117 - accuracy: 0.0753\n",
            "Epoch 92/100\n",
            "484/484 [==============================] - 52s 107ms/step - loss: 5.3127 - accuracy: 0.0709\n",
            "Epoch 93/100\n",
            "484/484 [==============================] - 52s 108ms/step - loss: 5.3067 - accuracy: 0.0734\n",
            "Epoch 94/100\n",
            "484/484 [==============================] - 52s 107ms/step - loss: 5.3495 - accuracy: 0.0736\n",
            "Epoch 95/100\n",
            "484/484 [==============================] - 52s 108ms/step - loss: 5.3780 - accuracy: 0.0689\n",
            "Epoch 96/100\n",
            "484/484 [==============================] - 52s 108ms/step - loss: 5.3053 - accuracy: 0.0731\n",
            "Epoch 97/100\n",
            "484/484 [==============================] - 52s 107ms/step - loss: 5.3560 - accuracy: 0.0681\n",
            "Epoch 98/100\n",
            "484/484 [==============================] - 52s 107ms/step - loss: 5.3517 - accuracy: 0.0703\n",
            "Epoch 99/100\n",
            "484/484 [==============================] - 53s 109ms/step - loss: 5.3107 - accuracy: 0.0718\n",
            "Epoch 100/100\n",
            "484/484 [==============================] - 52s 108ms/step - loss: 5.3366 - accuracy: 0.0682\n"
          ],
          "name": "stdout"
        }
      ]
    },
    {
      "cell_type": "code",
      "metadata": {
        "colab": {
          "base_uri": "https://localhost:8080/",
          "height": 545
        },
        "id": "1fXTEO3GJ282",
        "outputId": "30ba7938-e252-42c6-c959-c9617f64f40d"
      },
      "source": [
        "import matplotlib.pyplot as plt\n",
        "acc = history.history['accuracy']\n",
        "loss = history.history['loss']\n",
        "\n",
        "epochs = range(len(acc))\n",
        "\n",
        "plt.plot(epochs, acc, 'b', label='Training accuracy')\n",
        "plt.title('Training accuracy')\n",
        "\n",
        "plt.figure()\n",
        "\n",
        "plt.plot(epochs, loss, 'b', label='Training Loss')\n",
        "plt.title('Training loss')\n",
        "plt.legend()\n",
        "\n",
        "plt.show()"
      ],
      "execution_count": 7,
      "outputs": [
        {
          "output_type": "display_data",
          "data": {
            "image/png": "[encoded data removed]",
            "text/plain": [
              "<Figure size 432x288 with 1 Axes>"
            ]
          },
          "metadata": {
            "tags": [],
            "needs_background": "light"
          }
        },
        {
          "output_type": "display_data",
          "data": {
            "image/png": "[encoded data removed]",
            "text/plain": [
              "<Figure size 432x288 with 1 Axes>"
            ]
          },
          "metadata": {
            "tags": [],
            "needs_background": "light"
          }
        }
      ]
    },
    {
      "cell_type": "code",
      "metadata": {
        "colab": {
          "base_uri": "https://localhost:8080/"
        },
        "id": "6Vc6PHgxa6Hm",
        "outputId": "3fb48130-c926-4231-e6d5-1af76bb693e4"
      },
      "source": [
        "seed_text = \"Help me Obi Wan Kenobi, you're my only hope\"\n",
        "next_words = 100\n",
        "  \n",
        "for _ in range(next_words):\n",
        "\ttoken_list = tokenizer.texts_to_sequences([seed_text])[0]\n",
        "\ttoken_list = pad_sequences([token_list], maxlen=max_sequence_len-1, padding='pre')\n",
        "\tpredicted = model.predict_classes(token_list, verbose=0)\n",
        "\toutput_word = \"\"\n",
        "\tfor word, index in tokenizer.word_index.items():\n",
        "\t\tif index == predicted:\n",
        "\t\t\toutput_word = word\n",
        "\t\t\tbreak\n",
        "\tseed_text += \" \" + output_word\n",
        "print(seed_text)"
      ],
      "execution_count": 8,
      "outputs": [
        {
          "output_type": "stream",
          "text": [
            "/usr/local/lib/python3.6/dist-packages/tensorflow/python/keras/engine/sequential.py:450: UserWarning: `model.predict_classes()` is deprecated and will be removed after 2021-01-01. Please use instead:* `np.argmax(model.predict(x), axis=-1)`,   if your model does multi-class classification   (e.g. if it uses a `softmax` last-layer activation).* `(model.predict(x) > 0.5).astype(\"int32\")`,   if your model does binary classification   (e.g. if it uses a `sigmoid` last-layer activation).\n",
            "  warnings.warn('`model.predict_classes()` is deprecated and '\n"
          ],
          "name": "stderr"
        },
        {
          "output_type": "stream",
          "text": [
            "Help me Obi Wan Kenobi, you're my only hope and i have i have i have i have i have i have i have i have i have i have i have i have i have i have i have i have i have i have i have i have i have i have i have i have i have i have i have i have i have i have i have i have i have i have i have i have i have i have i have i have i have i have i have i have i have i have i have i have i have i\n"
          ],
          "name": "stdout"
        }
      ]
    }
  ]
}